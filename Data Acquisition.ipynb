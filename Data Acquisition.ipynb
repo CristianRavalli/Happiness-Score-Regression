{
 "cells": [
  {
   "cell_type": "markdown",
   "id": "4f29add7",
   "metadata": {},
   "source": [
    "# Executive Summary"
   ]
  },
  {
   "cell_type": "markdown",
   "id": "5fcadf7d",
   "metadata": {},
   "source": [
    "The aim of the project is to investigate whether we could find quantitative features that allow us to predict the happiness score better than using the original predominately survey-based data (qualitative). \n",
    "\n",
    "Evaluating metrics were various R2 scores and RMSE scores for our models. \n",
    "\n",
    "We could achieve significant results by using our own features, which were less biased because of their quantitative nature.\n",
    "\n",
    "There was less variance using quantitative features instead of the qualitative features from the original dataset. The same held true for accuracy score of our quantitative features when compared to the model run with the qualitative (original data) features.\n",
    "\n",
    "The limitations are currently that I kept all the quantitative features in my model despite there being moderate collinearity. The perception of corruption data, which had ~ 6% outliers, is likely to reduce the score of the model running with the original happiness score features. We could further investigate the statistical significance (p-values) of my features to potentially further improve score and reduce RMSE of both models."
   ]
  },
  {
   "cell_type": "markdown",
   "id": "6bf4d681",
   "metadata": {},
   "source": [
    "# World Happiness Data"
   ]
  },
  {
   "cell_type": "markdown",
   "id": "329033fe",
   "metadata": {},
   "source": [
    "## Data Acquisition"
   ]
  },
  {
   "cell_type": "code",
   "execution_count": 1,
   "id": "bb6c0e7c",
   "metadata": {},
   "outputs": [],
   "source": [
    "import numpy as np\n",
    "import scipy.stats as stats\n",
    "import seaborn as sns\n",
    "import matplotlib.pyplot as plt\n",
    "import pandas as pd\n",
    "\n",
    "#sklearn\n",
    "from sklearn.model_selection import train_test_split\n",
    "from sklearn.impute import SimpleImputer, KNNImputer\n",
    "\n",
    "plt.style.use('ggplot')\n",
    "\n",
    "%config InlineBackend.figure_format = 'retina'\n",
    "%matplotlib inline"
   ]
  },
  {
   "cell_type": "code",
   "execution_count": 2,
   "id": "7499f80b",
   "metadata": {},
   "outputs": [],
   "source": [
    "# Read in original CSV file downloaded from the internet\n",
    "whr= pd.read_csv('whr.csv')"
   ]
  },
  {
   "cell_type": "code",
   "execution_count": 3,
   "id": "5c135372",
   "metadata": {},
   "outputs": [
    {
     "data": {
      "text/html": [
       "<div>\n",
       "<style scoped>\n",
       "    .dataframe tbody tr th:only-of-type {\n",
       "        vertical-align: middle;\n",
       "    }\n",
       "\n",
       "    .dataframe tbody tr th {\n",
       "        vertical-align: top;\n",
       "    }\n",
       "\n",
       "    .dataframe thead th {\n",
       "        text-align: right;\n",
       "    }\n",
       "</style>\n",
       "<table border=\"1\" class=\"dataframe\">\n",
       "  <thead>\n",
       "    <tr style=\"text-align: right;\">\n",
       "      <th></th>\n",
       "      <th>Country name</th>\n",
       "      <th>year</th>\n",
       "      <th>Life Ladder</th>\n",
       "      <th>Log GDP per capita</th>\n",
       "      <th>Social support</th>\n",
       "      <th>Healthy life expectancy at birth</th>\n",
       "      <th>Freedom to make life choices</th>\n",
       "      <th>Generosity</th>\n",
       "      <th>Perceptions of corruption</th>\n",
       "      <th>Positive affect</th>\n",
       "      <th>Negative affect</th>\n",
       "    </tr>\n",
       "  </thead>\n",
       "  <tbody>\n",
       "    <tr>\n",
       "      <th>1313</th>\n",
       "      <td>Pakistan</td>\n",
       "      <td>2008</td>\n",
       "      <td>4.414</td>\n",
       "      <td>8.271</td>\n",
       "      <td>0.373</td>\n",
       "      <td>55.40</td>\n",
       "      <td>0.335</td>\n",
       "      <td>0.100</td>\n",
       "      <td>0.848</td>\n",
       "      <td>0.655</td>\n",
       "      <td>0.321</td>\n",
       "    </tr>\n",
       "    <tr>\n",
       "      <th>1233</th>\n",
       "      <td>New Zealand</td>\n",
       "      <td>2015</td>\n",
       "      <td>7.418</td>\n",
       "      <td>10.608</td>\n",
       "      <td>0.987</td>\n",
       "      <td>72.60</td>\n",
       "      <td>0.942</td>\n",
       "      <td>0.329</td>\n",
       "      <td>0.186</td>\n",
       "      <td>0.834</td>\n",
       "      <td>0.160</td>\n",
       "    </tr>\n",
       "    <tr>\n",
       "      <th>1793</th>\n",
       "      <td>Ukraine</td>\n",
       "      <td>2006</td>\n",
       "      <td>4.804</td>\n",
       "      <td>9.380</td>\n",
       "      <td>0.852</td>\n",
       "      <td>60.12</td>\n",
       "      <td>0.624</td>\n",
       "      <td>-0.257</td>\n",
       "      <td>0.929</td>\n",
       "      <td>0.622</td>\n",
       "      <td>0.249</td>\n",
       "    </tr>\n",
       "  </tbody>\n",
       "</table>\n",
       "</div>"
      ],
      "text/plain": [
       "     Country name  year  Life Ladder  Log GDP per capita  Social support  \\\n",
       "1313     Pakistan  2008        4.414               8.271           0.373   \n",
       "1233  New Zealand  2015        7.418              10.608           0.987   \n",
       "1793      Ukraine  2006        4.804               9.380           0.852   \n",
       "\n",
       "      Healthy life expectancy at birth  Freedom to make life choices  \\\n",
       "1313                             55.40                         0.335   \n",
       "1233                             72.60                         0.942   \n",
       "1793                             60.12                         0.624   \n",
       "\n",
       "      Generosity  Perceptions of corruption  Positive affect  Negative affect  \n",
       "1313       0.100                      0.848            0.655            0.321  \n",
       "1233       0.329                      0.186            0.834            0.160  \n",
       "1793      -0.257                      0.929            0.622            0.249  "
      ]
     },
     "execution_count": 3,
     "metadata": {},
     "output_type": "execute_result"
    }
   ],
   "source": [
    "whr.sample(3)"
   ]
  },
  {
   "cell_type": "code",
   "execution_count": 4,
   "id": "a84d04a7",
   "metadata": {},
   "outputs": [
    {
     "name": "stdout",
     "output_type": "stream",
     "text": [
      "<class 'pandas.core.frame.DataFrame'>\n",
      "RangeIndex: 1949 entries, 0 to 1948\n",
      "Data columns (total 11 columns):\n",
      " #   Column                            Non-Null Count  Dtype  \n",
      "---  ------                            --------------  -----  \n",
      " 0   Country name                      1949 non-null   object \n",
      " 1   year                              1949 non-null   int64  \n",
      " 2   Life Ladder                       1949 non-null   float64\n",
      " 3   Log GDP per capita                1913 non-null   float64\n",
      " 4   Social support                    1936 non-null   float64\n",
      " 5   Healthy life expectancy at birth  1894 non-null   float64\n",
      " 6   Freedom to make life choices      1917 non-null   float64\n",
      " 7   Generosity                        1860 non-null   float64\n",
      " 8   Perceptions of corruption         1839 non-null   float64\n",
      " 9   Positive affect                   1927 non-null   float64\n",
      " 10  Negative affect                   1933 non-null   float64\n",
      "dtypes: float64(9), int64(1), object(1)\n",
      "memory usage: 167.6+ KB\n"
     ]
    }
   ],
   "source": [
    "# Includes all the information about the df including shape (11, 1948)\n",
    "whr.info()"
   ]
  },
  {
   "cell_type": "code",
   "execution_count": 5,
   "id": "c7829172",
   "metadata": {},
   "outputs": [
    {
     "name": "stdout",
     "output_type": "stream",
     "text": [
      "The total number of numerical columns is 10.\n",
      "The total number of object (categorical) columns is 1.\n",
      "Total fixed features is 11.\n"
     ]
    }
   ],
   "source": [
    "#number of numerical and string columns in the original dataframe\n",
    "\n",
    "num_cols = whr.select_dtypes('number').columns\n",
    "cat_cols = whr.select_dtypes('object').columns\n",
    "\n",
    "print(f\"The total number of numerical columns is {len(num_cols)}.\")\n",
    "print(f\"The total number of object (categorical) columns is {len(cat_cols)}.\")\n",
    "print(f\"Total fixed features is {len(num_cols) + len(cat_cols)}.\")"
   ]
  },
  {
   "cell_type": "code",
   "execution_count": 6,
   "id": "9e7b1c1a",
   "metadata": {},
   "outputs": [
    {
     "data": {
      "text/html": [
       "<div>\n",
       "<style scoped>\n",
       "    .dataframe tbody tr th:only-of-type {\n",
       "        vertical-align: middle;\n",
       "    }\n",
       "\n",
       "    .dataframe tbody tr th {\n",
       "        vertical-align: top;\n",
       "    }\n",
       "\n",
       "    .dataframe thead th {\n",
       "        text-align: right;\n",
       "    }\n",
       "</style>\n",
       "<table border=\"1\" class=\"dataframe\">\n",
       "  <thead>\n",
       "    <tr style=\"text-align: right;\">\n",
       "      <th></th>\n",
       "      <th>Country name</th>\n",
       "      <th>year</th>\n",
       "      <th>Life Ladder</th>\n",
       "      <th>Log GDP per capita</th>\n",
       "      <th>Social support</th>\n",
       "      <th>Healthy life expectancy at birth</th>\n",
       "      <th>Freedom to make life choices</th>\n",
       "      <th>Generosity</th>\n",
       "      <th>Perceptions of corruption</th>\n",
       "      <th>Positive affect</th>\n",
       "      <th>Negative affect</th>\n",
       "    </tr>\n",
       "  </thead>\n",
       "  <tbody>\n",
       "    <tr>\n",
       "      <th>0</th>\n",
       "      <td>Afghanistan</td>\n",
       "      <td>2008</td>\n",
       "      <td>3.724</td>\n",
       "      <td>7.370</td>\n",
       "      <td>0.451</td>\n",
       "      <td>50.80</td>\n",
       "      <td>0.718</td>\n",
       "      <td>0.168</td>\n",
       "      <td>0.882</td>\n",
       "      <td>0.518</td>\n",
       "      <td>0.258</td>\n",
       "    </tr>\n",
       "    <tr>\n",
       "      <th>1</th>\n",
       "      <td>Afghanistan</td>\n",
       "      <td>2009</td>\n",
       "      <td>4.402</td>\n",
       "      <td>7.540</td>\n",
       "      <td>0.552</td>\n",
       "      <td>51.20</td>\n",
       "      <td>0.679</td>\n",
       "      <td>0.190</td>\n",
       "      <td>0.850</td>\n",
       "      <td>0.584</td>\n",
       "      <td>0.237</td>\n",
       "    </tr>\n",
       "    <tr>\n",
       "      <th>2</th>\n",
       "      <td>Afghanistan</td>\n",
       "      <td>2010</td>\n",
       "      <td>4.758</td>\n",
       "      <td>7.647</td>\n",
       "      <td>0.539</td>\n",
       "      <td>51.60</td>\n",
       "      <td>0.600</td>\n",
       "      <td>0.121</td>\n",
       "      <td>0.707</td>\n",
       "      <td>0.618</td>\n",
       "      <td>0.275</td>\n",
       "    </tr>\n",
       "    <tr>\n",
       "      <th>3</th>\n",
       "      <td>Afghanistan</td>\n",
       "      <td>2011</td>\n",
       "      <td>3.832</td>\n",
       "      <td>7.620</td>\n",
       "      <td>0.521</td>\n",
       "      <td>51.92</td>\n",
       "      <td>0.496</td>\n",
       "      <td>0.162</td>\n",
       "      <td>0.731</td>\n",
       "      <td>0.611</td>\n",
       "      <td>0.267</td>\n",
       "    </tr>\n",
       "    <tr>\n",
       "      <th>4</th>\n",
       "      <td>Afghanistan</td>\n",
       "      <td>2012</td>\n",
       "      <td>3.783</td>\n",
       "      <td>7.705</td>\n",
       "      <td>0.521</td>\n",
       "      <td>52.24</td>\n",
       "      <td>0.531</td>\n",
       "      <td>0.236</td>\n",
       "      <td>0.776</td>\n",
       "      <td>0.710</td>\n",
       "      <td>0.268</td>\n",
       "    </tr>\n",
       "  </tbody>\n",
       "</table>\n",
       "</div>"
      ],
      "text/plain": [
       "  Country name  year  Life Ladder  Log GDP per capita  Social support  \\\n",
       "0  Afghanistan  2008        3.724               7.370           0.451   \n",
       "1  Afghanistan  2009        4.402               7.540           0.552   \n",
       "2  Afghanistan  2010        4.758               7.647           0.539   \n",
       "3  Afghanistan  2011        3.832               7.620           0.521   \n",
       "4  Afghanistan  2012        3.783               7.705           0.521   \n",
       "\n",
       "   Healthy life expectancy at birth  Freedom to make life choices  Generosity  \\\n",
       "0                             50.80                         0.718       0.168   \n",
       "1                             51.20                         0.679       0.190   \n",
       "2                             51.60                         0.600       0.121   \n",
       "3                             51.92                         0.496       0.162   \n",
       "4                             52.24                         0.531       0.236   \n",
       "\n",
       "   Perceptions of corruption  Positive affect  Negative affect  \n",
       "0                      0.882            0.518            0.258  \n",
       "1                      0.850            0.584            0.237  \n",
       "2                      0.707            0.618            0.275  \n",
       "3                      0.731            0.611            0.267  \n",
       "4                      0.776            0.710            0.268  "
      ]
     },
     "execution_count": 6,
     "metadata": {},
     "output_type": "execute_result"
    }
   ],
   "source": [
    "whr.head()"
   ]
  },
  {
   "cell_type": "code",
   "execution_count": 7,
   "id": "3574b0e6",
   "metadata": {},
   "outputs": [
    {
     "data": {
      "text/plain": [
       "Index(['Country name', 'year', 'Life Ladder', 'Log GDP per capita',\n",
       "       'Social support', 'Healthy life expectancy at birth',\n",
       "       'Freedom to make life choices', 'Generosity',\n",
       "       'Perceptions of corruption', 'Positive affect', 'Negative affect'],\n",
       "      dtype='object')"
      ]
     },
     "execution_count": 7,
     "metadata": {},
     "output_type": "execute_result"
    }
   ],
   "source": [
    "whr.columns"
   ]
  },
  {
   "cell_type": "markdown",
   "id": "26072f04",
   "metadata": {},
   "source": [
    "### Initial EDA on Original Happiness Data"
   ]
  },
  {
   "cell_type": "markdown",
   "id": "4b974dcc",
   "metadata": {},
   "source": [
    "#### Correlation"
   ]
  },
  {
   "cell_type": "code",
   "execution_count": 8,
   "id": "f6edb559",
   "metadata": {},
   "outputs": [],
   "source": [
    "# Creating df without country name to investigate collinaerity\n",
    "whr_corr = whr[['Life Ladder','year',  'Log GDP per capita',\n",
    "       'Social support', 'Healthy life expectancy at birth',\n",
    "       'Freedom to make life choices', 'Generosity',\n",
    "       'Perceptions of corruption', 'Positive affect', 'Negative affect']]"
   ]
  },
  {
   "cell_type": "code",
   "execution_count": 9,
   "id": "8a190a8a",
   "metadata": {},
   "outputs": [],
   "source": [
    "corr = whr_corr.corr()"
   ]
  },
  {
   "cell_type": "code",
   "execution_count": 10,
   "id": "fbb205f9",
   "metadata": {},
   "outputs": [
    {
     "data": {
      "image/png": "[encoded data removed]",
      "text/plain": [
       "<Figure size 864x864 with 2 Axes>"
      ]
     },
     "metadata": {
      "image/png": {
       "height": 836,
       "width": 813
      },
      "needs_background": "light"
     },
     "output_type": "display_data"
    }
   ],
   "source": [
    "plt.figure(figsize = (12,12))\n",
    "sns.heatmap(corr, annot=True, cmap='coolwarm', \n",
    "            linecolor='white', linewidths=1);"
   ]
  },
  {
   "cell_type": "markdown",
   "id": "ea796855",
   "metadata": {},
   "source": [
    "##### Moderate correlations standing out"
   ]
  },
  {
   "cell_type": "markdown",
   "id": "72904159",
   "metadata": {},
   "source": [
    "There are a couple of moderate positive (.5 -.7) correlations. These are between:\n",
    "\n",
    "- GDP per capita and Social Support (.69)\n",
    "- GDP per capita and Healthy Life (.85), high positive correlation\n",
    "- Healthy Life and Social Support (.62)\n"
   ]
  },
  {
   "cell_type": "markdown",
   "id": "6c534ab8",
   "metadata": {},
   "source": [
    "The collinearity is not as prevalent as expected. Nevertheless, we will find some more data to help us predict the happiness score of a country which isn't yet in the dataset.\n",
    "At this stage, we note that GDP (log) has a high collinearity with social support and healthy life feature. Provided that this is more of a quantitative feature than a qualitative feature, we will drop this."
   ]
  },
  {
   "cell_type": "markdown",
   "id": "565f9f35",
   "metadata": {},
   "source": [
    "### Adding some more data to our dataset"
   ]
  },
  {
   "cell_type": "code",
   "execution_count": 11,
   "id": "de7a9fd4",
   "metadata": {},
   "outputs": [],
   "source": [
    "# Importing some alcohol related data\n",
    "alc = pd.read_csv('alcohol-consumption-vs-gdp-per-capita.csv')"
   ]
  },
  {
   "cell_type": "code",
   "execution_count": 12,
   "id": "6eacba17",
   "metadata": {
    "scrolled": true
   },
   "outputs": [
    {
     "data": {
      "text/html": [
       "<div>\n",
       "<style scoped>\n",
       "    .dataframe tbody tr th:only-of-type {\n",
       "        vertical-align: middle;\n",
       "    }\n",
       "\n",
       "    .dataframe tbody tr th {\n",
       "        vertical-align: top;\n",
       "    }\n",
       "\n",
       "    .dataframe thead th {\n",
       "        text-align: right;\n",
       "    }\n",
       "</style>\n",
       "<table border=\"1\" class=\"dataframe\">\n",
       "  <thead>\n",
       "    <tr style=\"text-align: right;\">\n",
       "      <th></th>\n",
       "      <th>Entity</th>\n",
       "      <th>Code</th>\n",
       "      <th>Year</th>\n",
       "      <th>Total alcohol consumption per capita (liters of pure alcohol, projected estimates, 15+ years of age)</th>\n",
       "      <th>GDP per capita, PPP (constant 2017 international $)</th>\n",
       "      <th>Population (historical estimates)</th>\n",
       "      <th>Continent</th>\n",
       "    </tr>\n",
       "  </thead>\n",
       "  <tbody>\n",
       "    <tr>\n",
       "      <th>0</th>\n",
       "      <td>Abkhazia</td>\n",
       "      <td>OWID_ABK</td>\n",
       "      <td>2015</td>\n",
       "      <td>NaN</td>\n",
       "      <td>NaN</td>\n",
       "      <td>NaN</td>\n",
       "      <td>Asia</td>\n",
       "    </tr>\n",
       "    <tr>\n",
       "      <th>1</th>\n",
       "      <td>Afghanistan</td>\n",
       "      <td>AFG</td>\n",
       "      <td>2010</td>\n",
       "      <td>0.21</td>\n",
       "      <td>1957.029070</td>\n",
       "      <td>29185511.0</td>\n",
       "      <td>NaN</td>\n",
       "    </tr>\n",
       "    <tr>\n",
       "      <th>2</th>\n",
       "      <td>Afghanistan</td>\n",
       "      <td>AFG</td>\n",
       "      <td>2015</td>\n",
       "      <td>0.21</td>\n",
       "      <td>2068.265904</td>\n",
       "      <td>34413603.0</td>\n",
       "      <td>Asia</td>\n",
       "    </tr>\n",
       "    <tr>\n",
       "      <th>3</th>\n",
       "      <td>Afghanistan</td>\n",
       "      <td>AFG</td>\n",
       "      <td>2018</td>\n",
       "      <td>0.21</td>\n",
       "      <td>2033.804389</td>\n",
       "      <td>37171922.0</td>\n",
       "      <td>NaN</td>\n",
       "    </tr>\n",
       "    <tr>\n",
       "      <th>4</th>\n",
       "      <td>Afghanistan</td>\n",
       "      <td>AFG</td>\n",
       "      <td>2002</td>\n",
       "      <td>NaN</td>\n",
       "      <td>1189.784668</td>\n",
       "      <td>22600774.0</td>\n",
       "      <td>NaN</td>\n",
       "    </tr>\n",
       "  </tbody>\n",
       "</table>\n",
       "</div>"
      ],
      "text/plain": [
       "        Entity      Code  Year  \\\n",
       "0     Abkhazia  OWID_ABK  2015   \n",
       "1  Afghanistan       AFG  2010   \n",
       "2  Afghanistan       AFG  2015   \n",
       "3  Afghanistan       AFG  2018   \n",
       "4  Afghanistan       AFG  2002   \n",
       "\n",
       "   Total alcohol consumption per capita (liters of pure alcohol, projected estimates, 15+ years of age)  \\\n",
       "0                                                NaN                                                      \n",
       "1                                               0.21                                                      \n",
       "2                                               0.21                                                      \n",
       "3                                               0.21                                                      \n",
       "4                                                NaN                                                      \n",
       "\n",
       "   GDP per capita, PPP (constant 2017 international $)  \\\n",
       "0                                                NaN     \n",
       "1                                        1957.029070     \n",
       "2                                        2068.265904     \n",
       "3                                        2033.804389     \n",
       "4                                        1189.784668     \n",
       "\n",
       "   Population (historical estimates) Continent  \n",
       "0                                NaN      Asia  \n",
       "1                         29185511.0       NaN  \n",
       "2                         34413603.0      Asia  \n",
       "3                         37171922.0       NaN  \n",
       "4                         22600774.0       NaN  "
      ]
     },
     "execution_count": 12,
     "metadata": {},
     "output_type": "execute_result"
    }
   ],
   "source": [
    "alc.head()"
   ]
  },
  {
   "cell_type": "code",
   "execution_count": 13,
   "id": "735db32d",
   "metadata": {},
   "outputs": [
    {
     "data": {
      "text/plain": [
       "(57084, 7)"
      ]
     },
     "execution_count": 13,
     "metadata": {},
     "output_type": "execute_result"
    }
   ],
   "source": [
    "alc.shape"
   ]
  },
  {
   "cell_type": "code",
   "execution_count": 14,
   "id": "b7afdc91",
   "metadata": {},
   "outputs": [],
   "source": [
    "# Creating a new dataframe using just Population estimates and\n",
    "# Total alcohol consumptin per capita\n",
    "alc_clean = alc.copy()"
   ]
  },
  {
   "cell_type": "code",
   "execution_count": 15,
   "id": "3ed22371",
   "metadata": {},
   "outputs": [
    {
     "data": {
      "text/plain": [
       "Index(['Entity', 'Code', 'Year',\n",
       "       'Total alcohol consumption per capita (liters of pure alcohol, projected estimates, 15+ years of age)',\n",
       "       'GDP per capita, PPP (constant 2017 international $)',\n",
       "       'Population (historical estimates)', 'Continent'],\n",
       "      dtype='object')"
      ]
     },
     "execution_count": 15,
     "metadata": {},
     "output_type": "execute_result"
    }
   ],
   "source": [
    "alc.columns"
   ]
  },
  {
   "cell_type": "code",
   "execution_count": 16,
   "id": "dead2592",
   "metadata": {},
   "outputs": [],
   "source": [
    "#renaming columns\n",
    "alc_clean.rename(columns = {\n",
    "    'Total alcohol consumption per capita (liters of pure alcohol, projected estimates, 15+ years of age)':\n",
    "    'tot_alc_cons',\n",
    "    'Population (historical estimates)':'population'}, inplace = True)"
   ]
  },
  {
   "cell_type": "code",
   "execution_count": 17,
   "id": "3fbe01b5",
   "metadata": {},
   "outputs": [],
   "source": [
    "alc_clean = alc_clean[['Entity', 'Year', 'tot_alc_cons', 'population']]"
   ]
  },
  {
   "cell_type": "code",
   "execution_count": 18,
   "id": "3d09bc05",
   "metadata": {},
   "outputs": [
    {
     "data": {
      "text/html": [
       "<div>\n",
       "<style scoped>\n",
       "    .dataframe tbody tr th:only-of-type {\n",
       "        vertical-align: middle;\n",
       "    }\n",
       "\n",
       "    .dataframe tbody tr th {\n",
       "        vertical-align: top;\n",
       "    }\n",
       "\n",
       "    .dataframe thead th {\n",
       "        text-align: right;\n",
       "    }\n",
       "</style>\n",
       "<table border=\"1\" class=\"dataframe\">\n",
       "  <thead>\n",
       "    <tr style=\"text-align: right;\">\n",
       "      <th></th>\n",
       "      <th>Entity</th>\n",
       "      <th>Year</th>\n",
       "      <th>tot_alc_cons</th>\n",
       "      <th>population</th>\n",
       "    </tr>\n",
       "  </thead>\n",
       "  <tbody>\n",
       "    <tr>\n",
       "      <th>25721</th>\n",
       "      <td>Kazakhstan</td>\n",
       "      <td>1839</td>\n",
       "      <td>NaN</td>\n",
       "      <td>2428374.0</td>\n",
       "    </tr>\n",
       "  </tbody>\n",
       "</table>\n",
       "</div>"
      ],
      "text/plain": [
       "           Entity  Year  tot_alc_cons  population\n",
       "25721  Kazakhstan  1839           NaN   2428374.0"
      ]
     },
     "execution_count": 18,
     "metadata": {},
     "output_type": "execute_result"
    }
   ],
   "source": [
    "alc_clean.sample()"
   ]
  },
  {
   "cell_type": "code",
   "execution_count": 19,
   "id": "a4f9ccff",
   "metadata": {},
   "outputs": [
    {
     "data": {
      "text/plain": [
       "Index(['Country name', 'year', 'Life Ladder', 'Log GDP per capita',\n",
       "       'Social support', 'Healthy life expectancy at birth',\n",
       "       'Freedom to make life choices', 'Generosity',\n",
       "       'Perceptions of corruption', 'Positive affect', 'Negative affect'],\n",
       "      dtype='object')"
      ]
     },
     "execution_count": 19,
     "metadata": {},
     "output_type": "execute_result"
    }
   ],
   "source": [
    "whr.columns"
   ]
  },
  {
   "cell_type": "code",
   "execution_count": 20,
   "id": "5122f42c",
   "metadata": {},
   "outputs": [],
   "source": [
    "#renaming columns to allign names with original dataframe for merging purposes\n",
    "alc_clean.rename(columns = {'Entity':'Country name',\n",
    "                           'Year':'year'}, inplace = True)"
   ]
  },
  {
   "cell_type": "code",
   "execution_count": 21,
   "id": "4aaeda9f",
   "metadata": {},
   "outputs": [
    {
     "data": {
      "text/html": [
       "<div>\n",
       "<style scoped>\n",
       "    .dataframe tbody tr th:only-of-type {\n",
       "        vertical-align: middle;\n",
       "    }\n",
       "\n",
       "    .dataframe tbody tr th {\n",
       "        vertical-align: top;\n",
       "    }\n",
       "\n",
       "    .dataframe thead th {\n",
       "        text-align: right;\n",
       "    }\n",
       "</style>\n",
       "<table border=\"1\" class=\"dataframe\">\n",
       "  <thead>\n",
       "    <tr style=\"text-align: right;\">\n",
       "      <th></th>\n",
       "      <th>Country name</th>\n",
       "      <th>year</th>\n",
       "      <th>tot_alc_cons</th>\n",
       "      <th>population</th>\n",
       "    </tr>\n",
       "  </thead>\n",
       "  <tbody>\n",
       "    <tr>\n",
       "      <th>55384</th>\n",
       "      <td>Venezuela</td>\n",
       "      <td>1804</td>\n",
       "      <td>NaN</td>\n",
       "      <td>915524.0</td>\n",
       "    </tr>\n",
       "  </tbody>\n",
       "</table>\n",
       "</div>"
      ],
      "text/plain": [
       "      Country name  year  tot_alc_cons  population\n",
       "55384    Venezuela  1804           NaN    915524.0"
      ]
     },
     "execution_count": 21,
     "metadata": {},
     "output_type": "execute_result"
    }
   ],
   "source": [
    "alc_clean.sample()"
   ]
  },
  {
   "cell_type": "code",
   "execution_count": 22,
   "id": "e05101aa",
   "metadata": {},
   "outputs": [
    {
     "data": {
      "text/plain": [
       "Country name     object\n",
       "year              int64\n",
       "tot_alc_cons    float64\n",
       "population      float64\n",
       "dtype: object"
      ]
     },
     "execution_count": 22,
     "metadata": {},
     "output_type": "execute_result"
    }
   ],
   "source": [
    "alc_clean.dtypes"
   ]
  },
  {
   "cell_type": "code",
   "execution_count": 23,
   "id": "1190212f",
   "metadata": {},
   "outputs": [],
   "source": [
    "# Make a copy of both dfs to avoid loosing anything before joining\n",
    "df_w = whr.copy()\n",
    "df_a = alc_clean.copy()"
   ]
  },
  {
   "cell_type": "code",
   "execution_count": 24,
   "id": "a580491c",
   "metadata": {},
   "outputs": [
    {
     "data": {
      "text/plain": [
       "Country name        0\n",
       "year                0\n",
       "tot_alc_cons    55920\n",
       "population       1428\n",
       "dtype: int64"
      ]
     },
     "execution_count": 24,
     "metadata": {},
     "output_type": "execute_result"
    }
   ],
   "source": [
    "# Finding missing values\n",
    "df_a.isnull().sum()"
   ]
  },
  {
   "cell_type": "code",
   "execution_count": 25,
   "id": "747269e0",
   "metadata": {},
   "outputs": [
    {
     "data": {
      "text/plain": [
       "(57084, 4)"
      ]
     },
     "execution_count": 25,
     "metadata": {},
     "output_type": "execute_result"
    }
   ],
   "source": [
    "# Newly created alcohol related dataframe\n",
    "df_a.shape"
   ]
  },
  {
   "cell_type": "code",
   "execution_count": 26,
   "id": "6ab39e19",
   "metadata": {},
   "outputs": [
    {
     "data": {
      "text/plain": [
       "Country name                         object\n",
       "year                                  int64\n",
       "Life Ladder                         float64\n",
       "Log GDP per capita                  float64\n",
       "Social support                      float64\n",
       "Healthy life expectancy at birth    float64\n",
       "Freedom to make life choices        float64\n",
       "Generosity                          float64\n",
       "Perceptions of corruption           float64\n",
       "Positive affect                     float64\n",
       "Negative affect                     float64\n",
       "dtype: object"
      ]
     },
     "execution_count": 26,
     "metadata": {},
     "output_type": "execute_result"
    }
   ],
   "source": [
    "# Original dataframe world happiness report\n",
    "df_w.dtypes"
   ]
  },
  {
   "cell_type": "code",
   "execution_count": 27,
   "id": "c878be54",
   "metadata": {},
   "outputs": [
    {
     "data": {
      "text/plain": [
       "array(['Abkhazia', 'Afghanistan', 'Africa', 'Africa Eastern and Southern',\n",
       "       'Africa Western and Central', 'Akrotiri and Dhekelia', 'Albania',\n",
       "       'Algeria', 'American Samoa', 'Andorra', 'Angola', 'Anguilla',\n",
       "       'Antarctica', 'Antigua and Barbuda', 'Arab World', 'Argentina',\n",
       "       'Armenia', 'Aruba', 'Asia', 'Australia'], dtype=object)"
      ]
     },
     "execution_count": 27,
     "metadata": {},
     "output_type": "execute_result"
    }
   ],
   "source": [
    "# Investigating amount of countries\n",
    "df_a['Country name'].unique()[:20]"
   ]
  },
  {
   "cell_type": "code",
   "execution_count": 28,
   "id": "bd9e26f1",
   "metadata": {},
   "outputs": [
    {
     "data": {
      "text/plain": [
       "array([  2015,   2010,   2018,   2002,   2003,   2004,   2005,   2006,\n",
       "         2007,   2008,   2009,   2011,   2012,   2013,   2014,   2016,\n",
       "         2017,   2019,   2020, -10000,  -9000,  -8000,  -7000,  -6000,\n",
       "        -5000,  -4000,  -3000,  -2000])"
      ]
     },
     "execution_count": 28,
     "metadata": {},
     "output_type": "execute_result"
    }
   ],
   "source": [
    "# Investigating available years of data\n",
    "df_a['year'].unique()[:28]"
   ]
  },
  {
   "cell_type": "code",
   "execution_count": 29,
   "id": "2a48c209",
   "metadata": {},
   "outputs": [],
   "source": [
    "# Creating a list for all country names in world happiness\n",
    "# In order to reduce newly created dataframe to relevant data\n",
    "list_cn_w = list(df_w['Country name'].unique())"
   ]
  },
  {
   "cell_type": "code",
   "execution_count": 30,
   "id": "b4ca0c55",
   "metadata": {},
   "outputs": [
    {
     "data": {
      "text/plain": [
       "[2008,\n",
       " 2009,\n",
       " 2010,\n",
       " 2011,\n",
       " 2012,\n",
       " 2013,\n",
       " 2014,\n",
       " 2015,\n",
       " 2016,\n",
       " 2017,\n",
       " 2018,\n",
       " 2019,\n",
       " 2007,\n",
       " 2020,\n",
       " 2006,\n",
       " 2005]"
      ]
     },
     "execution_count": 30,
     "metadata": {},
     "output_type": "execute_result"
    }
   ],
   "source": [
    "# Creating a list for all years in world happiness\n",
    "# In order to reduce newly created dataframe to relevant data (2005-2020)\n",
    "list_y_w = list(df_w['year'].unique())\n",
    "list_y_w"
   ]
  },
  {
   "cell_type": "code",
   "execution_count": 31,
   "id": "178688f8",
   "metadata": {},
   "outputs": [],
   "source": [
    "# Reducing alcohol dataframe to include same yearly data as Happiness dataframe\n",
    "df_a = df_a[df_a['year'].isin(list_y_w)].reset_index(drop=True)"
   ]
  },
  {
   "cell_type": "code",
   "execution_count": 32,
   "id": "e4476210",
   "metadata": {},
   "outputs": [
    {
     "data": {
      "text/html": [
       "<div>\n",
       "<style scoped>\n",
       "    .dataframe tbody tr th:only-of-type {\n",
       "        vertical-align: middle;\n",
       "    }\n",
       "\n",
       "    .dataframe tbody tr th {\n",
       "        vertical-align: top;\n",
       "    }\n",
       "\n",
       "    .dataframe thead th {\n",
       "        text-align: right;\n",
       "    }\n",
       "</style>\n",
       "<table border=\"1\" class=\"dataframe\">\n",
       "  <thead>\n",
       "    <tr style=\"text-align: right;\">\n",
       "      <th></th>\n",
       "      <th>Country name</th>\n",
       "      <th>year</th>\n",
       "      <th>tot_alc_cons</th>\n",
       "      <th>population</th>\n",
       "    </tr>\n",
       "  </thead>\n",
       "  <tbody>\n",
       "    <tr>\n",
       "      <th>4453</th>\n",
       "      <td>United States Virgin Islands</td>\n",
       "      <td>2015</td>\n",
       "      <td>NaN</td>\n",
       "      <td>104950.0</td>\n",
       "    </tr>\n",
       "  </tbody>\n",
       "</table>\n",
       "</div>"
      ],
      "text/plain": [
       "                      Country name  year  tot_alc_cons  population\n",
       "4453  United States Virgin Islands  2015           NaN    104950.0"
      ]
     },
     "execution_count": 32,
     "metadata": {},
     "output_type": "execute_result"
    }
   ],
   "source": [
    "df_a.sample()"
   ]
  },
  {
   "cell_type": "code",
   "execution_count": 33,
   "id": "9c69f5c5",
   "metadata": {},
   "outputs": [],
   "source": [
    "# Reducing alcohol dataframe to include same countries as Happiness dataframe\n",
    "df_a = df_a[df_a['Country name'].isin(list_cn_w)].reset_index(drop=True)"
   ]
  },
  {
   "cell_type": "code",
   "execution_count": 34,
   "id": "de0a4871",
   "metadata": {},
   "outputs": [
    {
     "data": {
      "text/html": [
       "<div>\n",
       "<style scoped>\n",
       "    .dataframe tbody tr th:only-of-type {\n",
       "        vertical-align: middle;\n",
       "    }\n",
       "\n",
       "    .dataframe tbody tr th {\n",
       "        vertical-align: top;\n",
       "    }\n",
       "\n",
       "    .dataframe thead th {\n",
       "        text-align: right;\n",
       "    }\n",
       "</style>\n",
       "<table border=\"1\" class=\"dataframe\">\n",
       "  <thead>\n",
       "    <tr style=\"text-align: right;\">\n",
       "      <th></th>\n",
       "      <th>Country name</th>\n",
       "      <th>year</th>\n",
       "      <th>tot_alc_cons</th>\n",
       "      <th>population</th>\n",
       "    </tr>\n",
       "  </thead>\n",
       "  <tbody>\n",
       "    <tr>\n",
       "      <th>0</th>\n",
       "      <td>Afghanistan</td>\n",
       "      <td>2010</td>\n",
       "      <td>0.21</td>\n",
       "      <td>29185511.0</td>\n",
       "    </tr>\n",
       "    <tr>\n",
       "      <th>1</th>\n",
       "      <td>Afghanistan</td>\n",
       "      <td>2015</td>\n",
       "      <td>0.21</td>\n",
       "      <td>34413603.0</td>\n",
       "    </tr>\n",
       "    <tr>\n",
       "      <th>2</th>\n",
       "      <td>Afghanistan</td>\n",
       "      <td>2018</td>\n",
       "      <td>0.21</td>\n",
       "      <td>37171922.0</td>\n",
       "    </tr>\n",
       "    <tr>\n",
       "      <th>3</th>\n",
       "      <td>Afghanistan</td>\n",
       "      <td>2005</td>\n",
       "      <td>NaN</td>\n",
       "      <td>25654274.0</td>\n",
       "    </tr>\n",
       "    <tr>\n",
       "      <th>4</th>\n",
       "      <td>Afghanistan</td>\n",
       "      <td>2006</td>\n",
       "      <td>NaN</td>\n",
       "      <td>26433058.0</td>\n",
       "    </tr>\n",
       "  </tbody>\n",
       "</table>\n",
       "</div>"
      ],
      "text/plain": [
       "  Country name  year  tot_alc_cons  population\n",
       "0  Afghanistan  2010          0.21  29185511.0\n",
       "1  Afghanistan  2015          0.21  34413603.0\n",
       "2  Afghanistan  2018          0.21  37171922.0\n",
       "3  Afghanistan  2005           NaN  25654274.0\n",
       "4  Afghanistan  2006           NaN  26433058.0"
      ]
     },
     "execution_count": 34,
     "metadata": {},
     "output_type": "execute_result"
    }
   ],
   "source": [
    "df_a.head()"
   ]
  },
  {
   "cell_type": "code",
   "execution_count": 35,
   "id": "5397dd49",
   "metadata": {},
   "outputs": [
    {
     "data": {
      "text/plain": [
       "Country name                          0\n",
       "year                                  0\n",
       "Life Ladder                           0\n",
       "Log GDP per capita                   36\n",
       "Social support                       13\n",
       "Healthy life expectancy at birth     55\n",
       "Freedom to make life choices         32\n",
       "Generosity                           89\n",
       "Perceptions of corruption           110\n",
       "Positive affect                      22\n",
       "Negative affect                      16\n",
       "dtype: int64"
      ]
     },
     "execution_count": 35,
     "metadata": {},
     "output_type": "execute_result"
    }
   ],
   "source": [
    "# Verifying missing values in original dataframe\n",
    "df_w.isnull().sum()"
   ]
  },
  {
   "cell_type": "code",
   "execution_count": 36,
   "id": "37539863",
   "metadata": {},
   "outputs": [
    {
     "data": {
      "text/plain": [
       "(1949, 11)"
      ]
     },
     "execution_count": 36,
     "metadata": {},
     "output_type": "execute_result"
    }
   ],
   "source": [
    "df_w.shape"
   ]
  },
  {
   "cell_type": "markdown",
   "id": "87dc847f",
   "metadata": {},
   "source": [
    "#### First merge of data, adding alcohol related data to our original dataframe"
   ]
  },
  {
   "cell_type": "code",
   "execution_count": 37,
   "id": "07dd88c3",
   "metadata": {},
   "outputs": [],
   "source": [
    "# Merging our two dataframes\n",
    "df_w = df_w.merge(df_a, on=['Country name', 'year'])"
   ]
  },
  {
   "cell_type": "code",
   "execution_count": 38,
   "id": "8925d9c6",
   "metadata": {},
   "outputs": [
    {
     "data": {
      "text/plain": [
       "(1858, 13)"
      ]
     },
     "execution_count": 38,
     "metadata": {},
     "output_type": "execute_result"
    }
   ],
   "source": [
    "df_w.shape"
   ]
  },
  {
   "cell_type": "code",
   "execution_count": 39,
   "id": "089ce602",
   "metadata": {},
   "outputs": [
    {
     "data": {
      "text/html": [
       "<div>\n",
       "<style scoped>\n",
       "    .dataframe tbody tr th:only-of-type {\n",
       "        vertical-align: middle;\n",
       "    }\n",
       "\n",
       "    .dataframe tbody tr th {\n",
       "        vertical-align: top;\n",
       "    }\n",
       "\n",
       "    .dataframe thead th {\n",
       "        text-align: right;\n",
       "    }\n",
       "</style>\n",
       "<table border=\"1\" class=\"dataframe\">\n",
       "  <thead>\n",
       "    <tr style=\"text-align: right;\">\n",
       "      <th></th>\n",
       "      <th>Country name</th>\n",
       "      <th>year</th>\n",
       "      <th>Life Ladder</th>\n",
       "      <th>Log GDP per capita</th>\n",
       "      <th>Social support</th>\n",
       "      <th>Healthy life expectancy at birth</th>\n",
       "      <th>Freedom to make life choices</th>\n",
       "      <th>Generosity</th>\n",
       "      <th>Perceptions of corruption</th>\n",
       "      <th>Positive affect</th>\n",
       "      <th>Negative affect</th>\n",
       "      <th>tot_alc_cons</th>\n",
       "      <th>population</th>\n",
       "    </tr>\n",
       "  </thead>\n",
       "  <tbody>\n",
       "    <tr>\n",
       "      <th>932</th>\n",
       "      <td>Lesotho</td>\n",
       "      <td>2011</td>\n",
       "      <td>4.898</td>\n",
       "      <td>7.777</td>\n",
       "      <td>0.824</td>\n",
       "      <td>45.74</td>\n",
       "      <td>0.618</td>\n",
       "      <td>-0.087</td>\n",
       "      <td>0.768</td>\n",
       "      <td>0.793</td>\n",
       "      <td>0.170</td>\n",
       "      <td>NaN</td>\n",
       "      <td>2003793.0</td>\n",
       "    </tr>\n",
       "    <tr>\n",
       "      <th>1143</th>\n",
       "      <td>Namibia</td>\n",
       "      <td>2017</td>\n",
       "      <td>4.441</td>\n",
       "      <td>9.215</td>\n",
       "      <td>0.828</td>\n",
       "      <td>56.20</td>\n",
       "      <td>0.810</td>\n",
       "      <td>-0.190</td>\n",
       "      <td>0.831</td>\n",
       "      <td>0.721</td>\n",
       "      <td>0.277</td>\n",
       "      <td>NaN</td>\n",
       "      <td>2402623.0</td>\n",
       "    </tr>\n",
       "    <tr>\n",
       "      <th>405</th>\n",
       "      <td>Cuba</td>\n",
       "      <td>2006</td>\n",
       "      <td>5.418</td>\n",
       "      <td>NaN</td>\n",
       "      <td>0.970</td>\n",
       "      <td>68.44</td>\n",
       "      <td>0.281</td>\n",
       "      <td>NaN</td>\n",
       "      <td>NaN</td>\n",
       "      <td>0.647</td>\n",
       "      <td>0.277</td>\n",
       "      <td>NaN</td>\n",
       "      <td>11261241.0</td>\n",
       "    </tr>\n",
       "    <tr>\n",
       "      <th>1471</th>\n",
       "      <td>Slovakia</td>\n",
       "      <td>2017</td>\n",
       "      <td>6.366</td>\n",
       "      <td>10.339</td>\n",
       "      <td>0.913</td>\n",
       "      <td>68.60</td>\n",
       "      <td>0.714</td>\n",
       "      <td>-0.055</td>\n",
       "      <td>0.920</td>\n",
       "      <td>0.788</td>\n",
       "      <td>0.213</td>\n",
       "      <td>NaN</td>\n",
       "      <td>5447903.0</td>\n",
       "    </tr>\n",
       "    <tr>\n",
       "      <th>613</th>\n",
       "      <td>Greece</td>\n",
       "      <td>2014</td>\n",
       "      <td>4.756</td>\n",
       "      <td>10.257</td>\n",
       "      <td>0.832</td>\n",
       "      <td>71.74</td>\n",
       "      <td>0.369</td>\n",
       "      <td>-0.288</td>\n",
       "      <td>0.930</td>\n",
       "      <td>0.695</td>\n",
       "      <td>0.385</td>\n",
       "      <td>NaN</td>\n",
       "      <td>10701460.0</td>\n",
       "    </tr>\n",
       "    <tr>\n",
       "      <th>578</th>\n",
       "      <td>Germany</td>\n",
       "      <td>2008</td>\n",
       "      <td>6.522</td>\n",
       "      <td>10.770</td>\n",
       "      <td>0.923</td>\n",
       "      <td>70.62</td>\n",
       "      <td>0.766</td>\n",
       "      <td>NaN</td>\n",
       "      <td>0.758</td>\n",
       "      <td>0.787</td>\n",
       "      <td>0.220</td>\n",
       "      <td>NaN</td>\n",
       "      <td>81065751.0</td>\n",
       "    </tr>\n",
       "    <tr>\n",
       "      <th>1841</th>\n",
       "      <td>Zambia</td>\n",
       "      <td>2019</td>\n",
       "      <td>3.307</td>\n",
       "      <td>8.155</td>\n",
       "      <td>0.638</td>\n",
       "      <td>55.80</td>\n",
       "      <td>0.811</td>\n",
       "      <td>0.077</td>\n",
       "      <td>0.832</td>\n",
       "      <td>0.743</td>\n",
       "      <td>0.394</td>\n",
       "      <td>NaN</td>\n",
       "      <td>17861034.0</td>\n",
       "    </tr>\n",
       "    <tr>\n",
       "      <th>810</th>\n",
       "      <td>Jordan</td>\n",
       "      <td>2005</td>\n",
       "      <td>6.295</td>\n",
       "      <td>9.246</td>\n",
       "      <td>0.920</td>\n",
       "      <td>63.50</td>\n",
       "      <td>NaN</td>\n",
       "      <td>NaN</td>\n",
       "      <td>0.670</td>\n",
       "      <td>0.696</td>\n",
       "      <td>0.240</td>\n",
       "      <td>0.66</td>\n",
       "      <td>5765639.0</td>\n",
       "    </tr>\n",
       "    <tr>\n",
       "      <th>453</th>\n",
       "      <td>Ecuador</td>\n",
       "      <td>2006</td>\n",
       "      <td>5.024</td>\n",
       "      <td>9.186</td>\n",
       "      <td>0.910</td>\n",
       "      <td>66.08</td>\n",
       "      <td>0.671</td>\n",
       "      <td>-0.091</td>\n",
       "      <td>0.901</td>\n",
       "      <td>0.825</td>\n",
       "      <td>0.357</td>\n",
       "      <td>NaN</td>\n",
       "      <td>14059379.0</td>\n",
       "    </tr>\n",
       "    <tr>\n",
       "      <th>1213</th>\n",
       "      <td>Niger</td>\n",
       "      <td>2016</td>\n",
       "      <td>4.235</td>\n",
       "      <td>7.047</td>\n",
       "      <td>0.683</td>\n",
       "      <td>52.50</td>\n",
       "      <td>0.702</td>\n",
       "      <td>-0.016</td>\n",
       "      <td>0.814</td>\n",
       "      <td>0.675</td>\n",
       "      <td>0.325</td>\n",
       "      <td>NaN</td>\n",
       "      <td>20788789.0</td>\n",
       "    </tr>\n",
       "    <tr>\n",
       "      <th>961</th>\n",
       "      <td>Lithuania</td>\n",
       "      <td>2016</td>\n",
       "      <td>5.866</td>\n",
       "      <td>10.373</td>\n",
       "      <td>0.938</td>\n",
       "      <td>66.10</td>\n",
       "      <td>0.614</td>\n",
       "      <td>-0.266</td>\n",
       "      <td>0.949</td>\n",
       "      <td>0.594</td>\n",
       "      <td>0.250</td>\n",
       "      <td>NaN</td>\n",
       "      <td>2889555.0</td>\n",
       "    </tr>\n",
       "    <tr>\n",
       "      <th>1503</th>\n",
       "      <td>South Africa</td>\n",
       "      <td>2018</td>\n",
       "      <td>4.884</td>\n",
       "      <td>9.444</td>\n",
       "      <td>0.841</td>\n",
       "      <td>56.50</td>\n",
       "      <td>0.753</td>\n",
       "      <td>-0.050</td>\n",
       "      <td>0.841</td>\n",
       "      <td>0.812</td>\n",
       "      <td>0.283</td>\n",
       "      <td>9.52</td>\n",
       "      <td>57792520.0</td>\n",
       "    </tr>\n",
       "    <tr>\n",
       "      <th>1222</th>\n",
       "      <td>Nigeria</td>\n",
       "      <td>2012</td>\n",
       "      <td>5.493</td>\n",
       "      <td>8.543</td>\n",
       "      <td>0.818</td>\n",
       "      <td>47.12</td>\n",
       "      <td>0.652</td>\n",
       "      <td>0.066</td>\n",
       "      <td>0.900</td>\n",
       "      <td>0.811</td>\n",
       "      <td>0.209</td>\n",
       "      <td>NaN</td>\n",
       "      <td>167228803.0</td>\n",
       "    </tr>\n",
       "    <tr>\n",
       "      <th>984</th>\n",
       "      <td>Madagascar</td>\n",
       "      <td>2016</td>\n",
       "      <td>3.663</td>\n",
       "      <td>7.356</td>\n",
       "      <td>0.746</td>\n",
       "      <td>58.30</td>\n",
       "      <td>0.570</td>\n",
       "      <td>-0.069</td>\n",
       "      <td>0.864</td>\n",
       "      <td>0.813</td>\n",
       "      <td>0.204</td>\n",
       "      <td>NaN</td>\n",
       "      <td>24894370.0</td>\n",
       "    </tr>\n",
       "    <tr>\n",
       "      <th>1033</th>\n",
       "      <td>Malta</td>\n",
       "      <td>2016</td>\n",
       "      <td>6.591</td>\n",
       "      <td>10.599</td>\n",
       "      <td>0.930</td>\n",
       "      <td>72.20</td>\n",
       "      <td>0.916</td>\n",
       "      <td>0.345</td>\n",
       "      <td>0.696</td>\n",
       "      <td>0.687</td>\n",
       "      <td>0.355</td>\n",
       "      <td>NaN</td>\n",
       "      <td>436099.0</td>\n",
       "    </tr>\n",
       "    <tr>\n",
       "      <th>1377</th>\n",
       "      <td>Russia</td>\n",
       "      <td>2014</td>\n",
       "      <td>6.037</td>\n",
       "      <td>10.171</td>\n",
       "      <td>0.932</td>\n",
       "      <td>62.68</td>\n",
       "      <td>0.744</td>\n",
       "      <td>-0.265</td>\n",
       "      <td>0.869</td>\n",
       "      <td>0.688</td>\n",
       "      <td>0.151</td>\n",
       "      <td>NaN</td>\n",
       "      <td>144664837.0</td>\n",
       "    </tr>\n",
       "    <tr>\n",
       "      <th>1000</th>\n",
       "      <td>Malaysia</td>\n",
       "      <td>2006</td>\n",
       "      <td>6.012</td>\n",
       "      <td>9.839</td>\n",
       "      <td>0.866</td>\n",
       "      <td>64.96</td>\n",
       "      <td>0.837</td>\n",
       "      <td>0.201</td>\n",
       "      <td>0.740</td>\n",
       "      <td>0.750</td>\n",
       "      <td>0.243</td>\n",
       "      <td>NaN</td>\n",
       "      <td>26201954.0</td>\n",
       "    </tr>\n",
       "    <tr>\n",
       "      <th>42</th>\n",
       "      <td>Argentina</td>\n",
       "      <td>2011</td>\n",
       "      <td>6.776</td>\n",
       "      <td>10.112</td>\n",
       "      <td>0.889</td>\n",
       "      <td>67.48</td>\n",
       "      <td>0.816</td>\n",
       "      <td>-0.174</td>\n",
       "      <td>0.755</td>\n",
       "      <td>0.840</td>\n",
       "      <td>0.232</td>\n",
       "      <td>NaN</td>\n",
       "      <td>41320497.0</td>\n",
       "    </tr>\n",
       "    <tr>\n",
       "      <th>1114</th>\n",
       "      <td>Morocco</td>\n",
       "      <td>2010</td>\n",
       "      <td>4.383</td>\n",
       "      <td>8.746</td>\n",
       "      <td>NaN</td>\n",
       "      <td>63.50</td>\n",
       "      <td>0.663</td>\n",
       "      <td>-0.162</td>\n",
       "      <td>0.900</td>\n",
       "      <td>NaN</td>\n",
       "      <td>NaN</td>\n",
       "      <td>0.90</td>\n",
       "      <td>32343384.0</td>\n",
       "    </tr>\n",
       "    <tr>\n",
       "      <th>1534</th>\n",
       "      <td>Spain</td>\n",
       "      <td>2015</td>\n",
       "      <td>6.381</td>\n",
       "      <td>10.531</td>\n",
       "      <td>0.956</td>\n",
       "      <td>73.50</td>\n",
       "      <td>0.732</td>\n",
       "      <td>-0.072</td>\n",
       "      <td>0.822</td>\n",
       "      <td>0.732</td>\n",
       "      <td>0.285</td>\n",
       "      <td>11.32</td>\n",
       "      <td>46671919.0</td>\n",
       "    </tr>\n",
       "    <tr>\n",
       "      <th>143</th>\n",
       "      <td>Belarus</td>\n",
       "      <td>2016</td>\n",
       "      <td>5.178</td>\n",
       "      <td>9.788</td>\n",
       "      <td>0.927</td>\n",
       "      <td>65.50</td>\n",
       "      <td>0.658</td>\n",
       "      <td>-0.125</td>\n",
       "      <td>0.664</td>\n",
       "      <td>0.554</td>\n",
       "      <td>0.182</td>\n",
       "      <td>NaN</td>\n",
       "      <td>9445638.0</td>\n",
       "    </tr>\n",
       "    <tr>\n",
       "      <th>1520</th>\n",
       "      <td>South Korea</td>\n",
       "      <td>2020</td>\n",
       "      <td>5.793</td>\n",
       "      <td>10.648</td>\n",
       "      <td>0.808</td>\n",
       "      <td>74.20</td>\n",
       "      <td>0.711</td>\n",
       "      <td>-0.106</td>\n",
       "      <td>0.665</td>\n",
       "      <td>0.640</td>\n",
       "      <td>0.247</td>\n",
       "      <td>NaN</td>\n",
       "      <td>51269183.0</td>\n",
       "    </tr>\n",
       "    <tr>\n",
       "      <th>210</th>\n",
       "      <td>Botswana</td>\n",
       "      <td>2012</td>\n",
       "      <td>4.836</td>\n",
       "      <td>9.632</td>\n",
       "      <td>0.837</td>\n",
       "      <td>54.46</td>\n",
       "      <td>0.799</td>\n",
       "      <td>-0.203</td>\n",
       "      <td>0.814</td>\n",
       "      <td>0.773</td>\n",
       "      <td>0.171</td>\n",
       "      <td>NaN</td>\n",
       "      <td>2039551.0</td>\n",
       "    </tr>\n",
       "    <tr>\n",
       "      <th>115</th>\n",
       "      <td>Bahrain</td>\n",
       "      <td>2017</td>\n",
       "      <td>6.227</td>\n",
       "      <td>10.771</td>\n",
       "      <td>0.876</td>\n",
       "      <td>68.50</td>\n",
       "      <td>0.906</td>\n",
       "      <td>0.136</td>\n",
       "      <td>NaN</td>\n",
       "      <td>0.814</td>\n",
       "      <td>0.290</td>\n",
       "      <td>NaN</td>\n",
       "      <td>1494077.0</td>\n",
       "    </tr>\n",
       "    <tr>\n",
       "      <th>931</th>\n",
       "      <td>Lebanon</td>\n",
       "      <td>2019</td>\n",
       "      <td>4.024</td>\n",
       "      <td>9.597</td>\n",
       "      <td>0.866</td>\n",
       "      <td>67.60</td>\n",
       "      <td>0.447</td>\n",
       "      <td>-0.081</td>\n",
       "      <td>0.890</td>\n",
       "      <td>0.322</td>\n",
       "      <td>0.494</td>\n",
       "      <td>NaN</td>\n",
       "      <td>6855709.0</td>\n",
       "    </tr>\n",
       "    <tr>\n",
       "      <th>1830</th>\n",
       "      <td>Zambia</td>\n",
       "      <td>2007</td>\n",
       "      <td>3.998</td>\n",
       "      <td>7.871</td>\n",
       "      <td>0.688</td>\n",
       "      <td>45.72</td>\n",
       "      <td>0.682</td>\n",
       "      <td>-0.067</td>\n",
       "      <td>0.948</td>\n",
       "      <td>0.687</td>\n",
       "      <td>0.246</td>\n",
       "      <td>NaN</td>\n",
       "      <td>12502958.0</td>\n",
       "    </tr>\n",
       "    <tr>\n",
       "      <th>977</th>\n",
       "      <td>Madagascar</td>\n",
       "      <td>2006</td>\n",
       "      <td>3.980</td>\n",
       "      <td>7.376</td>\n",
       "      <td>0.711</td>\n",
       "      <td>54.04</td>\n",
       "      <td>NaN</td>\n",
       "      <td>-0.039</td>\n",
       "      <td>NaN</td>\n",
       "      <td>0.702</td>\n",
       "      <td>0.161</td>\n",
       "      <td>NaN</td>\n",
       "      <td>18880265.0</td>\n",
       "    </tr>\n",
       "    <tr>\n",
       "      <th>487</th>\n",
       "      <td>El Salvador</td>\n",
       "      <td>2010</td>\n",
       "      <td>6.740</td>\n",
       "      <td>8.900</td>\n",
       "      <td>0.757</td>\n",
       "      <td>64.20</td>\n",
       "      <td>0.669</td>\n",
       "      <td>-0.064</td>\n",
       "      <td>0.694</td>\n",
       "      <td>0.814</td>\n",
       "      <td>0.302</td>\n",
       "      <td>3.31</td>\n",
       "      <td>6183877.0</td>\n",
       "    </tr>\n",
       "  </tbody>\n",
       "</table>\n",
       "</div>"
      ],
      "text/plain": [
       "      Country name  year  Life Ladder  Log GDP per capita  Social support  \\\n",
       "932        Lesotho  2011        4.898               7.777           0.824   \n",
       "1143       Namibia  2017        4.441               9.215           0.828   \n",
       "405           Cuba  2006        5.418                 NaN           0.970   \n",
       "1471      Slovakia  2017        6.366              10.339           0.913   \n",
       "613         Greece  2014        4.756              10.257           0.832   \n",
       "578        Germany  2008        6.522              10.770           0.923   \n",
       "1841        Zambia  2019        3.307               8.155           0.638   \n",
       "810         Jordan  2005        6.295               9.246           0.920   \n",
       "453        Ecuador  2006        5.024               9.186           0.910   \n",
       "1213         Niger  2016        4.235               7.047           0.683   \n",
       "961      Lithuania  2016        5.866              10.373           0.938   \n",
       "1503  South Africa  2018        4.884               9.444           0.841   \n",
       "1222       Nigeria  2012        5.493               8.543           0.818   \n",
       "984     Madagascar  2016        3.663               7.356           0.746   \n",
       "1033         Malta  2016        6.591              10.599           0.930   \n",
       "1377        Russia  2014        6.037              10.171           0.932   \n",
       "1000      Malaysia  2006        6.012               9.839           0.866   \n",
       "42       Argentina  2011        6.776              10.112           0.889   \n",
       "1114       Morocco  2010        4.383               8.746             NaN   \n",
       "1534         Spain  2015        6.381              10.531           0.956   \n",
       "143        Belarus  2016        5.178               9.788           0.927   \n",
       "1520   South Korea  2020        5.793              10.648           0.808   \n",
       "210       Botswana  2012        4.836               9.632           0.837   \n",
       "115        Bahrain  2017        6.227              10.771           0.876   \n",
       "931        Lebanon  2019        4.024               9.597           0.866   \n",
       "1830        Zambia  2007        3.998               7.871           0.688   \n",
       "977     Madagascar  2006        3.980               7.376           0.711   \n",
       "487    El Salvador  2010        6.740               8.900           0.757   \n",
       "\n",
       "      Healthy life expectancy at birth  Freedom to make life choices  \\\n",
       "932                              45.74                         0.618   \n",
       "1143                             56.20                         0.810   \n",
       "405                              68.44                         0.281   \n",
       "1471                             68.60                         0.714   \n",
       "613                              71.74                         0.369   \n",
       "578                              70.62                         0.766   \n",
       "1841                             55.80                         0.811   \n",
       "810                              63.50                           NaN   \n",
       "453                              66.08                         0.671   \n",
       "1213                             52.50                         0.702   \n",
       "961                              66.10                         0.614   \n",
       "1503                             56.50                         0.753   \n",
       "1222                             47.12                         0.652   \n",
       "984                              58.30                         0.570   \n",
       "1033                             72.20                         0.916   \n",
       "1377                             62.68                         0.744   \n",
       "1000                             64.96                         0.837   \n",
       "42                               67.48                         0.816   \n",
       "1114                             63.50                         0.663   \n",
       "1534                             73.50                         0.732   \n",
       "143                              65.50                         0.658   \n",
       "1520                             74.20                         0.711   \n",
       "210                              54.46                         0.799   \n",
       "115                              68.50                         0.906   \n",
       "931                              67.60                         0.447   \n",
       "1830                             45.72                         0.682   \n",
       "977                              54.04                           NaN   \n",
       "487                              64.20                         0.669   \n",
       "\n",
       "      Generosity  Perceptions of corruption  Positive affect  Negative affect  \\\n",
       "932       -0.087                      0.768            0.793            0.170   \n",
       "1143      -0.190                      0.831            0.721            0.277   \n",
       "405          NaN                        NaN            0.647            0.277   \n",
       "1471      -0.055                      0.920            0.788            0.213   \n",
       "613       -0.288                      0.930            0.695            0.385   \n",
       "578          NaN                      0.758            0.787            0.220   \n",
       "1841       0.077                      0.832            0.743            0.394   \n",
       "810          NaN                      0.670            0.696            0.240   \n",
       "453       -0.091                      0.901            0.825            0.357   \n",
       "1213      -0.016                      0.814            0.675            0.325   \n",
       "961       -0.266                      0.949            0.594            0.250   \n",
       "1503      -0.050                      0.841            0.812            0.283   \n",
       "1222       0.066                      0.900            0.811            0.209   \n",
       "984       -0.069                      0.864            0.813            0.204   \n",
       "1033       0.345                      0.696            0.687            0.355   \n",
       "1377      -0.265                      0.869            0.688            0.151   \n",
       "1000       0.201                      0.740            0.750            0.243   \n",
       "42        -0.174                      0.755            0.840            0.232   \n",
       "1114      -0.162                      0.900              NaN              NaN   \n",
       "1534      -0.072                      0.822            0.732            0.285   \n",
       "143       -0.125                      0.664            0.554            0.182   \n",
       "1520      -0.106                      0.665            0.640            0.247   \n",
       "210       -0.203                      0.814            0.773            0.171   \n",
       "115        0.136                        NaN            0.814            0.290   \n",
       "931       -0.081                      0.890            0.322            0.494   \n",
       "1830      -0.067                      0.948            0.687            0.246   \n",
       "977       -0.039                        NaN            0.702            0.161   \n",
       "487       -0.064                      0.694            0.814            0.302   \n",
       "\n",
       "      tot_alc_cons   population  \n",
       "932            NaN    2003793.0  \n",
       "1143           NaN    2402623.0  \n",
       "405            NaN   11261241.0  \n",
       "1471           NaN    5447903.0  \n",
       "613            NaN   10701460.0  \n",
       "578            NaN   81065751.0  \n",
       "1841           NaN   17861034.0  \n",
       "810           0.66    5765639.0  \n",
       "453            NaN   14059379.0  \n",
       "1213           NaN   20788789.0  \n",
       "961            NaN    2889555.0  \n",
       "1503          9.52   57792520.0  \n",
       "1222           NaN  167228803.0  \n",
       "984            NaN   24894370.0  \n",
       "1033           NaN     436099.0  \n",
       "1377           NaN  144664837.0  \n",
       "1000           NaN   26201954.0  \n",
       "42             NaN   41320497.0  \n",
       "1114          0.90   32343384.0  \n",
       "1534         11.32   46671919.0  \n",
       "143            NaN    9445638.0  \n",
       "1520           NaN   51269183.0  \n",
       "210            NaN    2039551.0  \n",
       "115            NaN    1494077.0  \n",
       "931            NaN    6855709.0  \n",
       "1830           NaN   12502958.0  \n",
       "977            NaN   18880265.0  \n",
       "487           3.31    6183877.0  "
      ]
     },
     "execution_count": 39,
     "metadata": {},
     "output_type": "execute_result"
    }
   ],
   "source": [
    "df_w.sample(28)"
   ]
  },
  {
   "cell_type": "code",
   "execution_count": 40,
   "id": "e0c2b412",
   "metadata": {},
   "outputs": [
    {
     "data": {
      "text/plain": [
       "(2496, 4)"
      ]
     },
     "execution_count": 40,
     "metadata": {},
     "output_type": "execute_result"
    }
   ],
   "source": [
    "# Shape of alcohol data before merge\n",
    "df_a.shape"
   ]
  },
  {
   "cell_type": "code",
   "execution_count": 41,
   "id": "1965bef0",
   "metadata": {
    "scrolled": true
   },
   "outputs": [
    {
     "data": {
      "text/plain": [
       "(1858, 13)"
      ]
     },
     "execution_count": 41,
     "metadata": {},
     "output_type": "execute_result"
    }
   ],
   "source": [
    "# Shape of complete data, after merge\n",
    "df_w.shape"
   ]
  },
  {
   "cell_type": "code",
   "execution_count": 42,
   "id": "44d116df",
   "metadata": {},
   "outputs": [
    {
     "data": {
      "text/plain": [
       "Country name                           0\n",
       "year                                   0\n",
       "Life Ladder                            0\n",
       "Log GDP per capita                    19\n",
       "Social support                        13\n",
       "Healthy life expectancy at birth      14\n",
       "Freedom to make life choices          32\n",
       "Generosity                            70\n",
       "Perceptions of corruption            109\n",
       "Positive affect                       22\n",
       "Negative affect                       16\n",
       "tot_alc_cons                        1448\n",
       "population                            14\n",
       "dtype: int64"
      ]
     },
     "execution_count": 42,
     "metadata": {},
     "output_type": "execute_result"
    }
   ],
   "source": [
    "# New dataframe missing values\n",
    "df_w.isna().sum()"
   ]
  },
  {
   "cell_type": "markdown",
   "id": "c5cbb9fd",
   "metadata": {},
   "source": [
    "##### I am investigating more alcohol data, as 1448 values to impute seems a lot and we could potentially find better data by finding categorical data of alcohol consumption."
   ]
  },
  {
   "cell_type": "markdown",
   "id": "cca20baf",
   "metadata": {},
   "source": [
    "We found three datasets of alcohol related data (spiritis, wine, beer) and two additional datasets that are of interest to investigate to us."
   ]
  },
  {
   "cell_type": "code",
   "execution_count": 43,
   "id": "ec1b1880",
   "metadata": {},
   "outputs": [],
   "source": [
    "### Importing CSVs\n",
    "\n",
    "# Alcohol related datasets\n",
    "spirits = pd.read_csv('spirits.csv')\n",
    "wine = pd.read_csv('wine.csv')\n",
    "beer = pd.read_csv('beer.csv')\n",
    "\n",
    "# Other potential datasets\n",
    "forest = pd.read_csv('forest.csv')\n",
    "urban = pd.read_csv('urban.csv')"
   ]
  },
  {
   "cell_type": "code",
   "execution_count": 44,
   "id": "9c721b7d",
   "metadata": {},
   "outputs": [
    {
     "data": {
      "text/plain": [
       "((10077, 4), (10076, 4), (10077, 4), (7974, 4), (16034, 4))"
      ]
     },
     "execution_count": 44,
     "metadata": {},
     "output_type": "execute_result"
    }
   ],
   "source": [
    "spirits.shape,wine.shape,beer.shape,forest.shape,urban.shape"
   ]
  },
  {
   "cell_type": "code",
   "execution_count": 45,
   "id": "2f0a9b39",
   "metadata": {},
   "outputs": [
    {
     "data": {
      "text/html": [
       "<div>\n",
       "<style scoped>\n",
       "    .dataframe tbody tr th:only-of-type {\n",
       "        vertical-align: middle;\n",
       "    }\n",
       "\n",
       "    .dataframe tbody tr th {\n",
       "        vertical-align: top;\n",
       "    }\n",
       "\n",
       "    .dataframe thead th {\n",
       "        text-align: right;\n",
       "    }\n",
       "</style>\n",
       "<table border=\"1\" class=\"dataframe\">\n",
       "  <thead>\n",
       "    <tr style=\"text-align: right;\">\n",
       "      <th></th>\n",
       "      <th>Entity</th>\n",
       "      <th>Code</th>\n",
       "      <th>Year</th>\n",
       "      <th>Indicator:Alcohol, recorded per capita (15+) consumption (in litres of pure alcohol) - Beverage Types:Spirits</th>\n",
       "    </tr>\n",
       "  </thead>\n",
       "  <tbody>\n",
       "    <tr>\n",
       "      <th>9607</th>\n",
       "      <td>United States</td>\n",
       "      <td>USA</td>\n",
       "      <td>1991</td>\n",
       "      <td>2.69</td>\n",
       "    </tr>\n",
       "  </tbody>\n",
       "</table>\n",
       "</div>"
      ],
      "text/plain": [
       "             Entity Code  Year  \\\n",
       "9607  United States  USA  1991   \n",
       "\n",
       "      Indicator:Alcohol, recorded per capita (15+) consumption (in litres of pure alcohol) - Beverage Types:Spirits  \n",
       "9607                                               2.69                                                              "
      ]
     },
     "execution_count": 45,
     "metadata": {},
     "output_type": "execute_result"
    }
   ],
   "source": [
    "spirits.sample()"
   ]
  },
  {
   "cell_type": "code",
   "execution_count": 46,
   "id": "df388c64",
   "metadata": {},
   "outputs": [
    {
     "data": {
      "text/plain": [
       "1960"
      ]
     },
     "execution_count": 46,
     "metadata": {},
     "output_type": "execute_result"
    }
   ],
   "source": [
    "spirits.Year.min()"
   ]
  },
  {
   "cell_type": "code",
   "execution_count": 47,
   "id": "b322cccf",
   "metadata": {},
   "outputs": [
    {
     "data": {
      "text/html": [
       "<div>\n",
       "<style scoped>\n",
       "    .dataframe tbody tr th:only-of-type {\n",
       "        vertical-align: middle;\n",
       "    }\n",
       "\n",
       "    .dataframe tbody tr th {\n",
       "        vertical-align: top;\n",
       "    }\n",
       "\n",
       "    .dataframe thead th {\n",
       "        text-align: right;\n",
       "    }\n",
       "</style>\n",
       "<table border=\"1\" class=\"dataframe\">\n",
       "  <thead>\n",
       "    <tr style=\"text-align: right;\">\n",
       "      <th></th>\n",
       "      <th>Entity</th>\n",
       "      <th>Code</th>\n",
       "      <th>Year</th>\n",
       "      <th>Indicator:Alcohol, recorded per capita (15+) consumption (in litres of pure alcohol) - Beverage Types:Wine</th>\n",
       "    </tr>\n",
       "  </thead>\n",
       "  <tbody>\n",
       "    <tr>\n",
       "      <th>6615</th>\n",
       "      <td>Nigeria</td>\n",
       "      <td>NGA</td>\n",
       "      <td>2019</td>\n",
       "      <td>0.09</td>\n",
       "    </tr>\n",
       "  </tbody>\n",
       "</table>\n",
       "</div>"
      ],
      "text/plain": [
       "       Entity Code  Year  \\\n",
       "6615  Nigeria  NGA  2019   \n",
       "\n",
       "      Indicator:Alcohol, recorded per capita (15+) consumption (in litres of pure alcohol) - Beverage Types:Wine  \n",
       "6615                                               0.09                                                           "
      ]
     },
     "execution_count": 47,
     "metadata": {},
     "output_type": "execute_result"
    }
   ],
   "source": [
    "wine.sample()"
   ]
  },
  {
   "cell_type": "code",
   "execution_count": 48,
   "id": "6ba567a1",
   "metadata": {},
   "outputs": [
    {
     "data": {
      "text/html": [
       "<div>\n",
       "<style scoped>\n",
       "    .dataframe tbody tr th:only-of-type {\n",
       "        vertical-align: middle;\n",
       "    }\n",
       "\n",
       "    .dataframe tbody tr th {\n",
       "        vertical-align: top;\n",
       "    }\n",
       "\n",
       "    .dataframe thead th {\n",
       "        text-align: right;\n",
       "    }\n",
       "</style>\n",
       "<table border=\"1\" class=\"dataframe\">\n",
       "  <thead>\n",
       "    <tr style=\"text-align: right;\">\n",
       "      <th></th>\n",
       "      <th>Entity</th>\n",
       "      <th>Code</th>\n",
       "      <th>Year</th>\n",
       "      <th>Indicator:Alcohol, recorded per capita (15+) consumption (in litres of pure alcohol) - Beverage Types:Beer</th>\n",
       "    </tr>\n",
       "  </thead>\n",
       "  <tbody>\n",
       "    <tr>\n",
       "      <th>7337</th>\n",
       "      <td>Qatar</td>\n",
       "      <td>QAT</td>\n",
       "      <td>1974</td>\n",
       "      <td>0.5</td>\n",
       "    </tr>\n",
       "  </tbody>\n",
       "</table>\n",
       "</div>"
      ],
      "text/plain": [
       "     Entity Code  Year  \\\n",
       "7337  Qatar  QAT  1974   \n",
       "\n",
       "      Indicator:Alcohol, recorded per capita (15+) consumption (in litres of pure alcohol) - Beverage Types:Beer  \n",
       "7337                                                0.5                                                           "
      ]
     },
     "execution_count": 48,
     "metadata": {},
     "output_type": "execute_result"
    }
   ],
   "source": [
    "beer.sample()"
   ]
  },
  {
   "cell_type": "code",
   "execution_count": 49,
   "id": "6d48d987",
   "metadata": {},
   "outputs": [
    {
     "data": {
      "text/html": [
       "<div>\n",
       "<style scoped>\n",
       "    .dataframe tbody tr th:only-of-type {\n",
       "        vertical-align: middle;\n",
       "    }\n",
       "\n",
       "    .dataframe tbody tr th {\n",
       "        vertical-align: top;\n",
       "    }\n",
       "\n",
       "    .dataframe thead th {\n",
       "        text-align: right;\n",
       "    }\n",
       "</style>\n",
       "<table border=\"1\" class=\"dataframe\">\n",
       "  <thead>\n",
       "    <tr style=\"text-align: right;\">\n",
       "      <th></th>\n",
       "      <th>Entity</th>\n",
       "      <th>Code</th>\n",
       "      <th>Year</th>\n",
       "      <th>Forest cover</th>\n",
       "    </tr>\n",
       "  </thead>\n",
       "  <tbody>\n",
       "    <tr>\n",
       "      <th>116</th>\n",
       "      <td>Algeria</td>\n",
       "      <td>DZA</td>\n",
       "      <td>2013</td>\n",
       "      <td>0.814866</td>\n",
       "    </tr>\n",
       "  </tbody>\n",
       "</table>\n",
       "</div>"
      ],
      "text/plain": [
       "      Entity Code  Year  Forest cover\n",
       "116  Algeria  DZA  2013      0.814866"
      ]
     },
     "execution_count": 49,
     "metadata": {},
     "output_type": "execute_result"
    }
   ],
   "source": [
    "forest.sample()"
   ]
  },
  {
   "cell_type": "code",
   "execution_count": 50,
   "id": "6af36d1c",
   "metadata": {},
   "outputs": [
    {
     "data": {
      "text/html": [
       "<div>\n",
       "<style scoped>\n",
       "    .dataframe tbody tr th:only-of-type {\n",
       "        vertical-align: middle;\n",
       "    }\n",
       "\n",
       "    .dataframe tbody tr th {\n",
       "        vertical-align: top;\n",
       "    }\n",
       "\n",
       "    .dataframe thead th {\n",
       "        text-align: right;\n",
       "    }\n",
       "</style>\n",
       "<table border=\"1\" class=\"dataframe\">\n",
       "  <thead>\n",
       "    <tr style=\"text-align: right;\">\n",
       "      <th></th>\n",
       "      <th>Entity</th>\n",
       "      <th>Code</th>\n",
       "      <th>Year</th>\n",
       "      <th>Urban population (% of total population)</th>\n",
       "    </tr>\n",
       "  </thead>\n",
       "  <tbody>\n",
       "    <tr>\n",
       "      <th>10719</th>\n",
       "      <td>Nigeria</td>\n",
       "      <td>NGA</td>\n",
       "      <td>2013</td>\n",
       "      <td>46.118</td>\n",
       "    </tr>\n",
       "  </tbody>\n",
       "</table>\n",
       "</div>"
      ],
      "text/plain": [
       "        Entity Code  Year  Urban population (% of total population)\n",
       "10719  Nigeria  NGA  2013                                    46.118"
      ]
     },
     "execution_count": 50,
     "metadata": {},
     "output_type": "execute_result"
    }
   ],
   "source": [
    "urban.sample()"
   ]
  },
  {
   "cell_type": "code",
   "execution_count": 51,
   "id": "a3d56112",
   "metadata": {},
   "outputs": [
    {
     "data": {
      "text/plain": [
       "Index(['Entity', 'Code', 'Year',\n",
       "       'Indicator:Alcohol, recorded per capita (15+) consumption (in litres of pure alcohol) - Beverage Types:Spirits'],\n",
       "      dtype='object')"
      ]
     },
     "execution_count": 51,
     "metadata": {},
     "output_type": "execute_result"
    }
   ],
   "source": [
    "spirits.columns"
   ]
  },
  {
   "cell_type": "code",
   "execution_count": 52,
   "id": "3e0088bd",
   "metadata": {},
   "outputs": [],
   "source": [
    "# Renaming columns\n",
    "spirits.rename(columns = {\n",
    "    'Entity':'country', 'Year':'year', \n",
    "    'Indicator:Alcohol, recorded per capita (15+) consumption (in litres of pure alcohol) - Beverage Types:Spirits':\n",
    "    'a_cons'}, inplace=True)"
   ]
  },
  {
   "cell_type": "code",
   "execution_count": 53,
   "id": "1b235aea",
   "metadata": {},
   "outputs": [
    {
     "data": {
      "text/html": [
       "<div>\n",
       "<style scoped>\n",
       "    .dataframe tbody tr th:only-of-type {\n",
       "        vertical-align: middle;\n",
       "    }\n",
       "\n",
       "    .dataframe tbody tr th {\n",
       "        vertical-align: top;\n",
       "    }\n",
       "\n",
       "    .dataframe thead th {\n",
       "        text-align: right;\n",
       "    }\n",
       "</style>\n",
       "<table border=\"1\" class=\"dataframe\">\n",
       "  <thead>\n",
       "    <tr style=\"text-align: right;\">\n",
       "      <th></th>\n",
       "      <th>country</th>\n",
       "      <th>Code</th>\n",
       "      <th>year</th>\n",
       "      <th>a_cons</th>\n",
       "    </tr>\n",
       "  </thead>\n",
       "  <tbody>\n",
       "    <tr>\n",
       "      <th>9376</th>\n",
       "      <td>Uganda</td>\n",
       "      <td>UGA</td>\n",
       "      <td>1968</td>\n",
       "      <td>0.22</td>\n",
       "    </tr>\n",
       "  </tbody>\n",
       "</table>\n",
       "</div>"
      ],
      "text/plain": [
       "     country Code  year  a_cons\n",
       "9376  Uganda  UGA  1968    0.22"
      ]
     },
     "execution_count": 53,
     "metadata": {},
     "output_type": "execute_result"
    }
   ],
   "source": [
    "spirits.sample()"
   ]
  },
  {
   "cell_type": "code",
   "execution_count": 54,
   "id": "0a353015",
   "metadata": {},
   "outputs": [
    {
     "data": {
      "text/plain": [
       "Index(['Entity', 'Code', 'Year',\n",
       "       'Indicator:Alcohol, recorded per capita (15+) consumption (in litres of pure alcohol) - Beverage Types:Wine'],\n",
       "      dtype='object')"
      ]
     },
     "execution_count": 54,
     "metadata": {},
     "output_type": "execute_result"
    }
   ],
   "source": [
    "wine.columns"
   ]
  },
  {
   "cell_type": "code",
   "execution_count": 55,
   "id": "e1275d7c",
   "metadata": {},
   "outputs": [],
   "source": [
    "wine.rename(columns = {\n",
    "    'Entity':'country', 'Year':'year',\n",
    "    'Indicator:Alcohol, recorded per capita (15+) consumption (in litres of pure alcohol) - Beverage Types:Wine':\n",
    "    'w_cons'}, inplace=True)"
   ]
  },
  {
   "cell_type": "code",
   "execution_count": 56,
   "id": "f597e3bb",
   "metadata": {},
   "outputs": [
    {
     "data": {
      "text/html": [
       "<div>\n",
       "<style scoped>\n",
       "    .dataframe tbody tr th:only-of-type {\n",
       "        vertical-align: middle;\n",
       "    }\n",
       "\n",
       "    .dataframe tbody tr th {\n",
       "        vertical-align: top;\n",
       "    }\n",
       "\n",
       "    .dataframe thead th {\n",
       "        text-align: right;\n",
       "    }\n",
       "</style>\n",
       "<table border=\"1\" class=\"dataframe\">\n",
       "  <thead>\n",
       "    <tr style=\"text-align: right;\">\n",
       "      <th></th>\n",
       "      <th>country</th>\n",
       "      <th>Code</th>\n",
       "      <th>year</th>\n",
       "      <th>w_cons</th>\n",
       "    </tr>\n",
       "  </thead>\n",
       "  <tbody>\n",
       "    <tr>\n",
       "      <th>5863</th>\n",
       "      <td>Micronesia (country)</td>\n",
       "      <td>FSM</td>\n",
       "      <td>1979</td>\n",
       "      <td>0.0</td>\n",
       "    </tr>\n",
       "  </tbody>\n",
       "</table>\n",
       "</div>"
      ],
      "text/plain": [
       "                   country Code  year  w_cons\n",
       "5863  Micronesia (country)  FSM  1979     0.0"
      ]
     },
     "execution_count": 56,
     "metadata": {},
     "output_type": "execute_result"
    }
   ],
   "source": [
    "wine.sample()"
   ]
  },
  {
   "cell_type": "code",
   "execution_count": 57,
   "id": "b918b563",
   "metadata": {},
   "outputs": [
    {
     "data": {
      "text/plain": [
       "Index(['Entity', 'Code', 'Year',\n",
       "       'Indicator:Alcohol, recorded per capita (15+) consumption (in litres of pure alcohol) - Beverage Types:Beer'],\n",
       "      dtype='object')"
      ]
     },
     "execution_count": 57,
     "metadata": {},
     "output_type": "execute_result"
    }
   ],
   "source": [
    "beer.columns"
   ]
  },
  {
   "cell_type": "code",
   "execution_count": 58,
   "id": "e4b73a7c",
   "metadata": {},
   "outputs": [],
   "source": [
    "beer.rename(columns = {\n",
    "    'Entity':'country', 'Year':'year',\n",
    "    'Indicator:Alcohol, recorded per capita (15+) consumption (in litres of pure alcohol) - Beverage Types:Beer':\n",
    "    'b_cons'}, inplace=True)"
   ]
  },
  {
   "cell_type": "code",
   "execution_count": 59,
   "id": "2a249da3",
   "metadata": {},
   "outputs": [
    {
     "data": {
      "text/html": [
       "<div>\n",
       "<style scoped>\n",
       "    .dataframe tbody tr th:only-of-type {\n",
       "        vertical-align: middle;\n",
       "    }\n",
       "\n",
       "    .dataframe tbody tr th {\n",
       "        vertical-align: top;\n",
       "    }\n",
       "\n",
       "    .dataframe thead th {\n",
       "        text-align: right;\n",
       "    }\n",
       "</style>\n",
       "<table border=\"1\" class=\"dataframe\">\n",
       "  <thead>\n",
       "    <tr style=\"text-align: right;\">\n",
       "      <th></th>\n",
       "      <th>country</th>\n",
       "      <th>Code</th>\n",
       "      <th>year</th>\n",
       "      <th>b_cons</th>\n",
       "    </tr>\n",
       "  </thead>\n",
       "  <tbody>\n",
       "    <tr>\n",
       "      <th>3800</th>\n",
       "      <td>Guinea-Bissau</td>\n",
       "      <td>GNB</td>\n",
       "      <td>2014</td>\n",
       "      <td>0.41</td>\n",
       "    </tr>\n",
       "  </tbody>\n",
       "</table>\n",
       "</div>"
      ],
      "text/plain": [
       "            country Code  year  b_cons\n",
       "3800  Guinea-Bissau  GNB  2014    0.41"
      ]
     },
     "execution_count": 59,
     "metadata": {},
     "output_type": "execute_result"
    }
   ],
   "source": [
    "beer.sample()"
   ]
  },
  {
   "cell_type": "code",
   "execution_count": 60,
   "id": "786c7a70",
   "metadata": {},
   "outputs": [
    {
     "data": {
      "text/plain": [
       "Index(['Entity', 'Code', 'Year', 'Forest cover'], dtype='object')"
      ]
     },
     "execution_count": 60,
     "metadata": {},
     "output_type": "execute_result"
    }
   ],
   "source": [
    "forest.columns"
   ]
  },
  {
   "cell_type": "code",
   "execution_count": 61,
   "id": "787a9d39",
   "metadata": {},
   "outputs": [],
   "source": [
    "forest.rename(columns = {\n",
    "    'Entity':'country', 'Year':'year', 'Forest cover':'forest_c'}, inplace=True)"
   ]
  },
  {
   "cell_type": "code",
   "execution_count": 62,
   "id": "c4714467",
   "metadata": {},
   "outputs": [
    {
     "data": {
      "text/html": [
       "<div>\n",
       "<style scoped>\n",
       "    .dataframe tbody tr th:only-of-type {\n",
       "        vertical-align: middle;\n",
       "    }\n",
       "\n",
       "    .dataframe tbody tr th {\n",
       "        vertical-align: top;\n",
       "    }\n",
       "\n",
       "    .dataframe thead th {\n",
       "        text-align: right;\n",
       "    }\n",
       "</style>\n",
       "<table border=\"1\" class=\"dataframe\">\n",
       "  <thead>\n",
       "    <tr style=\"text-align: right;\">\n",
       "      <th></th>\n",
       "      <th>country</th>\n",
       "      <th>Code</th>\n",
       "      <th>year</th>\n",
       "      <th>forest_c</th>\n",
       "    </tr>\n",
       "  </thead>\n",
       "  <tbody>\n",
       "    <tr>\n",
       "      <th>6423</th>\n",
       "      <td>Solomon Islands</td>\n",
       "      <td>SLB</td>\n",
       "      <td>1992</td>\n",
       "      <td>90.869882</td>\n",
       "    </tr>\n",
       "  </tbody>\n",
       "</table>\n",
       "</div>"
      ],
      "text/plain": [
       "              country Code  year   forest_c\n",
       "6423  Solomon Islands  SLB  1992  90.869882"
      ]
     },
     "execution_count": 62,
     "metadata": {},
     "output_type": "execute_result"
    }
   ],
   "source": [
    "forest.sample()"
   ]
  },
  {
   "cell_type": "code",
   "execution_count": 63,
   "id": "392f8779",
   "metadata": {},
   "outputs": [
    {
     "data": {
      "text/plain": [
       "Index(['Entity', 'Code', 'Year', 'Urban population (% of total population)'], dtype='object')"
      ]
     },
     "execution_count": 63,
     "metadata": {},
     "output_type": "execute_result"
    }
   ],
   "source": [
    "urban.columns"
   ]
  },
  {
   "cell_type": "code",
   "execution_count": 64,
   "id": "a4f580af",
   "metadata": {},
   "outputs": [],
   "source": [
    "urban.rename(columns = {\n",
    "    'Entity':'country', 'Year':'year',\n",
    "    'Urban population (% of total population)':\n",
    "    'u_pop'}, inplace=True)"
   ]
  },
  {
   "cell_type": "code",
   "execution_count": 65,
   "id": "2d859628",
   "metadata": {},
   "outputs": [
    {
     "data": {
      "text/html": [
       "<div>\n",
       "<style scoped>\n",
       "    .dataframe tbody tr th:only-of-type {\n",
       "        vertical-align: middle;\n",
       "    }\n",
       "\n",
       "    .dataframe tbody tr th {\n",
       "        vertical-align: top;\n",
       "    }\n",
       "\n",
       "    .dataframe thead th {\n",
       "        text-align: right;\n",
       "    }\n",
       "</style>\n",
       "<table border=\"1\" class=\"dataframe\">\n",
       "  <thead>\n",
       "    <tr style=\"text-align: right;\">\n",
       "      <th></th>\n",
       "      <th>country</th>\n",
       "      <th>Code</th>\n",
       "      <th>year</th>\n",
       "      <th>u_pop</th>\n",
       "    </tr>\n",
       "  </thead>\n",
       "  <tbody>\n",
       "    <tr>\n",
       "      <th>7749</th>\n",
       "      <td>Laos</td>\n",
       "      <td>LAO</td>\n",
       "      <td>1971</td>\n",
       "      <td>9.955</td>\n",
       "    </tr>\n",
       "  </tbody>\n",
       "</table>\n",
       "</div>"
      ],
      "text/plain": [
       "     country Code  year  u_pop\n",
       "7749    Laos  LAO  1971  9.955"
      ]
     },
     "execution_count": 65,
     "metadata": {},
     "output_type": "execute_result"
    }
   ],
   "source": [
    "urban.sample()"
   ]
  },
  {
   "cell_type": "code",
   "execution_count": 66,
   "id": "cc364541",
   "metadata": {},
   "outputs": [],
   "source": [
    "# spirits1 = spirits.copy()\n",
    "# wine1 = wine.copy()\n",
    "# beer1 = beer.copy()\n",
    "# forest1 = forest.copy()\n",
    "# urban1 = urban.copy()"
   ]
  },
  {
   "cell_type": "code",
   "execution_count": 67,
   "id": "18996227",
   "metadata": {},
   "outputs": [
    {
     "data": {
      "text/plain": [
       "Index(['country', 'Code', 'year', 'u_pop'], dtype='object')"
      ]
     },
     "execution_count": 67,
     "metadata": {},
     "output_type": "execute_result"
    }
   ],
   "source": [
    "urban.columns"
   ]
  },
  {
   "cell_type": "code",
   "execution_count": 68,
   "id": "9904a533",
   "metadata": {},
   "outputs": [],
   "source": [
    "# Clean all CSVs to for list of years in original df\n",
    "#list_y_w\n",
    "\n",
    "spirits1 = spirits[spirits['year'].isin(list_y_w)].reset_index(drop=True)\n",
    "wine1 = wine[wine['year'].isin(list_y_w)].reset_index(drop=True)\n",
    "beer1 = beer[beer['year'].isin(list_y_w)].reset_index(drop=True)\n",
    "forest1 = forest[forest['year'].isin(list_y_w)].reset_index(drop=True)\n",
    "urban1 = urban[urban['year'].isin(list_y_w)].reset_index(drop=True)"
   ]
  },
  {
   "cell_type": "code",
   "execution_count": 69,
   "id": "f98548b3",
   "metadata": {},
   "outputs": [
    {
     "data": {
      "text/html": [
       "<div>\n",
       "<style scoped>\n",
       "    .dataframe tbody tr th:only-of-type {\n",
       "        vertical-align: middle;\n",
       "    }\n",
       "\n",
       "    .dataframe tbody tr th {\n",
       "        vertical-align: top;\n",
       "    }\n",
       "\n",
       "    .dataframe thead th {\n",
       "        text-align: right;\n",
       "    }\n",
       "</style>\n",
       "<table border=\"1\" class=\"dataframe\">\n",
       "  <thead>\n",
       "    <tr style=\"text-align: right;\">\n",
       "      <th></th>\n",
       "      <th>country</th>\n",
       "      <th>Code</th>\n",
       "      <th>year</th>\n",
       "      <th>w_cons</th>\n",
       "    </tr>\n",
       "  </thead>\n",
       "  <tbody>\n",
       "    <tr>\n",
       "      <th>556</th>\n",
       "      <td>Comoros</td>\n",
       "      <td>COM</td>\n",
       "      <td>2006</td>\n",
       "      <td>0.01862</td>\n",
       "    </tr>\n",
       "  </tbody>\n",
       "</table>\n",
       "</div>"
      ],
      "text/plain": [
       "     country Code  year   w_cons\n",
       "556  Comoros  COM  2006  0.01862"
      ]
     },
     "execution_count": 69,
     "metadata": {},
     "output_type": "execute_result"
    }
   ],
   "source": [
    "wine1.sample()"
   ]
  },
  {
   "cell_type": "code",
   "execution_count": 70,
   "id": "de1bdbec",
   "metadata": {},
   "outputs": [],
   "source": [
    "spirits.rename(columns={'Country name':'country'}, inplace=True)"
   ]
  },
  {
   "cell_type": "code",
   "execution_count": 71,
   "id": "d6582ce0",
   "metadata": {},
   "outputs": [
    {
     "data": {
      "text/plain": [
       "Index(['country', 'Code', 'year', 'a_cons'], dtype='object')"
      ]
     },
     "execution_count": 71,
     "metadata": {},
     "output_type": "execute_result"
    }
   ],
   "source": [
    "spirits.columns"
   ]
  },
  {
   "cell_type": "code",
   "execution_count": 72,
   "id": "13eabf09",
   "metadata": {},
   "outputs": [],
   "source": [
    "# Filtering countries to include same countries as in original df\n",
    "#list_cn_w\n",
    "\n",
    "spirits = spirits[spirits['country'].isin(list_cn_w)].reset_index(drop=True)\n",
    "wine = wine[wine['country'].isin(list_cn_w)].reset_index(drop=True)\n",
    "beer = beer[beer['country'].isin(list_cn_w)].reset_index(drop=True)\n",
    "forest = forest[forest['country'].isin(list_cn_w)].reset_index(drop=True)\n",
    "urban = urban[urban['country'].isin(list_cn_w)].reset_index(drop=True)"
   ]
  },
  {
   "cell_type": "code",
   "execution_count": 73,
   "id": "86b9298e",
   "metadata": {},
   "outputs": [],
   "source": [
    "# Creating copies of all newly created dfs to not loose anything while merging\n",
    "sp = spirits.copy()\n",
    "wi = wine.copy()\n",
    "be = beer.copy()\n",
    "fo = forest.copy()\n",
    "ur = urban.copy()"
   ]
  },
  {
   "cell_type": "code",
   "execution_count": 74,
   "id": "bb0e25a4",
   "metadata": {},
   "outputs": [
    {
     "data": {
      "text/plain": [
       "((8371, 4), (8370, 4), (8371, 4), (4744, 4), (9455, 4))"
      ]
     },
     "execution_count": 74,
     "metadata": {},
     "output_type": "execute_result"
    }
   ],
   "source": [
    "sp.shape, wi.shape, be.shape, fo.shape, ur.shape"
   ]
  },
  {
   "cell_type": "markdown",
   "id": "1a6a6254",
   "metadata": {},
   "source": [
    "#### Create a dataframe from all previously imported CSVs (5)"
   ]
  },
  {
   "cell_type": "code",
   "execution_count": 75,
   "id": "7473d8dd",
   "metadata": {},
   "outputs": [],
   "source": [
    "# Merging spritis with wine\n",
    "spwi = sp.merge(wi, on=['country', 'year'])"
   ]
  },
  {
   "cell_type": "code",
   "execution_count": 76,
   "id": "9ab5fd66",
   "metadata": {},
   "outputs": [
    {
     "data": {
      "text/plain": [
       "(8370, 6)"
      ]
     },
     "execution_count": 76,
     "metadata": {},
     "output_type": "execute_result"
    }
   ],
   "source": [
    "spwi.shape"
   ]
  },
  {
   "cell_type": "code",
   "execution_count": 77,
   "id": "fe1ed9c4",
   "metadata": {},
   "outputs": [
    {
     "data": {
      "text/html": [
       "<div>\n",
       "<style scoped>\n",
       "    .dataframe tbody tr th:only-of-type {\n",
       "        vertical-align: middle;\n",
       "    }\n",
       "\n",
       "    .dataframe tbody tr th {\n",
       "        vertical-align: top;\n",
       "    }\n",
       "\n",
       "    .dataframe thead th {\n",
       "        text-align: right;\n",
       "    }\n",
       "</style>\n",
       "<table border=\"1\" class=\"dataframe\">\n",
       "  <thead>\n",
       "    <tr style=\"text-align: right;\">\n",
       "      <th></th>\n",
       "      <th>country</th>\n",
       "      <th>Code_x</th>\n",
       "      <th>year</th>\n",
       "      <th>a_cons</th>\n",
       "      <th>Code_y</th>\n",
       "      <th>w_cons</th>\n",
       "    </tr>\n",
       "  </thead>\n",
       "  <tbody>\n",
       "    <tr>\n",
       "      <th>1255</th>\n",
       "      <td>Cambodia</td>\n",
       "      <td>KHM</td>\n",
       "      <td>2018</td>\n",
       "      <td>0.42</td>\n",
       "      <td>KHM</td>\n",
       "      <td>0.02</td>\n",
       "    </tr>\n",
       "    <tr>\n",
       "      <th>7157</th>\n",
       "      <td>Sweden</td>\n",
       "      <td>SWE</td>\n",
       "      <td>1979</td>\n",
       "      <td>3.78</td>\n",
       "      <td>SWE</td>\n",
       "      <td>1.29</td>\n",
       "    </tr>\n",
       "    <tr>\n",
       "      <th>4868</th>\n",
       "      <td>Mexico</td>\n",
       "      <td>MEX</td>\n",
       "      <td>1973</td>\n",
       "      <td>0.79</td>\n",
       "      <td>MEX</td>\n",
       "      <td>0.04</td>\n",
       "    </tr>\n",
       "    <tr>\n",
       "      <th>4441</th>\n",
       "      <td>Madagascar</td>\n",
       "      <td>MDG</td>\n",
       "      <td>1979</td>\n",
       "      <td>1.12</td>\n",
       "      <td>MDG</td>\n",
       "      <td>0.19</td>\n",
       "    </tr>\n",
       "    <tr>\n",
       "      <th>3025</th>\n",
       "      <td>Haiti</td>\n",
       "      <td>HTI</td>\n",
       "      <td>1993</td>\n",
       "      <td>4.71</td>\n",
       "      <td>HTI</td>\n",
       "      <td>0.00</td>\n",
       "    </tr>\n",
       "  </tbody>\n",
       "</table>\n",
       "</div>"
      ],
      "text/plain": [
       "         country Code_x  year  a_cons Code_y  w_cons\n",
       "1255    Cambodia    KHM  2018    0.42    KHM    0.02\n",
       "7157      Sweden    SWE  1979    3.78    SWE    1.29\n",
       "4868      Mexico    MEX  1973    0.79    MEX    0.04\n",
       "4441  Madagascar    MDG  1979    1.12    MDG    0.19\n",
       "3025       Haiti    HTI  1993    4.71    HTI    0.00"
      ]
     },
     "execution_count": 77,
     "metadata": {},
     "output_type": "execute_result"
    }
   ],
   "source": [
    "spwi.sample(5)"
   ]
  },
  {
   "cell_type": "code",
   "execution_count": 78,
   "id": "e1c0639f",
   "metadata": {},
   "outputs": [],
   "source": [
    "# Merging spirits and wine with beer\n",
    "spwibe = spwi.merge(be, on=['country','year'])"
   ]
  },
  {
   "cell_type": "code",
   "execution_count": 79,
   "id": "37ba5c72",
   "metadata": {},
   "outputs": [
    {
     "data": {
      "text/plain": [
       "(8370, 8)"
      ]
     },
     "execution_count": 79,
     "metadata": {},
     "output_type": "execute_result"
    }
   ],
   "source": [
    "spwibe.shape"
   ]
  },
  {
   "cell_type": "code",
   "execution_count": 80,
   "id": "06314659",
   "metadata": {},
   "outputs": [
    {
     "data": {
      "text/html": [
       "<div>\n",
       "<style scoped>\n",
       "    .dataframe tbody tr th:only-of-type {\n",
       "        vertical-align: middle;\n",
       "    }\n",
       "\n",
       "    .dataframe tbody tr th {\n",
       "        vertical-align: top;\n",
       "    }\n",
       "\n",
       "    .dataframe thead th {\n",
       "        text-align: right;\n",
       "    }\n",
       "</style>\n",
       "<table border=\"1\" class=\"dataframe\">\n",
       "  <thead>\n",
       "    <tr style=\"text-align: right;\">\n",
       "      <th></th>\n",
       "      <th>country</th>\n",
       "      <th>Code_x</th>\n",
       "      <th>year</th>\n",
       "      <th>a_cons</th>\n",
       "      <th>Code_y</th>\n",
       "      <th>w_cons</th>\n",
       "      <th>Code</th>\n",
       "      <th>b_cons</th>\n",
       "    </tr>\n",
       "  </thead>\n",
       "  <tbody>\n",
       "    <tr>\n",
       "      <th>6044</th>\n",
       "      <td>Philippines</td>\n",
       "      <td>PHL</td>\n",
       "      <td>2017</td>\n",
       "      <td>3.33000</td>\n",
       "      <td>PHL</td>\n",
       "      <td>0.03000</td>\n",
       "      <td>PHL</td>\n",
       "      <td>1.38000</td>\n",
       "    </tr>\n",
       "    <tr>\n",
       "      <th>821</th>\n",
       "      <td>Bhutan</td>\n",
       "      <td>BTN</td>\n",
       "      <td>2002</td>\n",
       "      <td>0.00000</td>\n",
       "      <td>BTN</td>\n",
       "      <td>0.00588</td>\n",
       "      <td>BTN</td>\n",
       "      <td>0.29329</td>\n",
       "    </tr>\n",
       "    <tr>\n",
       "      <th>3032</th>\n",
       "      <td>Haiti</td>\n",
       "      <td>HTI</td>\n",
       "      <td>2000</td>\n",
       "      <td>3.44647</td>\n",
       "      <td>HTI</td>\n",
       "      <td>0.03710</td>\n",
       "      <td>HTI</td>\n",
       "      <td>0.14212</td>\n",
       "    </tr>\n",
       "    <tr>\n",
       "      <th>4563</th>\n",
       "      <td>Malaysia</td>\n",
       "      <td>MYS</td>\n",
       "      <td>1983</td>\n",
       "      <td>0.16000</td>\n",
       "      <td>MYS</td>\n",
       "      <td>0.00000</td>\n",
       "      <td>MYS</td>\n",
       "      <td>0.49000</td>\n",
       "    </tr>\n",
       "    <tr>\n",
       "      <th>5681</th>\n",
       "      <td>Norway</td>\n",
       "      <td>NOR</td>\n",
       "      <td>2008</td>\n",
       "      <td>1.33000</td>\n",
       "      <td>NOR</td>\n",
       "      <td>2.23000</td>\n",
       "      <td>NOR</td>\n",
       "      <td>3.06000</td>\n",
       "    </tr>\n",
       "  </tbody>\n",
       "</table>\n",
       "</div>"
      ],
      "text/plain": [
       "          country Code_x  year   a_cons Code_y   w_cons Code   b_cons\n",
       "6044  Philippines    PHL  2017  3.33000    PHL  0.03000  PHL  1.38000\n",
       "821        Bhutan    BTN  2002  0.00000    BTN  0.00588  BTN  0.29329\n",
       "3032        Haiti    HTI  2000  3.44647    HTI  0.03710  HTI  0.14212\n",
       "4563     Malaysia    MYS  1983  0.16000    MYS  0.00000  MYS  0.49000\n",
       "5681       Norway    NOR  2008  1.33000    NOR  2.23000  NOR  3.06000"
      ]
     },
     "execution_count": 80,
     "metadata": {},
     "output_type": "execute_result"
    }
   ],
   "source": [
    "spwibe.sample(5)"
   ]
  },
  {
   "cell_type": "code",
   "execution_count": 81,
   "id": "a12ed019",
   "metadata": {},
   "outputs": [
    {
     "data": {
      "text/plain": [
       "((8371, 4), (8370, 4), (8371, 4), (4744, 4), (9455, 4))"
      ]
     },
     "execution_count": 81,
     "metadata": {},
     "output_type": "execute_result"
    }
   ],
   "source": [
    "# Comparing shapes of all dataframes we will be merging.\n",
    "sp.shape, wi.shape, be.shape, fo.shape, ur.shape"
   ]
  },
  {
   "cell_type": "code",
   "execution_count": 82,
   "id": "42ceed56",
   "metadata": {},
   "outputs": [
    {
     "name": "stderr",
     "output_type": "stream",
     "text": [
      "/Users/cristianravalli/opt/anaconda3/lib/python3.9/site-packages/pandas/core/frame.py:9190: FutureWarning: Passing 'suffixes' which cause duplicate columns {'Code_x'} in the result is deprecated and will raise a MergeError in a future version.\n",
      "  return merge(\n"
     ]
    }
   ],
   "source": [
    "spwibefo = spwibe.merge(fo, on=['country','year'])"
   ]
  },
  {
   "cell_type": "code",
   "execution_count": 83,
   "id": "4b245c2c",
   "metadata": {},
   "outputs": [
    {
     "data": {
      "text/html": [
       "<div>\n",
       "<style scoped>\n",
       "    .dataframe tbody tr th:only-of-type {\n",
       "        vertical-align: middle;\n",
       "    }\n",
       "\n",
       "    .dataframe tbody tr th {\n",
       "        vertical-align: top;\n",
       "    }\n",
       "\n",
       "    .dataframe thead th {\n",
       "        text-align: right;\n",
       "    }\n",
       "</style>\n",
       "<table border=\"1\" class=\"dataframe\">\n",
       "  <thead>\n",
       "    <tr style=\"text-align: right;\">\n",
       "      <th></th>\n",
       "      <th>country</th>\n",
       "      <th>Code_x</th>\n",
       "      <th>year</th>\n",
       "      <th>a_cons</th>\n",
       "      <th>Code_y</th>\n",
       "      <th>w_cons</th>\n",
       "      <th>Code_x</th>\n",
       "      <th>b_cons</th>\n",
       "      <th>Code_y</th>\n",
       "      <th>forest_c</th>\n",
       "    </tr>\n",
       "  </thead>\n",
       "  <tbody>\n",
       "    <tr>\n",
       "      <th>3386</th>\n",
       "      <td>Russia</td>\n",
       "      <td>RUS</td>\n",
       "      <td>2000</td>\n",
       "      <td>7.30900</td>\n",
       "      <td>RUS</td>\n",
       "      <td>0.70884</td>\n",
       "      <td>RUS</td>\n",
       "      <td>2.19153</td>\n",
       "      <td>RUS</td>\n",
       "      <td>49.415334</td>\n",
       "    </tr>\n",
       "    <tr>\n",
       "      <th>3094</th>\n",
       "      <td>Oman</td>\n",
       "      <td>OMN</td>\n",
       "      <td>2010</td>\n",
       "      <td>0.28000</td>\n",
       "      <td>OMN</td>\n",
       "      <td>0.03000</td>\n",
       "      <td>OMN</td>\n",
       "      <td>0.20000</td>\n",
       "      <td>OMN</td>\n",
       "      <td>0.009693</td>\n",
       "    </tr>\n",
       "    <tr>\n",
       "      <th>3069</th>\n",
       "      <td>Norway</td>\n",
       "      <td>NOR</td>\n",
       "      <td>2015</td>\n",
       "      <td>1.03000</td>\n",
       "      <td>NOR</td>\n",
       "      <td>2.22000</td>\n",
       "      <td>NOR</td>\n",
       "      <td>2.57000</td>\n",
       "      <td>NOR</td>\n",
       "      <td>33.251812</td>\n",
       "    </tr>\n",
       "    <tr>\n",
       "      <th>2031</th>\n",
       "      <td>Jordan</td>\n",
       "      <td>JOR</td>\n",
       "      <td>2009</td>\n",
       "      <td>0.35151</td>\n",
       "      <td>JOR</td>\n",
       "      <td>0.02409</td>\n",
       "      <td>JOR</td>\n",
       "      <td>0.17486</td>\n",
       "      <td>JOR</td>\n",
       "      <td>1.098220</td>\n",
       "    </tr>\n",
       "    <tr>\n",
       "      <th>602</th>\n",
       "      <td>Bulgaria</td>\n",
       "      <td>BGR</td>\n",
       "      <td>2015</td>\n",
       "      <td>4.62000</td>\n",
       "      <td>BGR</td>\n",
       "      <td>1.95000</td>\n",
       "      <td>BGR</td>\n",
       "      <td>4.22000</td>\n",
       "      <td>BGR</td>\n",
       "      <td>35.307664</td>\n",
       "    </tr>\n",
       "  </tbody>\n",
       "</table>\n",
       "</div>"
      ],
      "text/plain": [
       "       country Code_x  year   a_cons Code_y   w_cons Code_x   b_cons Code_y  \\\n",
       "3386    Russia    RUS  2000  7.30900    RUS  0.70884    RUS  2.19153    RUS   \n",
       "3094      Oman    OMN  2010  0.28000    OMN  0.03000    OMN  0.20000    OMN   \n",
       "3069    Norway    NOR  2015  1.03000    NOR  2.22000    NOR  2.57000    NOR   \n",
       "2031    Jordan    JOR  2009  0.35151    JOR  0.02409    JOR  0.17486    JOR   \n",
       "602   Bulgaria    BGR  2015  4.62000    BGR  1.95000    BGR  4.22000    BGR   \n",
       "\n",
       "       forest_c  \n",
       "3386  49.415334  \n",
       "3094   0.009693  \n",
       "3069  33.251812  \n",
       "2031   1.098220  \n",
       "602   35.307664  "
      ]
     },
     "execution_count": 83,
     "metadata": {},
     "output_type": "execute_result"
    }
   ],
   "source": [
    "spwibefo.sample(5)"
   ]
  },
  {
   "cell_type": "code",
   "execution_count": 84,
   "id": "8f3fd8a3",
   "metadata": {},
   "outputs": [],
   "source": [
    "spwibefour = spwibefo.merge(ur, on=['country','year'])"
   ]
  },
  {
   "cell_type": "code",
   "execution_count": 85,
   "id": "a08961a9",
   "metadata": {},
   "outputs": [
    {
     "data": {
      "text/html": [
       "<div>\n",
       "<style scoped>\n",
       "    .dataframe tbody tr th:only-of-type {\n",
       "        vertical-align: middle;\n",
       "    }\n",
       "\n",
       "    .dataframe tbody tr th {\n",
       "        vertical-align: top;\n",
       "    }\n",
       "\n",
       "    .dataframe thead th {\n",
       "        text-align: right;\n",
       "    }\n",
       "</style>\n",
       "<table border=\"1\" class=\"dataframe\">\n",
       "  <thead>\n",
       "    <tr style=\"text-align: right;\">\n",
       "      <th></th>\n",
       "      <th>country</th>\n",
       "      <th>Code_x</th>\n",
       "      <th>year</th>\n",
       "      <th>a_cons</th>\n",
       "      <th>Code_y</th>\n",
       "      <th>w_cons</th>\n",
       "      <th>Code_x</th>\n",
       "      <th>b_cons</th>\n",
       "      <th>Code_y</th>\n",
       "      <th>forest_c</th>\n",
       "      <th>Code</th>\n",
       "      <th>u_pop</th>\n",
       "    </tr>\n",
       "  </thead>\n",
       "  <tbody>\n",
       "    <tr>\n",
       "      <th>4142</th>\n",
       "      <td>Uganda</td>\n",
       "      <td>UGA</td>\n",
       "      <td>1999</td>\n",
       "      <td>0.18000</td>\n",
       "      <td>UGA</td>\n",
       "      <td>0.00000</td>\n",
       "      <td>UGA</td>\n",
       "      <td>0.47000</td>\n",
       "      <td>UGA</td>\n",
       "      <td>15.979463</td>\n",
       "      <td>UGA</td>\n",
       "      <td>14.379</td>\n",
       "    </tr>\n",
       "    <tr>\n",
       "      <th>3243</th>\n",
       "      <td>Philippines</td>\n",
       "      <td>PHL</td>\n",
       "      <td>2005</td>\n",
       "      <td>2.89252</td>\n",
       "      <td>PHL</td>\n",
       "      <td>0.01200</td>\n",
       "      <td>PHL</td>\n",
       "      <td>1.28721</td>\n",
       "      <td>PHL</td>\n",
       "      <td>23.726364</td>\n",
       "      <td>PHL</td>\n",
       "      <td>45.710</td>\n",
       "    </tr>\n",
       "    <tr>\n",
       "      <th>2208</th>\n",
       "      <td>Latvia</td>\n",
       "      <td>LVA</td>\n",
       "      <td>2012</td>\n",
       "      <td>3.77000</td>\n",
       "      <td>LVA</td>\n",
       "      <td>1.16000</td>\n",
       "      <td>LVA</td>\n",
       "      <td>4.67000</td>\n",
       "      <td>LVA</td>\n",
       "      <td>54.417131</td>\n",
       "      <td>LVA</td>\n",
       "      <td>67.897</td>\n",
       "    </tr>\n",
       "    <tr>\n",
       "      <th>453</th>\n",
       "      <td>Bhutan</td>\n",
       "      <td>BTN</td>\n",
       "      <td>2014</td>\n",
       "      <td>0.16000</td>\n",
       "      <td>BTN</td>\n",
       "      <td>0.00000</td>\n",
       "      <td>BTN</td>\n",
       "      <td>0.04000</td>\n",
       "      <td>BTN</td>\n",
       "      <td>71.130505</td>\n",
       "      <td>BTN</td>\n",
       "      <td>37.918</td>\n",
       "    </tr>\n",
       "    <tr>\n",
       "      <th>3526</th>\n",
       "      <td>Sierra Leone</td>\n",
       "      <td>SLE</td>\n",
       "      <td>2006</td>\n",
       "      <td>0.01058</td>\n",
       "      <td>SLE</td>\n",
       "      <td>0.15114</td>\n",
       "      <td>SLE</td>\n",
       "      <td>0.13536</td>\n",
       "      <td>SLE</td>\n",
       "      <td>38.945248</td>\n",
       "      <td>SLE</td>\n",
       "      <td>37.303</td>\n",
       "    </tr>\n",
       "  </tbody>\n",
       "</table>\n",
       "</div>"
      ],
      "text/plain": [
       "           country Code_x  year   a_cons Code_y   w_cons Code_x   b_cons  \\\n",
       "4142        Uganda    UGA  1999  0.18000    UGA  0.00000    UGA  0.47000   \n",
       "3243   Philippines    PHL  2005  2.89252    PHL  0.01200    PHL  1.28721   \n",
       "2208        Latvia    LVA  2012  3.77000    LVA  1.16000    LVA  4.67000   \n",
       "453         Bhutan    BTN  2014  0.16000    BTN  0.00000    BTN  0.04000   \n",
       "3526  Sierra Leone    SLE  2006  0.01058    SLE  0.15114    SLE  0.13536   \n",
       "\n",
       "     Code_y   forest_c Code   u_pop  \n",
       "4142    UGA  15.979463  UGA  14.379  \n",
       "3243    PHL  23.726364  PHL  45.710  \n",
       "2208    LVA  54.417131  LVA  67.897  \n",
       "453     BTN  71.130505  BTN  37.918  \n",
       "3526    SLE  38.945248  SLE  37.303  "
      ]
     },
     "execution_count": 85,
     "metadata": {},
     "output_type": "execute_result"
    }
   ],
   "source": [
    "spwibefour.sample(5)"
   ]
  },
  {
   "cell_type": "code",
   "execution_count": 86,
   "id": "1024b3c8",
   "metadata": {},
   "outputs": [],
   "source": [
    "list_y_w = list(df_w['year'].unique())"
   ]
  },
  {
   "cell_type": "code",
   "execution_count": 87,
   "id": "c862d116",
   "metadata": {},
   "outputs": [
    {
     "data": {
      "text/plain": [
       "[2008,\n",
       " 2009,\n",
       " 2010,\n",
       " 2011,\n",
       " 2012,\n",
       " 2013,\n",
       " 2014,\n",
       " 2015,\n",
       " 2016,\n",
       " 2017,\n",
       " 2018,\n",
       " 2019,\n",
       " 2007,\n",
       " 2020,\n",
       " 2006,\n",
       " 2005]"
      ]
     },
     "execution_count": 87,
     "metadata": {},
     "output_type": "execute_result"
    }
   ],
   "source": [
    "list_y_w"
   ]
  },
  {
   "cell_type": "code",
   "execution_count": 88,
   "id": "3f338c95",
   "metadata": {},
   "outputs": [],
   "source": [
    "# Reducing yearly data to the same range as in original dataframe\n",
    "spwibefour = spwibefour[spwibefour['year'].isin(\n",
    "    list_y_w)].reset_index(drop=True)"
   ]
  },
  {
   "cell_type": "code",
   "execution_count": 89,
   "id": "612a0157",
   "metadata": {},
   "outputs": [
    {
     "data": {
      "text/html": [
       "<div>\n",
       "<style scoped>\n",
       "    .dataframe tbody tr th:only-of-type {\n",
       "        vertical-align: middle;\n",
       "    }\n",
       "\n",
       "    .dataframe tbody tr th {\n",
       "        vertical-align: top;\n",
       "    }\n",
       "\n",
       "    .dataframe thead th {\n",
       "        text-align: right;\n",
       "    }\n",
       "</style>\n",
       "<table border=\"1\" class=\"dataframe\">\n",
       "  <thead>\n",
       "    <tr style=\"text-align: right;\">\n",
       "      <th></th>\n",
       "      <th>country</th>\n",
       "      <th>Code_x</th>\n",
       "      <th>year</th>\n",
       "      <th>a_cons</th>\n",
       "      <th>Code_y</th>\n",
       "      <th>w_cons</th>\n",
       "      <th>Code_x</th>\n",
       "      <th>b_cons</th>\n",
       "      <th>Code_y</th>\n",
       "      <th>forest_c</th>\n",
       "      <th>Code</th>\n",
       "      <th>u_pop</th>\n",
       "    </tr>\n",
       "  </thead>\n",
       "  <tbody>\n",
       "    <tr>\n",
       "      <th>525</th>\n",
       "      <td>Cyprus</td>\n",
       "      <td>CYP</td>\n",
       "      <td>2005</td>\n",
       "      <td>4.99983</td>\n",
       "      <td>CYP</td>\n",
       "      <td>2.78991</td>\n",
       "      <td>CYP</td>\n",
       "      <td>3.62488</td>\n",
       "      <td>CYP</td>\n",
       "      <td>18.639069</td>\n",
       "      <td>CYP</td>\n",
       "      <td>68.268</td>\n",
       "    </tr>\n",
       "    <tr>\n",
       "      <th>1052</th>\n",
       "      <td>Kenya</td>\n",
       "      <td>KEN</td>\n",
       "      <td>2007</td>\n",
       "      <td>0.21820</td>\n",
       "      <td>KEN</td>\n",
       "      <td>0.02503</td>\n",
       "      <td>KEN</td>\n",
       "      <td>0.94786</td>\n",
       "      <td>KEN</td>\n",
       "      <td>6.535817</td>\n",
       "      <td>KEN</td>\n",
       "      <td>22.420</td>\n",
       "    </tr>\n",
       "    <tr>\n",
       "      <th>1916</th>\n",
       "      <td>Spain</td>\n",
       "      <td>ESP</td>\n",
       "      <td>2018</td>\n",
       "      <td>2.30000</td>\n",
       "      <td>ESP</td>\n",
       "      <td>3.33000</td>\n",
       "      <td>ESP</td>\n",
       "      <td>4.57000</td>\n",
       "      <td>ESP</td>\n",
       "      <td>37.161190</td>\n",
       "      <td>ESP</td>\n",
       "      <td>80.321</td>\n",
       "    </tr>\n",
       "    <tr>\n",
       "      <th>1</th>\n",
       "      <td>Afghanistan</td>\n",
       "      <td>AFG</td>\n",
       "      <td>2006</td>\n",
       "      <td>0.00685</td>\n",
       "      <td>AFG</td>\n",
       "      <td>0.00786</td>\n",
       "      <td>AFG</td>\n",
       "      <td>0.01147</td>\n",
       "      <td>AFG</td>\n",
       "      <td>1.850994</td>\n",
       "      <td>AFG</td>\n",
       "      <td>22.907</td>\n",
       "    </tr>\n",
       "    <tr>\n",
       "      <th>1499</th>\n",
       "      <td>Nicaragua</td>\n",
       "      <td>NIC</td>\n",
       "      <td>2005</td>\n",
       "      <td>2.51404</td>\n",
       "      <td>NIC</td>\n",
       "      <td>0.01528</td>\n",
       "      <td>NIC</td>\n",
       "      <td>1.11538</td>\n",
       "      <td>NIC</td>\n",
       "      <td>39.834926</td>\n",
       "      <td>NIC</td>\n",
       "      <td>55.935</td>\n",
       "    </tr>\n",
       "  </tbody>\n",
       "</table>\n",
       "</div>"
      ],
      "text/plain": [
       "          country Code_x  year   a_cons Code_y   w_cons Code_x   b_cons  \\\n",
       "525        Cyprus    CYP  2005  4.99983    CYP  2.78991    CYP  3.62488   \n",
       "1052        Kenya    KEN  2007  0.21820    KEN  0.02503    KEN  0.94786   \n",
       "1916        Spain    ESP  2018  2.30000    ESP  3.33000    ESP  4.57000   \n",
       "1     Afghanistan    AFG  2006  0.00685    AFG  0.00786    AFG  0.01147   \n",
       "1499    Nicaragua    NIC  2005  2.51404    NIC  0.01528    NIC  1.11538   \n",
       "\n",
       "     Code_y   forest_c Code   u_pop  \n",
       "525     CYP  18.639069  CYP  68.268  \n",
       "1052    KEN   6.535817  KEN  22.420  \n",
       "1916    ESP  37.161190  ESP  80.321  \n",
       "1       AFG   1.850994  AFG  22.907  \n",
       "1499    NIC  39.834926  NIC  55.935  "
      ]
     },
     "execution_count": 89,
     "metadata": {},
     "output_type": "execute_result"
    }
   ],
   "source": [
    "spwibefour.sample(5)"
   ]
  },
  {
   "cell_type": "code",
   "execution_count": 90,
   "id": "700e4427",
   "metadata": {},
   "outputs": [
    {
     "data": {
      "text/plain": [
       "(2293, 12)"
      ]
     },
     "execution_count": 90,
     "metadata": {},
     "output_type": "execute_result"
    }
   ],
   "source": [
    "spwibefour.shape"
   ]
  },
  {
   "cell_type": "code",
   "execution_count": 91,
   "id": "70ae7eca",
   "metadata": {},
   "outputs": [],
   "source": [
    "moref = spwibefour.copy()"
   ]
  },
  {
   "cell_type": "code",
   "execution_count": 92,
   "id": "32707f97",
   "metadata": {},
   "outputs": [
    {
     "data": {
      "text/plain": [
       "Index(['country', 'Code_x', 'year', 'a_cons', 'Code_y', 'w_cons', 'Code_x',\n",
       "       'b_cons', 'Code_y', 'forest_c', 'Code', 'u_pop'],\n",
       "      dtype='object')"
      ]
     },
     "execution_count": 92,
     "metadata": {},
     "output_type": "execute_result"
    }
   ],
   "source": [
    "moref.columns"
   ]
  },
  {
   "cell_type": "code",
   "execution_count": 93,
   "id": "b236eccd",
   "metadata": {},
   "outputs": [],
   "source": [
    "# Removing 'Code.' columns created through merging\n",
    "moref1 = moref[['country','year', 'a_cons', 'w_cons',\n",
    "       'b_cons', 'forest_c', 'u_pop']]"
   ]
  },
  {
   "cell_type": "code",
   "execution_count": 94,
   "id": "943b65c8",
   "metadata": {},
   "outputs": [
    {
     "data": {
      "text/html": [
       "<div>\n",
       "<style scoped>\n",
       "    .dataframe tbody tr th:only-of-type {\n",
       "        vertical-align: middle;\n",
       "    }\n",
       "\n",
       "    .dataframe tbody tr th {\n",
       "        vertical-align: top;\n",
       "    }\n",
       "\n",
       "    .dataframe thead th {\n",
       "        text-align: right;\n",
       "    }\n",
       "</style>\n",
       "<table border=\"1\" class=\"dataframe\">\n",
       "  <thead>\n",
       "    <tr style=\"text-align: right;\">\n",
       "      <th></th>\n",
       "      <th>country</th>\n",
       "      <th>year</th>\n",
       "      <th>a_cons</th>\n",
       "      <th>w_cons</th>\n",
       "      <th>b_cons</th>\n",
       "      <th>forest_c</th>\n",
       "      <th>u_pop</th>\n",
       "    </tr>\n",
       "  </thead>\n",
       "  <tbody>\n",
       "    <tr>\n",
       "      <th>0</th>\n",
       "      <td>Afghanistan</td>\n",
       "      <td>2005</td>\n",
       "      <td>0.00605</td>\n",
       "      <td>0.00084</td>\n",
       "      <td>0.00934</td>\n",
       "      <td>1.850994</td>\n",
       "      <td>22.703</td>\n",
       "    </tr>\n",
       "    <tr>\n",
       "      <th>1</th>\n",
       "      <td>Afghanistan</td>\n",
       "      <td>2006</td>\n",
       "      <td>0.00685</td>\n",
       "      <td>0.00786</td>\n",
       "      <td>0.01147</td>\n",
       "      <td>1.850994</td>\n",
       "      <td>22.907</td>\n",
       "    </tr>\n",
       "    <tr>\n",
       "      <th>2</th>\n",
       "      <td>Afghanistan</td>\n",
       "      <td>2007</td>\n",
       "      <td>0.00202</td>\n",
       "      <td>0.00887</td>\n",
       "      <td>0.00713</td>\n",
       "      <td>1.850994</td>\n",
       "      <td>23.113</td>\n",
       "    </tr>\n",
       "    <tr>\n",
       "      <th>3</th>\n",
       "      <td>Afghanistan</td>\n",
       "      <td>2008</td>\n",
       "      <td>0.01809</td>\n",
       "      <td>0.00089</td>\n",
       "      <td>0.00857</td>\n",
       "      <td>1.850994</td>\n",
       "      <td>23.320</td>\n",
       "    </tr>\n",
       "    <tr>\n",
       "      <th>4</th>\n",
       "      <td>Afghanistan</td>\n",
       "      <td>2009</td>\n",
       "      <td>0.00000</td>\n",
       "      <td>0.00000</td>\n",
       "      <td>0.00972</td>\n",
       "      <td>1.850994</td>\n",
       "      <td>23.528</td>\n",
       "    </tr>\n",
       "    <tr>\n",
       "      <th>...</th>\n",
       "      <td>...</td>\n",
       "      <td>...</td>\n",
       "      <td>...</td>\n",
       "      <td>...</td>\n",
       "      <td>...</td>\n",
       "      <td>...</td>\n",
       "      <td>...</td>\n",
       "    </tr>\n",
       "    <tr>\n",
       "      <th>2288</th>\n",
       "      <td>Zimbabwe</td>\n",
       "      <td>2015</td>\n",
       "      <td>0.36000</td>\n",
       "      <td>0.06000</td>\n",
       "      <td>1.93000</td>\n",
       "      <td>45.689363</td>\n",
       "      <td>32.385</td>\n",
       "    </tr>\n",
       "    <tr>\n",
       "      <th>2289</th>\n",
       "      <td>Zimbabwe</td>\n",
       "      <td>2016</td>\n",
       "      <td>0.35000</td>\n",
       "      <td>0.05000</td>\n",
       "      <td>1.93000</td>\n",
       "      <td>45.570273</td>\n",
       "      <td>32.296</td>\n",
       "    </tr>\n",
       "    <tr>\n",
       "      <th>2290</th>\n",
       "      <td>Zimbabwe</td>\n",
       "      <td>2017</td>\n",
       "      <td>0.39000</td>\n",
       "      <td>0.05000</td>\n",
       "      <td>1.93000</td>\n",
       "      <td>45.451183</td>\n",
       "      <td>32.237</td>\n",
       "    </tr>\n",
       "    <tr>\n",
       "      <th>2291</th>\n",
       "      <td>Zimbabwe</td>\n",
       "      <td>2018</td>\n",
       "      <td>0.39000</td>\n",
       "      <td>0.04000</td>\n",
       "      <td>1.20000</td>\n",
       "      <td>45.332093</td>\n",
       "      <td>32.209</td>\n",
       "    </tr>\n",
       "    <tr>\n",
       "      <th>2292</th>\n",
       "      <td>Zimbabwe</td>\n",
       "      <td>2019</td>\n",
       "      <td>0.39000</td>\n",
       "      <td>0.05000</td>\n",
       "      <td>1.20000</td>\n",
       "      <td>45.213002</td>\n",
       "      <td>32.210</td>\n",
       "    </tr>\n",
       "  </tbody>\n",
       "</table>\n",
       "<p>2293 rows × 7 columns</p>\n",
       "</div>"
      ],
      "text/plain": [
       "          country  year   a_cons   w_cons   b_cons   forest_c   u_pop\n",
       "0     Afghanistan  2005  0.00605  0.00084  0.00934   1.850994  22.703\n",
       "1     Afghanistan  2006  0.00685  0.00786  0.01147   1.850994  22.907\n",
       "2     Afghanistan  2007  0.00202  0.00887  0.00713   1.850994  23.113\n",
       "3     Afghanistan  2008  0.01809  0.00089  0.00857   1.850994  23.320\n",
       "4     Afghanistan  2009  0.00000  0.00000  0.00972   1.850994  23.528\n",
       "...           ...   ...      ...      ...      ...        ...     ...\n",
       "2288     Zimbabwe  2015  0.36000  0.06000  1.93000  45.689363  32.385\n",
       "2289     Zimbabwe  2016  0.35000  0.05000  1.93000  45.570273  32.296\n",
       "2290     Zimbabwe  2017  0.39000  0.05000  1.93000  45.451183  32.237\n",
       "2291     Zimbabwe  2018  0.39000  0.04000  1.20000  45.332093  32.209\n",
       "2292     Zimbabwe  2019  0.39000  0.05000  1.20000  45.213002  32.210\n",
       "\n",
       "[2293 rows x 7 columns]"
      ]
     },
     "execution_count": 94,
     "metadata": {},
     "output_type": "execute_result"
    }
   ],
   "source": [
    "moref1"
   ]
  },
  {
   "cell_type": "markdown",
   "id": "c0a92550",
   "metadata": {},
   "source": [
    "### Second merge to increase my original data frame by 5 more datasets"
   ]
  },
  {
   "cell_type": "code",
   "execution_count": 95,
   "id": "4b6c2822",
   "metadata": {},
   "outputs": [],
   "source": [
    "# Copies of my two original dataframes\n",
    "\n",
    "original = df_w.copy()\n",
    "features2 = moref1.copy()"
   ]
  },
  {
   "cell_type": "code",
   "execution_count": 96,
   "id": "8e683b18",
   "metadata": {},
   "outputs": [
    {
     "data": {
      "text/plain": [
       "((1858, 13), (2293, 7))"
      ]
     },
     "execution_count": 96,
     "metadata": {},
     "output_type": "execute_result"
    }
   ],
   "source": [
    "original.shape, features2.shape"
   ]
  },
  {
   "cell_type": "code",
   "execution_count": 97,
   "id": "c7121dc1",
   "metadata": {},
   "outputs": [
    {
     "data": {
      "text/html": [
       "<div>\n",
       "<style scoped>\n",
       "    .dataframe tbody tr th:only-of-type {\n",
       "        vertical-align: middle;\n",
       "    }\n",
       "\n",
       "    .dataframe tbody tr th {\n",
       "        vertical-align: top;\n",
       "    }\n",
       "\n",
       "    .dataframe thead th {\n",
       "        text-align: right;\n",
       "    }\n",
       "</style>\n",
       "<table border=\"1\" class=\"dataframe\">\n",
       "  <thead>\n",
       "    <tr style=\"text-align: right;\">\n",
       "      <th></th>\n",
       "      <th>Country name</th>\n",
       "      <th>year</th>\n",
       "      <th>Life Ladder</th>\n",
       "      <th>Log GDP per capita</th>\n",
       "      <th>Social support</th>\n",
       "      <th>Healthy life expectancy at birth</th>\n",
       "      <th>Freedom to make life choices</th>\n",
       "      <th>Generosity</th>\n",
       "      <th>Perceptions of corruption</th>\n",
       "      <th>Positive affect</th>\n",
       "      <th>Negative affect</th>\n",
       "      <th>tot_alc_cons</th>\n",
       "      <th>population</th>\n",
       "    </tr>\n",
       "  </thead>\n",
       "  <tbody>\n",
       "    <tr>\n",
       "      <th>1726</th>\n",
       "      <td>United Arab Emirates</td>\n",
       "      <td>2017</td>\n",
       "      <td>7.039</td>\n",
       "      <td>11.115</td>\n",
       "      <td>0.836</td>\n",
       "      <td>66.9</td>\n",
       "      <td>0.962</td>\n",
       "      <td>0.216</td>\n",
       "      <td>NaN</td>\n",
       "      <td>0.795</td>\n",
       "      <td>0.208</td>\n",
       "      <td>NaN</td>\n",
       "      <td>9487206.0</td>\n",
       "    </tr>\n",
       "  </tbody>\n",
       "</table>\n",
       "</div>"
      ],
      "text/plain": [
       "              Country name  year  Life Ladder  Log GDP per capita  \\\n",
       "1726  United Arab Emirates  2017        7.039              11.115   \n",
       "\n",
       "      Social support  Healthy life expectancy at birth  \\\n",
       "1726           0.836                              66.9   \n",
       "\n",
       "      Freedom to make life choices  Generosity  Perceptions of corruption  \\\n",
       "1726                         0.962       0.216                        NaN   \n",
       "\n",
       "      Positive affect  Negative affect  tot_alc_cons  population  \n",
       "1726            0.795            0.208           NaN   9487206.0  "
      ]
     },
     "execution_count": 97,
     "metadata": {},
     "output_type": "execute_result"
    }
   ],
   "source": [
    "original.sample()"
   ]
  },
  {
   "cell_type": "code",
   "execution_count": 98,
   "id": "6c7d1739",
   "metadata": {},
   "outputs": [
    {
     "data": {
      "text/html": [
       "<div>\n",
       "<style scoped>\n",
       "    .dataframe tbody tr th:only-of-type {\n",
       "        vertical-align: middle;\n",
       "    }\n",
       "\n",
       "    .dataframe tbody tr th {\n",
       "        vertical-align: top;\n",
       "    }\n",
       "\n",
       "    .dataframe thead th {\n",
       "        text-align: right;\n",
       "    }\n",
       "</style>\n",
       "<table border=\"1\" class=\"dataframe\">\n",
       "  <thead>\n",
       "    <tr style=\"text-align: right;\">\n",
       "      <th></th>\n",
       "      <th>country</th>\n",
       "      <th>year</th>\n",
       "      <th>a_cons</th>\n",
       "      <th>w_cons</th>\n",
       "      <th>b_cons</th>\n",
       "      <th>forest_c</th>\n",
       "      <th>u_pop</th>\n",
       "    </tr>\n",
       "  </thead>\n",
       "  <tbody>\n",
       "    <tr>\n",
       "      <th>2131</th>\n",
       "      <td>Ukraine</td>\n",
       "      <td>2008</td>\n",
       "      <td>5.24293</td>\n",
       "      <td>0.48396</td>\n",
       "      <td>3.59742</td>\n",
       "      <td>16.468842</td>\n",
       "      <td>68.325</td>\n",
       "    </tr>\n",
       "  </tbody>\n",
       "</table>\n",
       "</div>"
      ],
      "text/plain": [
       "      country  year   a_cons   w_cons   b_cons   forest_c   u_pop\n",
       "2131  Ukraine  2008  5.24293  0.48396  3.59742  16.468842  68.325"
      ]
     },
     "execution_count": 98,
     "metadata": {},
     "output_type": "execute_result"
    }
   ],
   "source": [
    "features2.sample()"
   ]
  },
  {
   "cell_type": "code",
   "execution_count": 99,
   "id": "c5927cd8",
   "metadata": {},
   "outputs": [],
   "source": [
    "# rename Country name column into country for original dataframe\n",
    "original.rename(columns={'Country name':'country'}, inplace=True)"
   ]
  },
  {
   "cell_type": "code",
   "execution_count": 100,
   "id": "2e22e867",
   "metadata": {},
   "outputs": [
    {
     "data": {
      "text/html": [
       "<div>\n",
       "<style scoped>\n",
       "    .dataframe tbody tr th:only-of-type {\n",
       "        vertical-align: middle;\n",
       "    }\n",
       "\n",
       "    .dataframe tbody tr th {\n",
       "        vertical-align: top;\n",
       "    }\n",
       "\n",
       "    .dataframe thead th {\n",
       "        text-align: right;\n",
       "    }\n",
       "</style>\n",
       "<table border=\"1\" class=\"dataframe\">\n",
       "  <thead>\n",
       "    <tr style=\"text-align: right;\">\n",
       "      <th></th>\n",
       "      <th>country</th>\n",
       "      <th>year</th>\n",
       "      <th>Life Ladder</th>\n",
       "      <th>Log GDP per capita</th>\n",
       "      <th>Social support</th>\n",
       "      <th>Healthy life expectancy at birth</th>\n",
       "      <th>Freedom to make life choices</th>\n",
       "      <th>Generosity</th>\n",
       "      <th>Perceptions of corruption</th>\n",
       "      <th>Positive affect</th>\n",
       "      <th>Negative affect</th>\n",
       "      <th>tot_alc_cons</th>\n",
       "      <th>population</th>\n",
       "    </tr>\n",
       "  </thead>\n",
       "  <tbody>\n",
       "    <tr>\n",
       "      <th>1683</th>\n",
       "      <td>Turkmenistan</td>\n",
       "      <td>2016</td>\n",
       "      <td>5.887</td>\n",
       "      <td>9.515</td>\n",
       "      <td>0.929</td>\n",
       "      <td>61.4</td>\n",
       "      <td>0.749</td>\n",
       "      <td>0.005</td>\n",
       "      <td>NaN</td>\n",
       "      <td>0.636</td>\n",
       "      <td>0.255</td>\n",
       "      <td>NaN</td>\n",
       "      <td>5662371.0</td>\n",
       "    </tr>\n",
       "  </tbody>\n",
       "</table>\n",
       "</div>"
      ],
      "text/plain": [
       "           country  year  Life Ladder  Log GDP per capita  Social support  \\\n",
       "1683  Turkmenistan  2016        5.887               9.515           0.929   \n",
       "\n",
       "      Healthy life expectancy at birth  Freedom to make life choices  \\\n",
       "1683                              61.4                         0.749   \n",
       "\n",
       "      Generosity  Perceptions of corruption  Positive affect  Negative affect  \\\n",
       "1683       0.005                        NaN            0.636            0.255   \n",
       "\n",
       "      tot_alc_cons  population  \n",
       "1683           NaN   5662371.0  "
      ]
     },
     "execution_count": 100,
     "metadata": {},
     "output_type": "execute_result"
    }
   ],
   "source": [
    "original.sample()"
   ]
  },
  {
   "cell_type": "code",
   "execution_count": 101,
   "id": "be4500f4",
   "metadata": {},
   "outputs": [],
   "source": [
    "# Merging my to dataframe to get my new complete dataframe"
   ]
  },
  {
   "cell_type": "code",
   "execution_count": 102,
   "id": "1d3a7d08",
   "metadata": {},
   "outputs": [],
   "source": [
    "complete_df = original.merge(features2, on=['country', 'year'])"
   ]
  },
  {
   "cell_type": "code",
   "execution_count": 103,
   "id": "d9afa233",
   "metadata": {},
   "outputs": [
    {
     "data": {
      "text/html": [
       "<div>\n",
       "<style scoped>\n",
       "    .dataframe tbody tr th:only-of-type {\n",
       "        vertical-align: middle;\n",
       "    }\n",
       "\n",
       "    .dataframe tbody tr th {\n",
       "        vertical-align: top;\n",
       "    }\n",
       "\n",
       "    .dataframe thead th {\n",
       "        text-align: right;\n",
       "    }\n",
       "</style>\n",
       "<table border=\"1\" class=\"dataframe\">\n",
       "  <thead>\n",
       "    <tr style=\"text-align: right;\">\n",
       "      <th></th>\n",
       "      <th>536</th>\n",
       "    </tr>\n",
       "  </thead>\n",
       "  <tbody>\n",
       "    <tr>\n",
       "      <th>country</th>\n",
       "      <td>Georgia</td>\n",
       "    </tr>\n",
       "    <tr>\n",
       "      <th>year</th>\n",
       "      <td>2010</td>\n",
       "    </tr>\n",
       "    <tr>\n",
       "      <th>Life Ladder</th>\n",
       "      <td>4.102</td>\n",
       "    </tr>\n",
       "    <tr>\n",
       "      <th>Log GDP per capita</th>\n",
       "      <td>9.184</td>\n",
       "    </tr>\n",
       "    <tr>\n",
       "      <th>Social support</th>\n",
       "      <td>0.54</td>\n",
       "    </tr>\n",
       "    <tr>\n",
       "      <th>Healthy life expectancy at birth</th>\n",
       "      <td>64.8</td>\n",
       "    </tr>\n",
       "    <tr>\n",
       "      <th>Freedom to make life choices</th>\n",
       "      <td>0.558</td>\n",
       "    </tr>\n",
       "    <tr>\n",
       "      <th>Generosity</th>\n",
       "      <td>-0.248</td>\n",
       "    </tr>\n",
       "    <tr>\n",
       "      <th>Perceptions of corruption</th>\n",
       "      <td>0.46</td>\n",
       "    </tr>\n",
       "    <tr>\n",
       "      <th>Positive affect</th>\n",
       "      <td>0.502</td>\n",
       "    </tr>\n",
       "    <tr>\n",
       "      <th>Negative affect</th>\n",
       "      <td>0.243</td>\n",
       "    </tr>\n",
       "    <tr>\n",
       "      <th>tot_alc_cons</th>\n",
       "      <td>9.67</td>\n",
       "    </tr>\n",
       "    <tr>\n",
       "      <th>population</th>\n",
       "      <td>4099095.0</td>\n",
       "    </tr>\n",
       "    <tr>\n",
       "      <th>a_cons</th>\n",
       "      <td>3.03</td>\n",
       "    </tr>\n",
       "    <tr>\n",
       "      <th>w_cons</th>\n",
       "      <td>3.22</td>\n",
       "    </tr>\n",
       "    <tr>\n",
       "      <th>b_cons</th>\n",
       "      <td>1.47</td>\n",
       "    </tr>\n",
       "    <tr>\n",
       "      <th>forest_c</th>\n",
       "      <td>40.615916</td>\n",
       "    </tr>\n",
       "    <tr>\n",
       "      <th>u_pop</th>\n",
       "      <td>55.535</td>\n",
       "    </tr>\n",
       "  </tbody>\n",
       "</table>\n",
       "</div>"
      ],
      "text/plain": [
       "                                        536\n",
       "country                             Georgia\n",
       "year                                   2010\n",
       "Life Ladder                           4.102\n",
       "Log GDP per capita                    9.184\n",
       "Social support                         0.54\n",
       "Healthy life expectancy at birth       64.8\n",
       "Freedom to make life choices          0.558\n",
       "Generosity                           -0.248\n",
       "Perceptions of corruption              0.46\n",
       "Positive affect                       0.502\n",
       "Negative affect                       0.243\n",
       "tot_alc_cons                           9.67\n",
       "population                        4099095.0\n",
       "a_cons                                 3.03\n",
       "w_cons                                 3.22\n",
       "b_cons                                 1.47\n",
       "forest_c                          40.615916\n",
       "u_pop                                55.535"
      ]
     },
     "execution_count": 103,
     "metadata": {},
     "output_type": "execute_result"
    }
   ],
   "source": [
    "# Showing all columns of new dataframe\n",
    "complete_df.sample().T"
   ]
  },
  {
   "cell_type": "code",
   "execution_count": 104,
   "id": "22a38034",
   "metadata": {},
   "outputs": [
    {
     "data": {
      "text/plain": [
       "Index(['country', 'year', 'Life Ladder', 'Log GDP per capita',\n",
       "       'Social support', 'Healthy life expectancy at birth',\n",
       "       'Freedom to make life choices', 'Generosity',\n",
       "       'Perceptions of corruption', 'Positive affect', 'Negative affect',\n",
       "       'tot_alc_cons', 'population', 'a_cons', 'w_cons', 'b_cons', 'forest_c',\n",
       "       'u_pop'],\n",
       "      dtype='object')"
      ]
     },
     "execution_count": 104,
     "metadata": {},
     "output_type": "execute_result"
    }
   ],
   "source": [
    "complete_df.columns"
   ]
  },
  {
   "cell_type": "code",
   "execution_count": 105,
   "id": "7025da15",
   "metadata": {},
   "outputs": [],
   "source": [
    "# clean up all columns into country for original dataframe\n",
    "complete_df.rename(columns={'Life Ladder':'happiness_s',\n",
    "                           'Log GDP per capita':'log_gdp',\n",
    "                           'Social support':'social_s',\n",
    "                           'Healthy life expectancy at birth':'life_ex',\n",
    "                           'Freedom to make life choices':'life_choices',\n",
    "                           'Generosity':'generosity',\n",
    "                           'Perceptions of corruption':'corruption',\n",
    "                           'Positive affect':'positive_a',\n",
    "                           'Negative affect':'negative_a',\n",
    "                           'a_cons':'spirit_c',\n",
    "                           'w_cons':'wine_c',\n",
    "                           'b_cons':'beer_c'}, inplace=True)"
   ]
  },
  {
   "cell_type": "code",
   "execution_count": 106,
   "id": "4e897f02",
   "metadata": {},
   "outputs": [
    {
     "data": {
      "text/plain": [
       "(1745, 18)"
      ]
     },
     "execution_count": 106,
     "metadata": {},
     "output_type": "execute_result"
    }
   ],
   "source": [
    "complete_df.shape"
   ]
  },
  {
   "cell_type": "code",
   "execution_count": 107,
   "id": "849e93aa",
   "metadata": {},
   "outputs": [
    {
     "name": "stdout",
     "output_type": "stream",
     "text": [
      "<class 'pandas.core.frame.DataFrame'>\n",
      "Int64Index: 1745 entries, 0 to 1744\n",
      "Data columns (total 18 columns):\n",
      " #   Column        Non-Null Count  Dtype  \n",
      "---  ------        --------------  -----  \n",
      " 0   country       1745 non-null   object \n",
      " 1   year          1745 non-null   int64  \n",
      " 2   happiness_s   1745 non-null   float64\n",
      " 3   log_gdp       1735 non-null   float64\n",
      " 4   social_s      1732 non-null   float64\n",
      " 5   life_ex       1745 non-null   float64\n",
      " 6   life_choices  1715 non-null   float64\n",
      " 7   generosity    1684 non-null   float64\n",
      " 8   corruption    1642 non-null   float64\n",
      " 9   positive_a    1725 non-null   float64\n",
      " 10  negative_a    1730 non-null   float64\n",
      " 11  tot_alc_cons  410 non-null    float64\n",
      " 12  population    1745 non-null   float64\n",
      " 13  spirit_c      1745 non-null   float64\n",
      " 14  wine_c        1745 non-null   float64\n",
      " 15  beer_c        1745 non-null   float64\n",
      " 16  forest_c      1745 non-null   float64\n",
      " 17  u_pop         1745 non-null   float64\n",
      "dtypes: float64(16), int64(1), object(1)\n",
      "memory usage: 259.0+ KB\n"
     ]
    }
   ],
   "source": [
    "complete_df.info()"
   ]
  },
  {
   "cell_type": "markdown",
   "id": "96509f4f",
   "metadata": {},
   "source": [
    "##### Investigating some more predictors"
   ]
  },
  {
   "cell_type": "code",
   "execution_count": 108,
   "id": "02039059",
   "metadata": {},
   "outputs": [],
   "source": [
    "# Importing three more data files to increase my potential features\n",
    "\n",
    "education = pd.read_csv('no education_share.csv')\n",
    "women = pd.read_csv('women_mgmt.csv')\n",
    "adep = pd.read_csv('age_dependency.csv')"
   ]
  },
  {
   "cell_type": "code",
   "execution_count": 109,
   "id": "778ebdab",
   "metadata": {},
   "outputs": [
    {
     "data": {
      "text/plain": [
       "((1865, 4), (1016, 4), (14720, 4))"
      ]
     },
     "execution_count": 109,
     "metadata": {},
     "output_type": "execute_result"
    }
   ],
   "source": [
    "education.shape,women.shape,adep.shape"
   ]
  },
  {
   "cell_type": "code",
   "execution_count": 110,
   "id": "a9163751",
   "metadata": {},
   "outputs": [
    {
     "data": {
      "text/html": [
       "<div>\n",
       "<style scoped>\n",
       "    .dataframe tbody tr th:only-of-type {\n",
       "        vertical-align: middle;\n",
       "    }\n",
       "\n",
       "    .dataframe tbody tr th {\n",
       "        vertical-align: top;\n",
       "    }\n",
       "\n",
       "    .dataframe thead th {\n",
       "        text-align: right;\n",
       "    }\n",
       "</style>\n",
       "<table border=\"1\" class=\"dataframe\">\n",
       "  <thead>\n",
       "    <tr style=\"text-align: right;\">\n",
       "      <th></th>\n",
       "      <th>Entity</th>\n",
       "      <th>Code</th>\n",
       "      <th>Year</th>\n",
       "      <th>IIASA rates of no education projections (IIASA (2015))</th>\n",
       "    </tr>\n",
       "  </thead>\n",
       "  <tbody>\n",
       "    <tr>\n",
       "      <th>295</th>\n",
       "      <td>Chad</td>\n",
       "      <td>TCD</td>\n",
       "      <td>2050</td>\n",
       "      <td>19.973283</td>\n",
       "    </tr>\n",
       "  </tbody>\n",
       "</table>\n",
       "</div>"
      ],
      "text/plain": [
       "    Entity Code  Year  IIASA rates of no education projections (IIASA (2015))\n",
       "295   Chad  TCD  2050                                          19.973283     "
      ]
     },
     "execution_count": 110,
     "metadata": {},
     "output_type": "execute_result"
    }
   ],
   "source": [
    "education.sample()"
   ]
  },
  {
   "cell_type": "code",
   "execution_count": 111,
   "id": "57da9150",
   "metadata": {},
   "outputs": [
    {
     "data": {
      "text/html": [
       "<div>\n",
       "<style scoped>\n",
       "    .dataframe tbody tr th:only-of-type {\n",
       "        vertical-align: middle;\n",
       "    }\n",
       "\n",
       "    .dataframe tbody tr th {\n",
       "        vertical-align: top;\n",
       "    }\n",
       "\n",
       "    .dataframe thead th {\n",
       "        text-align: right;\n",
       "    }\n",
       "</style>\n",
       "<table border=\"1\" class=\"dataframe\">\n",
       "  <thead>\n",
       "    <tr style=\"text-align: right;\">\n",
       "      <th></th>\n",
       "      <th>Entity</th>\n",
       "      <th>Code</th>\n",
       "      <th>Year</th>\n",
       "      <th>5.5.2 - Proportion of women in senior and middle management positions (%) - IC_GEN_MGTN</th>\n",
       "    </tr>\n",
       "  </thead>\n",
       "  <tbody>\n",
       "    <tr>\n",
       "      <th>971</th>\n",
       "      <td>United States</td>\n",
       "      <td>USA</td>\n",
       "      <td>2003</td>\n",
       "      <td>37.38</td>\n",
       "    </tr>\n",
       "  </tbody>\n",
       "</table>\n",
       "</div>"
      ],
      "text/plain": [
       "            Entity Code  Year  \\\n",
       "971  United States  USA  2003   \n",
       "\n",
       "     5.5.2 - Proportion of women in senior and middle management positions (%) - IC_GEN_MGTN  \n",
       "971                                              37.38                                        "
      ]
     },
     "execution_count": 111,
     "metadata": {},
     "output_type": "execute_result"
    }
   ],
   "source": [
    "women.sample()"
   ]
  },
  {
   "cell_type": "code",
   "execution_count": 112,
   "id": "56733c60",
   "metadata": {},
   "outputs": [
    {
     "data": {
      "text/html": [
       "<div>\n",
       "<style scoped>\n",
       "    .dataframe tbody tr th:only-of-type {\n",
       "        vertical-align: middle;\n",
       "    }\n",
       "\n",
       "    .dataframe tbody tr th {\n",
       "        vertical-align: top;\n",
       "    }\n",
       "\n",
       "    .dataframe thead th {\n",
       "        text-align: right;\n",
       "    }\n",
       "</style>\n",
       "<table border=\"1\" class=\"dataframe\">\n",
       "  <thead>\n",
       "    <tr style=\"text-align: right;\">\n",
       "      <th></th>\n",
       "      <th>Entity</th>\n",
       "      <th>Code</th>\n",
       "      <th>Year</th>\n",
       "      <th>Age dependency ratio (% of working-age population)</th>\n",
       "    </tr>\n",
       "  </thead>\n",
       "  <tbody>\n",
       "    <tr>\n",
       "      <th>7803</th>\n",
       "      <td>Lithuania</td>\n",
       "      <td>LTU</td>\n",
       "      <td>1967</td>\n",
       "      <td>57.995854</td>\n",
       "    </tr>\n",
       "  </tbody>\n",
       "</table>\n",
       "</div>"
      ],
      "text/plain": [
       "         Entity Code  Year  Age dependency ratio (% of working-age population)\n",
       "7803  Lithuania  LTU  1967                                          57.995854 "
      ]
     },
     "execution_count": 112,
     "metadata": {},
     "output_type": "execute_result"
    }
   ],
   "source": [
    "adep.sample()"
   ]
  },
  {
   "cell_type": "code",
   "execution_count": 113,
   "id": "0b5b3d07",
   "metadata": {},
   "outputs": [
    {
     "data": {
      "text/plain": [
       "((1865, 4), (1016, 4), (14720, 4))"
      ]
     },
     "execution_count": 113,
     "metadata": {},
     "output_type": "execute_result"
    }
   ],
   "source": [
    "education.shape, women.shape, adep.shape"
   ]
  },
  {
   "cell_type": "code",
   "execution_count": 114,
   "id": "acab67ff",
   "metadata": {},
   "outputs": [
    {
     "data": {
      "text/plain": [
       "array([2017, 2007, 2008, 2009, 2010, 2012, 2013, 2014, 2015, 2016, 2018,\n",
       "       2019, 2004, 2005, 2006, 2011, 2000, 2001, 2002, 2003, 2020])"
      ]
     },
     "execution_count": 114,
     "metadata": {},
     "output_type": "execute_result"
    }
   ],
   "source": [
    "women['Year'].unique()"
   ]
  },
  {
   "cell_type": "code",
   "execution_count": 115,
   "id": "e191e134",
   "metadata": {},
   "outputs": [
    {
     "data": {
      "text/plain": [
       "array([1960, 1961, 1962, 1963, 1964, 1965, 1966, 1967, 1968, 1969, 1970,\n",
       "       1971, 1972, 1973, 1974, 1975, 1976, 1977, 1978, 1979, 1980, 1981,\n",
       "       1982, 1983, 1984, 1985, 1986, 1987, 1988, 1989, 1990, 1991, 1992,\n",
       "       1993, 1994, 1995, 1996, 1997, 1998, 1999, 2000, 2001, 2002, 2003,\n",
       "       2004, 2005, 2006, 2007, 2008, 2009, 2010, 2011, 2012, 2013, 2014,\n",
       "       2015, 2016, 2017, 2018, 2019, 2020])"
      ]
     },
     "execution_count": 115,
     "metadata": {},
     "output_type": "execute_result"
    }
   ],
   "source": [
    "adep['Year'].unique()"
   ]
  },
  {
   "cell_type": "code",
   "execution_count": 116,
   "id": "60c99f9a",
   "metadata": {},
   "outputs": [],
   "source": [
    "# Make a copy of both dfs to avoid loosing anything\n",
    "edu = education.copy()\n",
    "wom = women.copy()\n",
    "dep = adep.copy()"
   ]
  },
  {
   "cell_type": "code",
   "execution_count": 117,
   "id": "5807aad8",
   "metadata": {},
   "outputs": [],
   "source": [
    "# Alligning year columns data with original dataframe (2005-2020)\n",
    "dep = dep[dep['Year'].isin(list_y_w)].reset_index(drop=True)"
   ]
  },
  {
   "cell_type": "code",
   "execution_count": 118,
   "id": "faa0eddd",
   "metadata": {},
   "outputs": [
    {
     "data": {
      "text/html": [
       "<div>\n",
       "<style scoped>\n",
       "    .dataframe tbody tr th:only-of-type {\n",
       "        vertical-align: middle;\n",
       "    }\n",
       "\n",
       "    .dataframe tbody tr th {\n",
       "        vertical-align: top;\n",
       "    }\n",
       "\n",
       "    .dataframe thead th {\n",
       "        text-align: right;\n",
       "    }\n",
       "</style>\n",
       "<table border=\"1\" class=\"dataframe\">\n",
       "  <thead>\n",
       "    <tr style=\"text-align: right;\">\n",
       "      <th></th>\n",
       "      <th>Entity</th>\n",
       "      <th>Code</th>\n",
       "      <th>Year</th>\n",
       "      <th>Age dependency ratio (% of working-age population)</th>\n",
       "    </tr>\n",
       "  </thead>\n",
       "  <tbody>\n",
       "    <tr>\n",
       "      <th>46</th>\n",
       "      <td>Africa Western and Central</td>\n",
       "      <td>NaN</td>\n",
       "      <td>2019</td>\n",
       "      <td>86.085806</td>\n",
       "    </tr>\n",
       "  </tbody>\n",
       "</table>\n",
       "</div>"
      ],
      "text/plain": [
       "                        Entity Code  Year  \\\n",
       "46  Africa Western and Central  NaN  2019   \n",
       "\n",
       "    Age dependency ratio (% of working-age population)  \n",
       "46                                          86.085806   "
      ]
     },
     "execution_count": 118,
     "metadata": {},
     "output_type": "execute_result"
    }
   ],
   "source": [
    "dep.sample()"
   ]
  },
  {
   "cell_type": "code",
   "execution_count": 119,
   "id": "600fc3fd",
   "metadata": {},
   "outputs": [],
   "source": [
    "# Alligning country columns data with original dataframe\n",
    "dep = dep[dep['Entity'].isin(list_cn_w)].reset_index(drop=True)"
   ]
  },
  {
   "cell_type": "code",
   "execution_count": 120,
   "id": "f26ddcdd",
   "metadata": {},
   "outputs": [
    {
     "data": {
      "text/html": [
       "<div>\n",
       "<style scoped>\n",
       "    .dataframe tbody tr th:only-of-type {\n",
       "        vertical-align: middle;\n",
       "    }\n",
       "\n",
       "    .dataframe tbody tr th {\n",
       "        vertical-align: top;\n",
       "    }\n",
       "\n",
       "    .dataframe thead th {\n",
       "        text-align: right;\n",
       "    }\n",
       "</style>\n",
       "<table border=\"1\" class=\"dataframe\">\n",
       "  <thead>\n",
       "    <tr style=\"text-align: right;\">\n",
       "      <th></th>\n",
       "      <th>Entity</th>\n",
       "      <th>Code</th>\n",
       "      <th>Year</th>\n",
       "      <th>Age dependency ratio (% of working-age population)</th>\n",
       "    </tr>\n",
       "  </thead>\n",
       "  <tbody>\n",
       "    <tr>\n",
       "      <th>950</th>\n",
       "      <td>India</td>\n",
       "      <td>IND</td>\n",
       "      <td>2011</td>\n",
       "      <td>55.208637</td>\n",
       "    </tr>\n",
       "  </tbody>\n",
       "</table>\n",
       "</div>"
      ],
      "text/plain": [
       "    Entity Code  Year  Age dependency ratio (% of working-age population)\n",
       "950  India  IND  2011                                          55.208637 "
      ]
     },
     "execution_count": 120,
     "metadata": {},
     "output_type": "execute_result"
    }
   ],
   "source": [
    "dep.sample()"
   ]
  },
  {
   "cell_type": "markdown",
   "id": "83810783",
   "metadata": {},
   "source": [
    "Repeating the same steps for the subsequent datasets, as previously set out."
   ]
  },
  {
   "cell_type": "code",
   "execution_count": 121,
   "id": "adcc9a94",
   "metadata": {},
   "outputs": [],
   "source": [
    "edu = edu[edu['Year'].isin(list_y_w)].reset_index(drop=True)"
   ]
  },
  {
   "cell_type": "code",
   "execution_count": 122,
   "id": "cc317fb7",
   "metadata": {},
   "outputs": [
    {
     "data": {
      "text/html": [
       "<div>\n",
       "<style scoped>\n",
       "    .dataframe tbody tr th:only-of-type {\n",
       "        vertical-align: middle;\n",
       "    }\n",
       "\n",
       "    .dataframe tbody tr th {\n",
       "        vertical-align: top;\n",
       "    }\n",
       "\n",
       "    .dataframe thead th {\n",
       "        text-align: right;\n",
       "    }\n",
       "</style>\n",
       "<table border=\"1\" class=\"dataframe\">\n",
       "  <thead>\n",
       "    <tr style=\"text-align: right;\">\n",
       "      <th></th>\n",
       "      <th>Entity</th>\n",
       "      <th>Code</th>\n",
       "      <th>Year</th>\n",
       "      <th>IIASA rates of no education projections (IIASA (2015))</th>\n",
       "    </tr>\n",
       "  </thead>\n",
       "  <tbody>\n",
       "    <tr>\n",
       "      <th>88</th>\n",
       "      <td>Cote d'Ivoire</td>\n",
       "      <td>CIV</td>\n",
       "      <td>2010</td>\n",
       "      <td>45.961186</td>\n",
       "    </tr>\n",
       "  </tbody>\n",
       "</table>\n",
       "</div>"
      ],
      "text/plain": [
       "           Entity Code  Year  \\\n",
       "88  Cote d'Ivoire  CIV  2010   \n",
       "\n",
       "    IIASA rates of no education projections (IIASA (2015))  \n",
       "88                                          45.961186       "
      ]
     },
     "execution_count": 122,
     "metadata": {},
     "output_type": "execute_result"
    }
   ],
   "source": [
    "edu.sample()"
   ]
  },
  {
   "cell_type": "code",
   "execution_count": 123,
   "id": "99edf57c",
   "metadata": {},
   "outputs": [],
   "source": [
    "edu = edu[edu['Entity'].isin(list_cn_w)].reset_index(drop=True)"
   ]
  },
  {
   "cell_type": "code",
   "execution_count": 124,
   "id": "2293affe",
   "metadata": {},
   "outputs": [
    {
     "data": {
      "text/html": [
       "<div>\n",
       "<style scoped>\n",
       "    .dataframe tbody tr th:only-of-type {\n",
       "        vertical-align: middle;\n",
       "    }\n",
       "\n",
       "    .dataframe tbody tr th {\n",
       "        vertical-align: top;\n",
       "    }\n",
       "\n",
       "    .dataframe thead th {\n",
       "        text-align: right;\n",
       "    }\n",
       "</style>\n",
       "<table border=\"1\" class=\"dataframe\">\n",
       "  <thead>\n",
       "    <tr style=\"text-align: right;\">\n",
       "      <th></th>\n",
       "      <th>Entity</th>\n",
       "      <th>Code</th>\n",
       "      <th>Year</th>\n",
       "      <th>IIASA rates of no education projections (IIASA (2015))</th>\n",
       "    </tr>\n",
       "  </thead>\n",
       "  <tbody>\n",
       "    <tr>\n",
       "      <th>326</th>\n",
       "      <td>Spain</td>\n",
       "      <td>ESP</td>\n",
       "      <td>2010</td>\n",
       "      <td>11.539247</td>\n",
       "    </tr>\n",
       "  </tbody>\n",
       "</table>\n",
       "</div>"
      ],
      "text/plain": [
       "    Entity Code  Year  IIASA rates of no education projections (IIASA (2015))\n",
       "326  Spain  ESP  2010                                          11.539247     "
      ]
     },
     "execution_count": 124,
     "metadata": {},
     "output_type": "execute_result"
    }
   ],
   "source": [
    "edu.sample()"
   ]
  },
  {
   "cell_type": "markdown",
   "id": "8a879b64",
   "metadata": {},
   "source": [
    "Repeating the same steps for the subsequent datasets, as previously set out."
   ]
  },
  {
   "cell_type": "code",
   "execution_count": 125,
   "id": "0d7f3e2d",
   "metadata": {},
   "outputs": [],
   "source": [
    "wom = wom[wom['Year'].isin(list_y_w)].reset_index(drop=True)"
   ]
  },
  {
   "cell_type": "code",
   "execution_count": 126,
   "id": "600dfff4",
   "metadata": {},
   "outputs": [
    {
     "data": {
      "text/plain": [
       "United States      16\n",
       "Greece             15\n",
       "Romania            15\n",
       "Ecuador            15\n",
       "Estonia            15\n",
       "                   ..\n",
       "Guyana              1\n",
       "Solomon Islands     1\n",
       "Gambia              1\n",
       "Suriname            1\n",
       "Afghanistan         1\n",
       "Name: Entity, Length: 116, dtype: int64"
      ]
     },
     "execution_count": 126,
     "metadata": {},
     "output_type": "execute_result"
    }
   ],
   "source": [
    "wom.Entity.value_counts()"
   ]
  },
  {
   "cell_type": "code",
   "execution_count": 127,
   "id": "8ae803d8",
   "metadata": {},
   "outputs": [],
   "source": [
    "wom = wom[wom['Entity'].isin(list_cn_w)].reset_index(drop=True)"
   ]
  },
  {
   "cell_type": "code",
   "execution_count": 128,
   "id": "5f915c5e",
   "metadata": {},
   "outputs": [
    {
     "data": {
      "text/html": [
       "<div>\n",
       "<style scoped>\n",
       "    .dataframe tbody tr th:only-of-type {\n",
       "        vertical-align: middle;\n",
       "    }\n",
       "\n",
       "    .dataframe tbody tr th {\n",
       "        vertical-align: top;\n",
       "    }\n",
       "\n",
       "    .dataframe thead th {\n",
       "        text-align: right;\n",
       "    }\n",
       "</style>\n",
       "<table border=\"1\" class=\"dataframe\">\n",
       "  <thead>\n",
       "    <tr style=\"text-align: right;\">\n",
       "      <th></th>\n",
       "      <th>Entity</th>\n",
       "      <th>Code</th>\n",
       "      <th>Year</th>\n",
       "      <th>5.5.2 - Proportion of women in senior and middle management positions (%) - IC_GEN_MGTN</th>\n",
       "    </tr>\n",
       "  </thead>\n",
       "  <tbody>\n",
       "    <tr>\n",
       "      <th>768</th>\n",
       "      <td>United States</td>\n",
       "      <td>USA</td>\n",
       "      <td>2014</td>\n",
       "      <td>38.8</td>\n",
       "    </tr>\n",
       "  </tbody>\n",
       "</table>\n",
       "</div>"
      ],
      "text/plain": [
       "            Entity Code  Year  \\\n",
       "768  United States  USA  2014   \n",
       "\n",
       "     5.5.2 - Proportion of women in senior and middle management positions (%) - IC_GEN_MGTN  \n",
       "768                                               38.8                                        "
      ]
     },
     "execution_count": 128,
     "metadata": {},
     "output_type": "execute_result"
    }
   ],
   "source": [
    "wom.sample()"
   ]
  },
  {
   "cell_type": "code",
   "execution_count": 129,
   "id": "7d9ff2c2",
   "metadata": {},
   "outputs": [
    {
     "data": {
      "text/plain": [
       "((389, 4), (796, 4), (2480, 4))"
      ]
     },
     "execution_count": 129,
     "metadata": {},
     "output_type": "execute_result"
    }
   ],
   "source": [
    "# Verifying the shapes of our newly acquired data\n",
    "edu.shape,wom.shape,dep.shape"
   ]
  },
  {
   "cell_type": "code",
   "execution_count": 130,
   "id": "c281d58b",
   "metadata": {},
   "outputs": [],
   "source": [
    "# Starting merging dataframes two at the time\n",
    "depwom = dep.merge(wom, on=['Entity', 'Year'], how='outer')"
   ]
  },
  {
   "cell_type": "code",
   "execution_count": 131,
   "id": "322ca293",
   "metadata": {},
   "outputs": [
    {
     "data": {
      "text/plain": [
       "(2480, 6)"
      ]
     },
     "execution_count": 131,
     "metadata": {},
     "output_type": "execute_result"
    }
   ],
   "source": [
    "depwom.shape"
   ]
  },
  {
   "cell_type": "code",
   "execution_count": 132,
   "id": "f8d47c09",
   "metadata": {},
   "outputs": [],
   "source": [
    "depwomedu = depwom.merge(edu, on=['Entity', 'Year'], how='outer')"
   ]
  },
  {
   "cell_type": "code",
   "execution_count": 133,
   "id": "96cf0bce",
   "metadata": {},
   "outputs": [
    {
     "data": {
      "text/plain": [
       "(2480, 8)"
      ]
     },
     "execution_count": 133,
     "metadata": {},
     "output_type": "execute_result"
    }
   ],
   "source": [
    "depwomedu.shape"
   ]
  },
  {
   "cell_type": "code",
   "execution_count": 134,
   "id": "9ab82fcf",
   "metadata": {},
   "outputs": [
    {
     "data": {
      "text/html": [
       "<div>\n",
       "<style scoped>\n",
       "    .dataframe tbody tr th:only-of-type {\n",
       "        vertical-align: middle;\n",
       "    }\n",
       "\n",
       "    .dataframe tbody tr th {\n",
       "        vertical-align: top;\n",
       "    }\n",
       "\n",
       "    .dataframe thead th {\n",
       "        text-align: right;\n",
       "    }\n",
       "</style>\n",
       "<table border=\"1\" class=\"dataframe\">\n",
       "  <thead>\n",
       "    <tr style=\"text-align: right;\">\n",
       "      <th></th>\n",
       "      <th>Entity</th>\n",
       "      <th>Code_x</th>\n",
       "      <th>Year</th>\n",
       "      <th>Age dependency ratio (% of working-age population)</th>\n",
       "      <th>Code_y</th>\n",
       "      <th>5.5.2 - Proportion of women in senior and middle management positions (%) - IC_GEN_MGTN</th>\n",
       "      <th>Code</th>\n",
       "      <th>IIASA rates of no education projections (IIASA (2015))</th>\n",
       "    </tr>\n",
       "  </thead>\n",
       "  <tbody>\n",
       "    <tr>\n",
       "      <th>0</th>\n",
       "      <td>Afghanistan</td>\n",
       "      <td>AFG</td>\n",
       "      <td>2005</td>\n",
       "      <td>100.349127</td>\n",
       "      <td>NaN</td>\n",
       "      <td>NaN</td>\n",
       "      <td>NaN</td>\n",
       "      <td>NaN</td>\n",
       "    </tr>\n",
       "    <tr>\n",
       "      <th>1</th>\n",
       "      <td>Afghanistan</td>\n",
       "      <td>AFG</td>\n",
       "      <td>2006</td>\n",
       "      <td>100.970943</td>\n",
       "      <td>NaN</td>\n",
       "      <td>NaN</td>\n",
       "      <td>NaN</td>\n",
       "      <td>NaN</td>\n",
       "    </tr>\n",
       "    <tr>\n",
       "      <th>2</th>\n",
       "      <td>Afghanistan</td>\n",
       "      <td>AFG</td>\n",
       "      <td>2007</td>\n",
       "      <td>101.600182</td>\n",
       "      <td>NaN</td>\n",
       "      <td>NaN</td>\n",
       "      <td>NaN</td>\n",
       "      <td>NaN</td>\n",
       "    </tr>\n",
       "    <tr>\n",
       "      <th>3</th>\n",
       "      <td>Afghanistan</td>\n",
       "      <td>AFG</td>\n",
       "      <td>2008</td>\n",
       "      <td>102.078659</td>\n",
       "      <td>NaN</td>\n",
       "      <td>NaN</td>\n",
       "      <td>NaN</td>\n",
       "      <td>NaN</td>\n",
       "    </tr>\n",
       "    <tr>\n",
       "      <th>4</th>\n",
       "      <td>Afghanistan</td>\n",
       "      <td>AFG</td>\n",
       "      <td>2009</td>\n",
       "      <td>102.249014</td>\n",
       "      <td>NaN</td>\n",
       "      <td>NaN</td>\n",
       "      <td>NaN</td>\n",
       "      <td>NaN</td>\n",
       "    </tr>\n",
       "    <tr>\n",
       "      <th>...</th>\n",
       "      <td>...</td>\n",
       "      <td>...</td>\n",
       "      <td>...</td>\n",
       "      <td>...</td>\n",
       "      <td>...</td>\n",
       "      <td>...</td>\n",
       "      <td>...</td>\n",
       "      <td>...</td>\n",
       "    </tr>\n",
       "    <tr>\n",
       "      <th>2475</th>\n",
       "      <td>Zimbabwe</td>\n",
       "      <td>ZWE</td>\n",
       "      <td>2016</td>\n",
       "      <td>83.576729</td>\n",
       "      <td>NaN</td>\n",
       "      <td>NaN</td>\n",
       "      <td>NaN</td>\n",
       "      <td>NaN</td>\n",
       "    </tr>\n",
       "    <tr>\n",
       "      <th>2476</th>\n",
       "      <td>Zimbabwe</td>\n",
       "      <td>ZWE</td>\n",
       "      <td>2017</td>\n",
       "      <td>83.466245</td>\n",
       "      <td>NaN</td>\n",
       "      <td>NaN</td>\n",
       "      <td>NaN</td>\n",
       "      <td>NaN</td>\n",
       "    </tr>\n",
       "    <tr>\n",
       "      <th>2477</th>\n",
       "      <td>Zimbabwe</td>\n",
       "      <td>ZWE</td>\n",
       "      <td>2018</td>\n",
       "      <td>82.951113</td>\n",
       "      <td>NaN</td>\n",
       "      <td>NaN</td>\n",
       "      <td>NaN</td>\n",
       "      <td>NaN</td>\n",
       "    </tr>\n",
       "    <tr>\n",
       "      <th>2478</th>\n",
       "      <td>Zimbabwe</td>\n",
       "      <td>ZWE</td>\n",
       "      <td>2019</td>\n",
       "      <td>82.277964</td>\n",
       "      <td>ZWE</td>\n",
       "      <td>28.07</td>\n",
       "      <td>NaN</td>\n",
       "      <td>NaN</td>\n",
       "    </tr>\n",
       "    <tr>\n",
       "      <th>2479</th>\n",
       "      <td>Zimbabwe</td>\n",
       "      <td>ZWE</td>\n",
       "      <td>2020</td>\n",
       "      <td>81.571496</td>\n",
       "      <td>NaN</td>\n",
       "      <td>NaN</td>\n",
       "      <td>ZWE</td>\n",
       "      <td>3.100279</td>\n",
       "    </tr>\n",
       "  </tbody>\n",
       "</table>\n",
       "<p>2480 rows × 8 columns</p>\n",
       "</div>"
      ],
      "text/plain": [
       "           Entity Code_x  Year  \\\n",
       "0     Afghanistan    AFG  2005   \n",
       "1     Afghanistan    AFG  2006   \n",
       "2     Afghanistan    AFG  2007   \n",
       "3     Afghanistan    AFG  2008   \n",
       "4     Afghanistan    AFG  2009   \n",
       "...           ...    ...   ...   \n",
       "2475     Zimbabwe    ZWE  2016   \n",
       "2476     Zimbabwe    ZWE  2017   \n",
       "2477     Zimbabwe    ZWE  2018   \n",
       "2478     Zimbabwe    ZWE  2019   \n",
       "2479     Zimbabwe    ZWE  2020   \n",
       "\n",
       "      Age dependency ratio (% of working-age population) Code_y  \\\n",
       "0                                            100.349127     NaN   \n",
       "1                                            100.970943     NaN   \n",
       "2                                            101.600182     NaN   \n",
       "3                                            102.078659     NaN   \n",
       "4                                            102.249014     NaN   \n",
       "...                                                 ...     ...   \n",
       "2475                                          83.576729     NaN   \n",
       "2476                                          83.466245     NaN   \n",
       "2477                                          82.951113     NaN   \n",
       "2478                                          82.277964     ZWE   \n",
       "2479                                          81.571496     NaN   \n",
       "\n",
       "      5.5.2 - Proportion of women in senior and middle management positions (%) - IC_GEN_MGTN  \\\n",
       "0                                                   NaN                                         \n",
       "1                                                   NaN                                         \n",
       "2                                                   NaN                                         \n",
       "3                                                   NaN                                         \n",
       "4                                                   NaN                                         \n",
       "...                                                 ...                                         \n",
       "2475                                                NaN                                         \n",
       "2476                                                NaN                                         \n",
       "2477                                                NaN                                         \n",
       "2478                                              28.07                                         \n",
       "2479                                                NaN                                         \n",
       "\n",
       "     Code  IIASA rates of no education projections (IIASA (2015))  \n",
       "0     NaN                                                NaN       \n",
       "1     NaN                                                NaN       \n",
       "2     NaN                                                NaN       \n",
       "3     NaN                                                NaN       \n",
       "4     NaN                                                NaN       \n",
       "...   ...                                                ...       \n",
       "2475  NaN                                                NaN       \n",
       "2476  NaN                                                NaN       \n",
       "2477  NaN                                                NaN       \n",
       "2478  NaN                                                NaN       \n",
       "2479  ZWE                                           3.100279       \n",
       "\n",
       "[2480 rows x 8 columns]"
      ]
     },
     "execution_count": 134,
     "metadata": {},
     "output_type": "execute_result"
    }
   ],
   "source": [
    "depwomedu"
   ]
  },
  {
   "cell_type": "code",
   "execution_count": 135,
   "id": "103e32a3",
   "metadata": {},
   "outputs": [],
   "source": [
    "# Cleaning up our df by dropping columns starting with \"Code\"\n",
    "df_new = depwomedu[depwomedu.columns[~depwomedu.columns.str.startswith(\n",
    "    'Code')]]"
   ]
  },
  {
   "cell_type": "code",
   "execution_count": 136,
   "id": "e2ffcf72",
   "metadata": {},
   "outputs": [
    {
     "data": {
      "text/html": [
       "<div>\n",
       "<style scoped>\n",
       "    .dataframe tbody tr th:only-of-type {\n",
       "        vertical-align: middle;\n",
       "    }\n",
       "\n",
       "    .dataframe tbody tr th {\n",
       "        vertical-align: top;\n",
       "    }\n",
       "\n",
       "    .dataframe thead th {\n",
       "        text-align: right;\n",
       "    }\n",
       "</style>\n",
       "<table border=\"1\" class=\"dataframe\">\n",
       "  <thead>\n",
       "    <tr style=\"text-align: right;\">\n",
       "      <th></th>\n",
       "      <th>Entity</th>\n",
       "      <th>Year</th>\n",
       "      <th>Age dependency ratio (% of working-age population)</th>\n",
       "      <th>5.5.2 - Proportion of women in senior and middle management positions (%) - IC_GEN_MGTN</th>\n",
       "      <th>IIASA rates of no education projections (IIASA (2015))</th>\n",
       "    </tr>\n",
       "  </thead>\n",
       "  <tbody>\n",
       "    <tr>\n",
       "      <th>202</th>\n",
       "      <td>Belgium</td>\n",
       "      <td>2015</td>\n",
       "      <td>54.193606</td>\n",
       "      <td>31.04</td>\n",
       "      <td>NaN</td>\n",
       "    </tr>\n",
       "  </tbody>\n",
       "</table>\n",
       "</div>"
      ],
      "text/plain": [
       "      Entity  Year  Age dependency ratio (% of working-age population)  \\\n",
       "202  Belgium  2015                                          54.193606    \n",
       "\n",
       "     5.5.2 - Proportion of women in senior and middle management positions (%) - IC_GEN_MGTN  \\\n",
       "202                                              31.04                                         \n",
       "\n",
       "     IIASA rates of no education projections (IIASA (2015))  \n",
       "202                                                NaN       "
      ]
     },
     "execution_count": 136,
     "metadata": {},
     "output_type": "execute_result"
    }
   ],
   "source": [
    "df_new.sample()"
   ]
  },
  {
   "cell_type": "code",
   "execution_count": 137,
   "id": "7e343148",
   "metadata": {},
   "outputs": [
    {
     "data": {
      "text/plain": [
       "Index(['Entity', 'Year', 'Age dependency ratio (% of working-age population)',\n",
       "       '5.5.2 - Proportion of women in senior and middle management positions (%) - IC_GEN_MGTN',\n",
       "       'IIASA rates of no education projections (IIASA (2015))'],\n",
       "      dtype='object')"
      ]
     },
     "execution_count": 137,
     "metadata": {},
     "output_type": "execute_result"
    }
   ],
   "source": [
    "df_new.columns"
   ]
  },
  {
   "cell_type": "code",
   "execution_count": 138,
   "id": "7071f330",
   "metadata": {},
   "outputs": [],
   "source": [
    "df_clean = df_new.copy()\n",
    "# Renaming columns to merge on country name and year\n",
    "df_clean = df_new.rename(columns= {\n",
    "    'Entity':'country', 'Year':'year', 'Age dependency ratio (% of working-age population)':'age_dr',\n",
    "       '5.5.2 - Proportion of women in senior and middle management positions (%) - IC_GEN_MGTN':'women_mgmt',\n",
    "       'IIASA rates of no education projections (IIASA (2015))':'r_noedu'})"
   ]
  },
  {
   "cell_type": "code",
   "execution_count": 139,
   "id": "2c58d498",
   "metadata": {},
   "outputs": [
    {
     "data": {
      "text/html": [
       "<div>\n",
       "<style scoped>\n",
       "    .dataframe tbody tr th:only-of-type {\n",
       "        vertical-align: middle;\n",
       "    }\n",
       "\n",
       "    .dataframe tbody tr th {\n",
       "        vertical-align: top;\n",
       "    }\n",
       "\n",
       "    .dataframe thead th {\n",
       "        text-align: right;\n",
       "    }\n",
       "</style>\n",
       "<table border=\"1\" class=\"dataframe\">\n",
       "  <thead>\n",
       "    <tr style=\"text-align: right;\">\n",
       "      <th></th>\n",
       "      <th>country</th>\n",
       "      <th>year</th>\n",
       "      <th>age_dr</th>\n",
       "      <th>women_mgmt</th>\n",
       "      <th>r_noedu</th>\n",
       "    </tr>\n",
       "  </thead>\n",
       "  <tbody>\n",
       "    <tr>\n",
       "      <th>0</th>\n",
       "      <td>Afghanistan</td>\n",
       "      <td>2005</td>\n",
       "      <td>100.349127</td>\n",
       "      <td>NaN</td>\n",
       "      <td>NaN</td>\n",
       "    </tr>\n",
       "    <tr>\n",
       "      <th>1</th>\n",
       "      <td>Afghanistan</td>\n",
       "      <td>2006</td>\n",
       "      <td>100.970943</td>\n",
       "      <td>NaN</td>\n",
       "      <td>NaN</td>\n",
       "    </tr>\n",
       "    <tr>\n",
       "      <th>2</th>\n",
       "      <td>Afghanistan</td>\n",
       "      <td>2007</td>\n",
       "      <td>101.600182</td>\n",
       "      <td>NaN</td>\n",
       "      <td>NaN</td>\n",
       "    </tr>\n",
       "    <tr>\n",
       "      <th>3</th>\n",
       "      <td>Afghanistan</td>\n",
       "      <td>2008</td>\n",
       "      <td>102.078659</td>\n",
       "      <td>NaN</td>\n",
       "      <td>NaN</td>\n",
       "    </tr>\n",
       "    <tr>\n",
       "      <th>4</th>\n",
       "      <td>Afghanistan</td>\n",
       "      <td>2009</td>\n",
       "      <td>102.249014</td>\n",
       "      <td>NaN</td>\n",
       "      <td>NaN</td>\n",
       "    </tr>\n",
       "  </tbody>\n",
       "</table>\n",
       "</div>"
      ],
      "text/plain": [
       "       country  year      age_dr  women_mgmt  r_noedu\n",
       "0  Afghanistan  2005  100.349127         NaN      NaN\n",
       "1  Afghanistan  2006  100.970943         NaN      NaN\n",
       "2  Afghanistan  2007  101.600182         NaN      NaN\n",
       "3  Afghanistan  2008  102.078659         NaN      NaN\n",
       "4  Afghanistan  2009  102.249014         NaN      NaN"
      ]
     },
     "execution_count": 139,
     "metadata": {},
     "output_type": "execute_result"
    }
   ],
   "source": [
    "df_clean.head()"
   ]
  },
  {
   "cell_type": "code",
   "execution_count": 140,
   "id": "270ecd5c",
   "metadata": {},
   "outputs": [],
   "source": [
    "features3 = df_clean.copy()"
   ]
  },
  {
   "cell_type": "code",
   "execution_count": 141,
   "id": "6e518ac6",
   "metadata": {},
   "outputs": [
    {
     "data": {
      "text/plain": [
       "((2480, 5), (1745, 18))"
      ]
     },
     "execution_count": 141,
     "metadata": {},
     "output_type": "execute_result"
    }
   ],
   "source": [
    "# Comparing our 3 feature df with our previously merged and complete dataset\n",
    "features3.shape, complete_df.shape"
   ]
  },
  {
   "cell_type": "code",
   "execution_count": 142,
   "id": "f36b238f",
   "metadata": {},
   "outputs": [],
   "source": [
    "protect_c_df = complete_df.copy()"
   ]
  },
  {
   "cell_type": "code",
   "execution_count": 143,
   "id": "d6a169c5",
   "metadata": {},
   "outputs": [],
   "source": [
    "# Merging\n",
    "df_20f = complete_df.merge(features3, on=['country', 'year'])"
   ]
  },
  {
   "cell_type": "code",
   "execution_count": 144,
   "id": "011fc212",
   "metadata": {},
   "outputs": [
    {
     "data": {
      "text/plain": [
       "(1745, 21)"
      ]
     },
     "execution_count": 144,
     "metadata": {},
     "output_type": "execute_result"
    }
   ],
   "source": [
    "df_20f.shape"
   ]
  },
  {
   "cell_type": "code",
   "execution_count": 145,
   "id": "9f2278cf",
   "metadata": {},
   "outputs": [
    {
     "data": {
      "text/html": [
       "<div>\n",
       "<style scoped>\n",
       "    .dataframe tbody tr th:only-of-type {\n",
       "        vertical-align: middle;\n",
       "    }\n",
       "\n",
       "    .dataframe tbody tr th {\n",
       "        vertical-align: top;\n",
       "    }\n",
       "\n",
       "    .dataframe thead th {\n",
       "        text-align: right;\n",
       "    }\n",
       "</style>\n",
       "<table border=\"1\" class=\"dataframe\">\n",
       "  <thead>\n",
       "    <tr style=\"text-align: right;\">\n",
       "      <th></th>\n",
       "      <th>country</th>\n",
       "      <th>year</th>\n",
       "      <th>happiness_s</th>\n",
       "      <th>log_gdp</th>\n",
       "      <th>social_s</th>\n",
       "      <th>life_ex</th>\n",
       "      <th>life_choices</th>\n",
       "      <th>generosity</th>\n",
       "      <th>corruption</th>\n",
       "      <th>positive_a</th>\n",
       "      <th>...</th>\n",
       "      <th>tot_alc_cons</th>\n",
       "      <th>population</th>\n",
       "      <th>spirit_c</th>\n",
       "      <th>wine_c</th>\n",
       "      <th>beer_c</th>\n",
       "      <th>forest_c</th>\n",
       "      <th>u_pop</th>\n",
       "      <th>age_dr</th>\n",
       "      <th>women_mgmt</th>\n",
       "      <th>r_noedu</th>\n",
       "    </tr>\n",
       "  </thead>\n",
       "  <tbody>\n",
       "    <tr>\n",
       "      <th>1378</th>\n",
       "      <td>Singapore</td>\n",
       "      <td>2018</td>\n",
       "      <td>6.375</td>\n",
       "      <td>11.490</td>\n",
       "      <td>0.903</td>\n",
       "      <td>76.80</td>\n",
       "      <td>0.916</td>\n",
       "      <td>-0.066</td>\n",
       "      <td>0.097</td>\n",
       "      <td>0.787</td>\n",
       "      <td>...</td>\n",
       "      <td>2.03</td>\n",
       "      <td>5757503.0</td>\n",
       "      <td>0.27</td>\n",
       "      <td>0.30</td>\n",
       "      <td>1.25</td>\n",
       "      <td>22.469111</td>\n",
       "      <td>100.000</td>\n",
       "      <td>31.133213</td>\n",
       "      <td>NaN</td>\n",
       "      <td>NaN</td>\n",
       "    </tr>\n",
       "    <tr>\n",
       "      <th>221</th>\n",
       "      <td>Brazil</td>\n",
       "      <td>2019</td>\n",
       "      <td>6.451</td>\n",
       "      <td>9.592</td>\n",
       "      <td>0.899</td>\n",
       "      <td>66.60</td>\n",
       "      <td>0.830</td>\n",
       "      <td>-0.062</td>\n",
       "      <td>0.762</td>\n",
       "      <td>0.761</td>\n",
       "      <td>...</td>\n",
       "      <td>NaN</td>\n",
       "      <td>211049519.0</td>\n",
       "      <td>2.00</td>\n",
       "      <td>0.24</td>\n",
       "      <td>3.84</td>\n",
       "      <td>59.591325</td>\n",
       "      <td>86.824</td>\n",
       "      <td>43.391382</td>\n",
       "      <td>38.61</td>\n",
       "      <td>NaN</td>\n",
       "    </tr>\n",
       "    <tr>\n",
       "      <th>930</th>\n",
       "      <td>Malawi</td>\n",
       "      <td>2013</td>\n",
       "      <td>4.035</td>\n",
       "      <td>6.907</td>\n",
       "      <td>0.563</td>\n",
       "      <td>53.46</td>\n",
       "      <td>0.752</td>\n",
       "      <td>0.078</td>\n",
       "      <td>0.857</td>\n",
       "      <td>0.808</td>\n",
       "      <td>...</td>\n",
       "      <td>NaN</td>\n",
       "      <td>15839287.0</td>\n",
       "      <td>0.23</td>\n",
       "      <td>0.00</td>\n",
       "      <td>0.17</td>\n",
       "      <td>26.895418</td>\n",
       "      <td>15.966</td>\n",
       "      <td>93.786360</td>\n",
       "      <td>NaN</td>\n",
       "      <td>NaN</td>\n",
       "    </tr>\n",
       "  </tbody>\n",
       "</table>\n",
       "<p>3 rows × 21 columns</p>\n",
       "</div>"
      ],
      "text/plain": [
       "        country  year  happiness_s  log_gdp  social_s  life_ex  life_choices  \\\n",
       "1378  Singapore  2018        6.375   11.490     0.903    76.80         0.916   \n",
       "221      Brazil  2019        6.451    9.592     0.899    66.60         0.830   \n",
       "930      Malawi  2013        4.035    6.907     0.563    53.46         0.752   \n",
       "\n",
       "      generosity  corruption  positive_a  ...  tot_alc_cons   population  \\\n",
       "1378      -0.066       0.097       0.787  ...          2.03    5757503.0   \n",
       "221       -0.062       0.762       0.761  ...           NaN  211049519.0   \n",
       "930        0.078       0.857       0.808  ...           NaN   15839287.0   \n",
       "\n",
       "      spirit_c  wine_c  beer_c   forest_c    u_pop     age_dr  women_mgmt  \\\n",
       "1378      0.27    0.30    1.25  22.469111  100.000  31.133213         NaN   \n",
       "221       2.00    0.24    3.84  59.591325   86.824  43.391382       38.61   \n",
       "930       0.23    0.00    0.17  26.895418   15.966  93.786360         NaN   \n",
       "\n",
       "      r_noedu  \n",
       "1378      NaN  \n",
       "221       NaN  \n",
       "930       NaN  \n",
       "\n",
       "[3 rows x 21 columns]"
      ]
     },
     "execution_count": 145,
     "metadata": {},
     "output_type": "execute_result"
    }
   ],
   "source": [
    "df_20f.sample(3)"
   ]
  },
  {
   "cell_type": "code",
   "execution_count": 146,
   "id": "e7e5fa21",
   "metadata": {
    "scrolled": true
   },
   "outputs": [
    {
     "name": "stdout",
     "output_type": "stream",
     "text": [
      "The total number of numerical columns is 20.\n",
      "The total number of object (categorical) columns is 1.\n"
     ]
    }
   ],
   "source": [
    "#number of numerical and string columns\n",
    "\n",
    "num_cols = df_20f.select_dtypes('number').columns\n",
    "cat_cols = df_20f.select_dtypes('object').columns\n",
    "\n",
    "print(f\"The total number of numerical columns is {len(num_cols)}.\")\n",
    "print(f\"The total number of object (categorical) columns is {len(cat_cols)}.\")"
   ]
  },
  {
   "cell_type": "code",
   "execution_count": 147,
   "id": "e212aafb",
   "metadata": {},
   "outputs": [],
   "source": [
    "# Create a csv from dataframe\n",
    "df_20f.to_csv('df_20f.csv')"
   ]
  },
  {
   "cell_type": "markdown",
   "id": "31ae6ce2",
   "metadata": {},
   "source": [
    "## Data Dictionary"
   ]
  },
  {
   "cell_type": "code",
   "execution_count": 148,
   "id": "e612c2d4",
   "metadata": {},
   "outputs": [],
   "source": [
    "# My final dataframe\n",
    "eda_start = df_20f.copy()"
   ]
  },
  {
   "cell_type": "code",
   "execution_count": 149,
   "id": "5ed56adf",
   "metadata": {},
   "outputs": [],
   "source": [
    "'Import Excel spreadsheet with manually created data dictionary columns columns.'\n",
    "\n",
    "data_dictionary = pd.read_excel('data_dictionary_whi.xlsx')"
   ]
  },
  {
   "cell_type": "code",
   "execution_count": 150,
   "id": "6984f890",
   "metadata": {},
   "outputs": [
    {
     "data": {
      "text/html": [
       "<div>\n",
       "<style scoped>\n",
       "    .dataframe tbody tr th:only-of-type {\n",
       "        vertical-align: middle;\n",
       "    }\n",
       "\n",
       "    .dataframe tbody tr th {\n",
       "        vertical-align: top;\n",
       "    }\n",
       "\n",
       "    .dataframe thead th {\n",
       "        text-align: right;\n",
       "    }\n",
       "</style>\n",
       "<table border=\"1\" class=\"dataframe\">\n",
       "  <thead>\n",
       "    <tr style=\"text-align: right;\">\n",
       "      <th></th>\n",
       "      <th># Columns</th>\n",
       "      <th>Column Name</th>\n",
       "      <th>Full Name</th>\n",
       "      <th>Data Format</th>\n",
       "      <th>Data Range</th>\n",
       "      <th>Description</th>\n",
       "    </tr>\n",
       "  </thead>\n",
       "  <tbody>\n",
       "    <tr>\n",
       "      <th>0</th>\n",
       "      <td>1.0</td>\n",
       "      <td>country</td>\n",
       "      <td>Country Name</td>\n",
       "      <td>object</td>\n",
       "      <td>none</td>\n",
       "      <td>Official Name of the Country in Question</td>\n",
       "    </tr>\n",
       "    <tr>\n",
       "      <th>1</th>\n",
       "      <td>2.0</td>\n",
       "      <td>year</td>\n",
       "      <td>Year</td>\n",
       "      <td>int64</td>\n",
       "      <td>2005-2020</td>\n",
       "      <td>Year of the Data Observed</td>\n",
       "    </tr>\n",
       "    <tr>\n",
       "      <th>2</th>\n",
       "      <td>3.0</td>\n",
       "      <td>log_gdp</td>\n",
       "      <td>GDP per capita</td>\n",
       "      <td>float64</td>\n",
       "      <td>6.635 - 11.648</td>\n",
       "      <td>GDP per capita in terms of PPP, taken from Wor...</td>\n",
       "    </tr>\n",
       "  </tbody>\n",
       "</table>\n",
       "</div>"
      ],
      "text/plain": [
       "  # Columns Column Name       Full Name Data Format      Data Range  \\\n",
       "0       1.0     country    Country Name      object            none   \n",
       "1       2.0        year            Year       int64       2005-2020   \n",
       "2       3.0     log_gdp  GDP per capita     float64  6.635 - 11.648   \n",
       "\n",
       "                                         Description  \n",
       "0           Official Name of the Country in Question  \n",
       "1                          Year of the Data Observed  \n",
       "2  GDP per capita in terms of PPP, taken from Wor...  "
      ]
     },
     "execution_count": 150,
     "metadata": {},
     "output_type": "execute_result"
    }
   ],
   "source": [
    "data_dictionary.head(3)"
   ]
  },
  {
   "cell_type": "code",
   "execution_count": 151,
   "id": "a61ca0ac",
   "metadata": {},
   "outputs": [
    {
     "data": {
      "text/html": [
       "<div>\n",
       "<style scoped>\n",
       "    .dataframe tbody tr th:only-of-type {\n",
       "        vertical-align: middle;\n",
       "    }\n",
       "\n",
       "    .dataframe tbody tr th {\n",
       "        vertical-align: top;\n",
       "    }\n",
       "\n",
       "    .dataframe thead th {\n",
       "        text-align: right;\n",
       "    }\n",
       "</style>\n",
       "<table border=\"1\" class=\"dataframe\">\n",
       "  <thead>\n",
       "    <tr style=\"text-align: right;\">\n",
       "      <th></th>\n",
       "      <th># Columns</th>\n",
       "      <th>Column Name</th>\n",
       "      <th>Full Name</th>\n",
       "      <th>Data Format</th>\n",
       "      <th>Data Range</th>\n",
       "      <th>Description</th>\n",
       "    </tr>\n",
       "  </thead>\n",
       "  <tbody>\n",
       "    <tr>\n",
       "      <th>24</th>\n",
       "      <td>?</td>\n",
       "      <td>d_dystopia</td>\n",
       "      <td>Distance from Dystopia</td>\n",
       "      <td>float64</td>\n",
       "      <td>NaN</td>\n",
       "      <td>NaN</td>\n",
       "    </tr>\n",
       "  </tbody>\n",
       "</table>\n",
       "</div>"
      ],
      "text/plain": [
       "   # Columns Column Name               Full Name Data Format Data Range  \\\n",
       "24         ?  d_dystopia  Distance from Dystopia     float64        NaN   \n",
       "\n",
       "   Description  \n",
       "24         NaN  "
      ]
     },
     "execution_count": 151,
     "metadata": {},
     "output_type": "execute_result"
    }
   ],
   "source": [
    "data_dictionary.sample()"
   ]
  },
  {
   "cell_type": "code",
   "execution_count": 152,
   "id": "c9fa5dce",
   "metadata": {},
   "outputs": [
    {
     "data": {
      "text/html": [
       "<div>\n",
       "<style scoped>\n",
       "    .dataframe tbody tr th:only-of-type {\n",
       "        vertical-align: middle;\n",
       "    }\n",
       "\n",
       "    .dataframe tbody tr th {\n",
       "        vertical-align: top;\n",
       "    }\n",
       "\n",
       "    .dataframe thead th {\n",
       "        text-align: right;\n",
       "    }\n",
       "</style>\n",
       "<table border=\"1\" class=\"dataframe\">\n",
       "  <thead>\n",
       "    <tr style=\"text-align: right;\">\n",
       "      <th></th>\n",
       "      <th>Column Name</th>\n",
       "      <th>Description</th>\n",
       "    </tr>\n",
       "  </thead>\n",
       "  <tbody>\n",
       "    <tr>\n",
       "      <th>0</th>\n",
       "      <td>country</td>\n",
       "      <td>Official Name of the Country in Question</td>\n",
       "    </tr>\n",
       "    <tr>\n",
       "      <th>1</th>\n",
       "      <td>year</td>\n",
       "      <td>Year of the Data Observed</td>\n",
       "    </tr>\n",
       "    <tr>\n",
       "      <th>2</th>\n",
       "      <td>log_gdp</td>\n",
       "      <td>GDP per capita in terms of PPP, taken from Wor...</td>\n",
       "    </tr>\n",
       "    <tr>\n",
       "      <th>3</th>\n",
       "      <td>social_s</td>\n",
       "      <td>If in trouble, are there relatives or friends ...</td>\n",
       "    </tr>\n",
       "    <tr>\n",
       "      <th>4</th>\n",
       "      <td>life_choices</td>\n",
       "      <td>If a person is satisfied or dissatiesfied with...</td>\n",
       "    </tr>\n",
       "    <tr>\n",
       "      <th>5</th>\n",
       "      <td>generosity</td>\n",
       "      <td>Whether a person have given money to charity i...</td>\n",
       "    </tr>\n",
       "    <tr>\n",
       "      <th>6</th>\n",
       "      <td>corruption</td>\n",
       "      <td>Perception of corruption within government and...</td>\n",
       "    </tr>\n",
       "    <tr>\n",
       "      <th>7</th>\n",
       "      <td>positive_a</td>\n",
       "      <td>Average of previous-day affect of happiness, l...</td>\n",
       "    </tr>\n",
       "    <tr>\n",
       "      <th>8</th>\n",
       "      <td>negative_a</td>\n",
       "      <td>Average of previous-day affect of worries, sad...</td>\n",
       "    </tr>\n",
       "    <tr>\n",
       "      <th>9</th>\n",
       "      <td>tot_alc_cons</td>\n",
       "      <td>Average yearly alcohol consumption, reported i...</td>\n",
       "    </tr>\n",
       "    <tr>\n",
       "      <th>10</th>\n",
       "      <td>population</td>\n",
       "      <td>Population historical estiamtes, needed to cal...</td>\n",
       "    </tr>\n",
       "    <tr>\n",
       "      <th>11</th>\n",
       "      <td>spirit_c</td>\n",
       "      <td>Average yearly distillied alcoholics (spirits)...</td>\n",
       "    </tr>\n",
       "    <tr>\n",
       "      <th>12</th>\n",
       "      <td>wine_c</td>\n",
       "      <td>Average yearly wine consumption, reported in l...</td>\n",
       "    </tr>\n",
       "    <tr>\n",
       "      <th>13</th>\n",
       "      <td>beer_c</td>\n",
       "      <td>Average yearly beer consumption, reported in l...</td>\n",
       "    </tr>\n",
       "    <tr>\n",
       "      <th>14</th>\n",
       "      <td>Forest cover</td>\n",
       "      <td>Share of land covered by forest whether produc...</td>\n",
       "    </tr>\n",
       "    <tr>\n",
       "      <th>15</th>\n",
       "      <td>u_pop</td>\n",
       "      <td>Share of people living in urban areas in % of ...</td>\n",
       "    </tr>\n",
       "    <tr>\n",
       "      <th>16</th>\n",
       "      <td>age_dr</td>\n",
       "      <td>Measures the ratio between working-age populat...</td>\n",
       "    </tr>\n",
       "    <tr>\n",
       "      <th>17</th>\n",
       "      <td>women_mgmt</td>\n",
       "      <td>Proportion of women in senior and middle manag...</td>\n",
       "    </tr>\n",
       "    <tr>\n",
       "      <th>18</th>\n",
       "      <td>r_noedu</td>\n",
       "      <td>Share of population with no formal education p...</td>\n",
       "    </tr>\n",
       "    <tr>\n",
       "      <th>19</th>\n",
       "      <td>happiness_s</td>\n",
       "      <td>Estimated through elements like gdp, life expe...</td>\n",
       "    </tr>\n",
       "    <tr>\n",
       "      <th>20</th>\n",
       "      <td>life_ex</td>\n",
       "      <td>The life expecancy score shows the impact by w...</td>\n",
       "    </tr>\n",
       "    <tr>\n",
       "      <th>21</th>\n",
       "      <td>NaN</td>\n",
       "      <td>NaN</td>\n",
       "    </tr>\n",
       "    <tr>\n",
       "      <th>22</th>\n",
       "      <td>NaN</td>\n",
       "      <td>NaN</td>\n",
       "    </tr>\n",
       "    <tr>\n",
       "      <th>23</th>\n",
       "      <td>NaN</td>\n",
       "      <td>NaN</td>\n",
       "    </tr>\n",
       "    <tr>\n",
       "      <th>24</th>\n",
       "      <td>d_dystopia</td>\n",
       "      <td>NaN</td>\n",
       "    </tr>\n",
       "  </tbody>\n",
       "</table>\n",
       "</div>"
      ],
      "text/plain": [
       "     Column Name                                        Description\n",
       "0        country           Official Name of the Country in Question\n",
       "1           year                          Year of the Data Observed\n",
       "2        log_gdp  GDP per capita in terms of PPP, taken from Wor...\n",
       "3       social_s  If in trouble, are there relatives or friends ...\n",
       "4   life_choices  If a person is satisfied or dissatiesfied with...\n",
       "5     generosity  Whether a person have given money to charity i...\n",
       "6     corruption  Perception of corruption within government and...\n",
       "7     positive_a  Average of previous-day affect of happiness, l...\n",
       "8     negative_a  Average of previous-day affect of worries, sad...\n",
       "9   tot_alc_cons  Average yearly alcohol consumption, reported i...\n",
       "10    population  Population historical estiamtes, needed to cal...\n",
       "11      spirit_c  Average yearly distillied alcoholics (spirits)...\n",
       "12        wine_c  Average yearly wine consumption, reported in l...\n",
       "13        beer_c  Average yearly beer consumption, reported in l...\n",
       "14  Forest cover  Share of land covered by forest whether produc...\n",
       "15         u_pop  Share of people living in urban areas in % of ...\n",
       "16        age_dr  Measures the ratio between working-age populat...\n",
       "17    women_mgmt  Proportion of women in senior and middle manag...\n",
       "18       r_noedu  Share of population with no formal education p...\n",
       "19   happiness_s  Estimated through elements like gdp, life expe...\n",
       "20       life_ex  The life expecancy score shows the impact by w...\n",
       "21           NaN                                                NaN\n",
       "22           NaN                                                NaN\n",
       "23           NaN                                                NaN\n",
       "24    d_dystopia                                                NaN"
      ]
     },
     "execution_count": 152,
     "metadata": {},
     "output_type": "execute_result"
    }
   ],
   "source": [
    "# Only start with dataframe from 2 colomn onwards\n",
    "data_dictionary[['Column Name', 'Description']]"
   ]
  }
 ],
 "metadata": {
  "kernelspec": {
   "display_name": "Python 3 (ipykernel)",
   "language": "python",
   "name": "python3"
  },
  "language_info": {
   "codemirror_mode": {
    "name": "ipython",
    "version": 3
   },
   "file_extension": ".py",
   "mimetype": "text/x-python",
   "name": "python",
   "nbconvert_exporter": "python",
   "pygments_lexer": "ipython3",
   "version": "3.9.7"
  }
 },
 "nbformat": 4,
 "nbformat_minor": 5
}
